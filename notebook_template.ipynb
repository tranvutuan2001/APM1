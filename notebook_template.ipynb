{
 "cells": [
  {
   "cell_type": "markdown",
   "id": "1b41eba8",
   "metadata": {
    "pycharm": {
     "name": "#%% md\n"
    }
   },
   "source": [
    "# Setup"
   ]
  },
  {
   "cell_type": "markdown",
   "id": "f3de37ce",
   "metadata": {
    "pycharm": {
     "name": "#%% md\n"
    }
   },
   "source": [
    "Here, we already imported most of the packages that you might want to use"
   ]
  },
  {
   "cell_type": "code",
   "execution_count": 15,
   "id": "88977c7b",
   "metadata": {
    "pycharm": {
     "name": "#%%\n"
    }
   },
   "outputs": [],
   "source": [
    "import os\n",
    "import pandas as pd"
   ]
  },
  {
   "cell_type": "code",
   "execution_count": 16,
   "id": "96f9a4cd",
   "metadata": {
    "pycharm": {
     "name": "#%%\n"
    }
   },
   "outputs": [],
   "source": [
    "import pm4py\n",
    "\n",
    "## Log Util\n",
    "# Log conversion\n",
    "from pm4py.objects.conversion.log import converter as log_converter\n",
    "# Read Log (e.g., If you can not use the simplified interface because you do not have ipywidgets installed)\n",
    "from pm4py.objects.log.importer.xes import importer as xes_importer\n",
    "from pm4py.objects.log.obj import EventLog\n",
    "from pm4py.objects.log.util.log import get_event_labels\n",
    "from pm4py.algo.filtering.log.attributes import attributes_filter\n",
    "from pm4py.algo.filtering.log.variants import variants_filter\n",
    "\n",
    "## Conformance Checking\n",
    "# Token-based replay (e.g., If you can not use the simplified interface because you do not have ipywidgets installed)\n",
    "from pm4py.algo.conformance.tokenreplay import algorithm as token_replay\n",
    "# Standard Alignments (e.g., If you can not use the simplified interface because you do not have ipywidgets installed)\n",
    "from pm4py.algo.conformance.alignments import algorithm as alignments\n",
    "# Footprint\n",
    "from pm4py.algo.conformance.footprints import algorithm as footprints_conformanc\n",
    "from pm4py.algo.discovery.footprints import algorithm as footprints_discovery\n",
    "\n",
    "from pm4py.algo.evaluation.replay_fitness import algorithm as replay_fitness_evaluator\n",
    "from pm4py.algo.evaluation.precision import algorithm as precision_evaluator\n",
    "from pm4py.algo.evaluation.generalization import algorithm as generalization_evaluator\n",
    "from pm4py.algo.evaluation.simplicity import algorithm as simplicity_evaluator\n",
    "\n",
    "## Petri Nets\n",
    "from pm4py.objects.petri_net.obj import PetriNet, Marking\n",
    "from pm4py.objects.petri_net.utils import petri_utils, check_soundness\n",
    "from pm4py.objects.petri_net.importer import importer as pnml_importer\n",
    "from pm4py.objects.petri_net.exporter import exporter as pnml_exporter\n",
    "from pm4py.visualization.petri_net import visualizer as pn_visualizer\n",
    "\n",
    "## Decision Trees\n",
    "from sklearn import tree\n",
    "from pm4py.visualization.decisiontree import visualizer as dectree_visualizer\n",
    "from pm4py.visualization.process_tree import visualizer as pt_visualizer\n",
    "from pm4py.algo.transformation.log_to_features import algorithm as log_to_features\n",
    "from pm4py.objects.log.util import get_class_representation"
   ]
  },
  {
   "cell_type": "code",
   "execution_count": 17,
   "outputs": [],
   "source": [
    "def prepare_dict(dict1, dict2):\n",
    "    # dict1 = alignment\n",
    "    # dict2 = token_replay\n",
    "    res = dict()\n",
    "    for key in dict1:\n",
    "        if key == 'percFitTraces':\n",
    "            res[key] = [dict1[key], dict2['perc_fit_traces']]\n",
    "        elif key == 'averageFitness':\n",
    "            res[key] = [dict1[key], dict2['average_trace_fitness']]\n",
    "        else:\n",
    "            res[key] = [dict1[key], dict2[key]]\n",
    "    return res"
   ],
   "metadata": {
    "collapsed": false,
    "pycharm": {
     "name": "#%%\n"
    }
   }
  },
  {
   "cell_type": "markdown",
   "id": "4c06e9f0",
   "metadata": {
    "pycharm": {
     "name": "#%% md\n"
    }
   },
   "source": [
    "# Hints\n",
    "**Have look at the simplified interface of PM4Py $\\rightarrow$ Click on the 'See Simplified Interface' buttons on the documentation page**\n",
    "\n",
    "Good way to convert a DataFrame so that it works nicely in PM4Py\n",
    "```python\n",
    "df = pm4py.format_dataframe(df, case_id=case_id_column activity_key=activity_column, timestamp_key=timestamp_column)\n",
    "```\n",
    "\n",
    "If you do not have ipywidgets installed, you'll probably encounter the ```IProgress not found``` error.\n",
    "In that case, it should help to deactivate the progress bar by passing a dictionary with the following key:\n",
    "```python\n",
    "{'show_progress_bar': False}\n",
    "```\n",
    "However, currently you can not use the simplified interface then. Instead you have to use the base functions.\n",
    "For example, for importing a log without progress bar, you can use\n",
    "```\n",
    "log = xes_importer.apply('log.xes',parameters={'show_progress_bar':False})\n",
    "```\n",
    "If you have ipywidgets installed\n",
    "```python\n",
    "log = pm4py.read_xes(file_path)\n",
    "```\n",
    "can be used."
   ]
  },
  {
   "cell_type": "code",
   "execution_count": 18,
   "id": "fb595f46",
   "metadata": {
    "pycharm": {
     "name": "#%%\n"
    }
   },
   "outputs": [
    {
     "data": {
      "text/plain": "parsing log, completed traces ::   0%|          | 0/4960 [00:00<?, ?it/s]",
      "application/vnd.jupyter.widget-view+json": {
       "version_major": 2,
       "version_minor": 0,
       "model_id": "5ded49850fc247c79b2f487e9e723b9d"
      }
     },
     "metadata": {},
     "output_type": "display_data"
    }
   ],
   "source": [
    "log = pm4py.read_xes(\"logs/log_vaccination.xes\")"
   ]
  },
  {
   "cell_type": "markdown",
   "id": "a5be582d",
   "metadata": {
    "pycharm": {
     "name": "#%% md\n"
    }
   },
   "source": [
    "# Process Overview"
   ]
  },
  {
   "cell_type": "code",
   "execution_count": 18,
   "id": "ff334409",
   "metadata": {
    "pycharm": {
     "name": "#%%\n"
    }
   },
   "outputs": [],
   "source": []
  },
  {
   "cell_type": "markdown",
   "id": "c7098bda",
   "metadata": {
    "pycharm": {
     "name": "#%% md\n"
    }
   },
   "source": [
    "# Process Discovery"
   ]
  },
  {
   "cell_type": "markdown",
   "source": [
    " <font size=\"5\">Question 2a</font>"
   ],
   "metadata": {
    "collapsed": false,
    "pycharm": {
     "name": "#%% md\n"
    }
   }
  },
  {
   "cell_type": "code",
   "execution_count": 19,
   "id": "fb97ac09",
   "metadata": {
    "pycharm": {
     "name": "#%%\n"
    }
   },
   "outputs": [
    {
     "name": "stdout",
     "output_type": "stream",
     "text": [
      "Size of original log: 4960\n",
      "Size of filtered log: 3444\n",
      "Removed end activities: {'Checkout', 'Priority Appointment granted', 'Send Invoice', 'Decline vaccination', 'Vaccinate'}\n"
     ]
    }
   ],
   "source": [
    "from pm4py.algo.filtering.log.end_activities import end_activities_filter\n",
    "\n",
    "true_end_activities = ['Checkout No Vacc', 'Decline Vaccination', 'Destroy Vacc', 'Notify about vacc. possibility',\n",
    "                       'Send Vaccination Certificate']\n",
    "in_log_end_activities = set(end_activities_filter.get_end_activities(log).keys())\n",
    "filtered_log = end_activities_filter.apply(log, true_end_activities)\n",
    "\n",
    "removed_activities = in_log_end_activities - set(true_end_activities)\n",
    "\n",
    "print(f'Size of original log: {len(log)}')\n",
    "print(f'Size of filtered log: {len(filtered_log)}')\n",
    "print(f'Removed end activities: {removed_activities}')"
   ]
  },
  {
   "cell_type": "markdown",
   "source": [
    " <font size=\"5\">Question 2b</font>"
   ],
   "metadata": {
    "collapsed": false,
    "pycharm": {
     "name": "#%% md\n"
    }
   }
  },
  {
   "cell_type": "code",
   "execution_count": 20,
   "outputs": [
    {
     "data": {
      "text/plain": "parsing log, completed traces ::   0%|          | 0/3978 [00:00<?, ?it/s]",
      "application/vnd.jupyter.widget-view+json": {
       "version_major": 2,
       "version_minor": 0,
       "model_id": "0c60db70b0b3468b822d6ffb9ecf6b24"
      }
     },
     "metadata": {},
     "output_type": "display_data"
    }
   ],
   "source": [
    "log_2b = pm4py.read_xes(\"logs/log_vaccination_finished_cases.xes\")\n",
    "from pm4py.objects.petri.importer import importer as petri_net_importer\n",
    "from pm4py.algo.conformance.alignments.petri_net import algorithm as alignments\n",
    "from pm4py.algo.conformance.tokenreplay import algorithm as token_replay\n",
    "from pm4py.algo.evaluation.replay_fitness import algorithm as replay_fitness\n",
    "from pm4py.algo.evaluation.precision import algorithm as precision_evaluator\n",
    "from pm4py.algo.evaluation.simplicity import algorithm as simplicity_evaluator\n",
    "from pm4py.algo.evaluation.generalization import algorithm as generalization_evaluator"
   ],
   "metadata": {
    "collapsed": false,
    "pycharm": {
     "name": "#%%\n"
    }
   }
  },
  {
   "cell_type": "code",
   "execution_count": 21,
   "outputs": [],
   "source": [
    "def fitness_precision_df_calculator(net, initial_marking, final_marking):\n",
    "    try:\n",
    "        aligned_traces_IM = alignments.apply_log(log_2b, net, initial_marking, final_marking)\n",
    "        fitness_alignment_IM = replay_fitness.evaluate(aligned_traces_IM, variant=replay_fitness.Variants.ALIGNMENT_BASED)\n",
    "        precision_alignment_IM = precision_evaluator.apply(log_2b, net, initial_marking, final_marking, variant=precision_evaluator.Variants.ALIGN_ETCONFORMANCE)\n",
    "    except:\n",
    "        fitness_alignment_IM = {'percFitTraces': 0, 'averageFitness': 0, 'percentage_of_fitting_traces': 0, 'average_trace_fitness': 0}\n",
    "        precision_alignment_IM = 0\n",
    "    replayed_traces_IM = token_replay.apply(log_2b, net, initial_marking, final_marking)\n",
    "    fitness_token_replay_IM = replay_fitness.evaluate(replayed_traces_IM, variant=replay_fitness.Variants.TOKEN_BASED)\n",
    "    precision_token_replay_IM = precision_evaluator.apply(log_2b, net, initial_marking, final_marking, variant=precision_evaluator.Variants.ETCONFORMANCE_TOKEN)\n",
    "\n",
    "    df_fitness = pd.DataFrame(prepare_dict(fitness_alignment_IM, fitness_token_replay_IM), index = ['alignment', 'token_replay'])\n",
    "    df_precision = pd.DataFrame({'precision': [precision_alignment_IM, precision_token_replay_IM]}, index = ['alignment', 'token_replay'])\n",
    "    return pd.concat([df_fitness, df_precision], axis=1)\n",
    "\n",
    "def simplicity_and_generalization_calculator(net, initial_marking, final_marking):\n",
    "    simplicity = simplicity_evaluator.apply(net)\n",
    "    generalization = generalization_evaluator.apply(log_2b, net, initial_marking, final_marking)\n",
    "    return simplicity, generalization"
   ],
   "metadata": {
    "collapsed": false,
    "pycharm": {
     "name": "#%%\n"
    }
   }
  },
  {
   "cell_type": "code",
   "execution_count": 22,
   "outputs": [
    {
     "data": {
      "text/plain": "aligning log, completed variants ::   0%|          | 0/409 [00:00<?, ?it/s]",
      "application/vnd.jupyter.widget-view+json": {
       "version_major": 2,
       "version_minor": 0,
       "model_id": "82a3a02d8e50499f9186160210128c76"
      }
     },
     "metadata": {},
     "output_type": "display_data"
    },
    {
     "data": {
      "text/plain": "computing precision with alignments, completed variants ::   0%|          | 0/2925 [00:00<?, ?it/s]",
      "application/vnd.jupyter.widget-view+json": {
       "version_major": 2,
       "version_minor": 0,
       "model_id": "9605e687faff436abbce174ddad14c15"
      }
     },
     "metadata": {},
     "output_type": "display_data"
    },
    {
     "data": {
      "text/plain": "replaying log with TBR, completed variants ::   0%|          | 0/409 [00:00<?, ?it/s]",
      "application/vnd.jupyter.widget-view+json": {
       "version_major": 2,
       "version_minor": 0,
       "model_id": "6f41335d87764e1487e453f6cb5ef40c"
      }
     },
     "metadata": {},
     "output_type": "display_data"
    },
    {
     "data": {
      "text/plain": "replaying log with TBR, completed variants ::   0%|          | 0/2925 [00:00<?, ?it/s]",
      "application/vnd.jupyter.widget-view+json": {
       "version_major": 2,
       "version_minor": 0,
       "model_id": "8d6e3625f6254ab082f83c33e2fc4f09"
      }
     },
     "metadata": {},
     "output_type": "display_data"
    },
    {
     "name": "stdout",
     "output_type": "stream",
     "text": [
      "Inductive Miner\n"
     ]
    },
    {
     "data": {
      "text/plain": "              percFitTraces  averageFitness  percentage_of_fitting_traces  \\\nalignment          44.94721        0.924319                      44.94721   \ntoken_replay       44.94721        0.936411                      44.94721   \n\n              average_trace_fitness  log_fitness  precision  \nalignment                  0.924319     0.945467   0.920100  \ntoken_replay               0.936411     0.965519   0.919382  ",
      "text/html": "<div>\n<style scoped>\n    .dataframe tbody tr th:only-of-type {\n        vertical-align: middle;\n    }\n\n    .dataframe tbody tr th {\n        vertical-align: top;\n    }\n\n    .dataframe thead th {\n        text-align: right;\n    }\n</style>\n<table border=\"1\" class=\"dataframe\">\n  <thead>\n    <tr style=\"text-align: right;\">\n      <th></th>\n      <th>percFitTraces</th>\n      <th>averageFitness</th>\n      <th>percentage_of_fitting_traces</th>\n      <th>average_trace_fitness</th>\n      <th>log_fitness</th>\n      <th>precision</th>\n    </tr>\n  </thead>\n  <tbody>\n    <tr>\n      <th>alignment</th>\n      <td>44.94721</td>\n      <td>0.924319</td>\n      <td>44.94721</td>\n      <td>0.924319</td>\n      <td>0.945467</td>\n      <td>0.920100</td>\n    </tr>\n    <tr>\n      <th>token_replay</th>\n      <td>44.94721</td>\n      <td>0.936411</td>\n      <td>44.94721</td>\n      <td>0.936411</td>\n      <td>0.965519</td>\n      <td>0.919382</td>\n    </tr>\n  </tbody>\n</table>\n</div>"
     },
     "execution_count": 22,
     "metadata": {},
     "output_type": "execute_result"
    }
   ],
   "source": [
    "net_IM, initial_marking_IM, final_marking_IM = petri_net_importer.apply('./pnml/Petri-net-IM.pnml')\n",
    "df_IM = fitness_precision_df_calculator(net_IM, initial_marking_IM, final_marking_IM)\n",
    "print('Inductive Miner')\n",
    "df_IM"
   ],
   "metadata": {
    "collapsed": false,
    "pycharm": {
     "name": "#%%\n"
    }
   }
  },
  {
   "cell_type": "markdown",
   "source": [],
   "metadata": {
    "collapsed": false,
    "pycharm": {
     "name": "#%% md\n"
    }
   }
  },
  {
   "cell_type": "code",
   "execution_count": 23,
   "outputs": [
    {
     "data": {
      "text/plain": "replaying log with TBR, completed variants ::   0%|          | 0/409 [00:00<?, ?it/s]",
      "application/vnd.jupyter.widget-view+json": {
       "version_major": 2,
       "version_minor": 0,
       "model_id": "c17a88bd71be4829b3cca69cc585d12d"
      }
     },
     "metadata": {},
     "output_type": "display_data"
    },
    {
     "data": {
      "text/plain": "replaying log with TBR, completed variants ::   0%|          | 0/2925 [00:00<?, ?it/s]",
      "application/vnd.jupyter.widget-view+json": {
       "version_major": 2,
       "version_minor": 0,
       "model_id": "76cd271a87594024b2ca9a4d2a8d5c3e"
      }
     },
     "metadata": {},
     "output_type": "display_data"
    },
    {
     "name": "stdout",
     "output_type": "stream",
     "text": [
      "Alpha Miner\n"
     ]
    },
    {
     "data": {
      "text/plain": "              percFitTraces  averageFitness  percentage_of_fitting_traces  \\\nalignment               0.0        0.000000                           0.0   \ntoken_replay            0.0        0.770813                           0.0   \n\n              average_trace_fitness  precision  \nalignment                  0.000000   0.000000  \ntoken_replay               0.770813   0.399455  ",
      "text/html": "<div>\n<style scoped>\n    .dataframe tbody tr th:only-of-type {\n        vertical-align: middle;\n    }\n\n    .dataframe tbody tr th {\n        vertical-align: top;\n    }\n\n    .dataframe thead th {\n        text-align: right;\n    }\n</style>\n<table border=\"1\" class=\"dataframe\">\n  <thead>\n    <tr style=\"text-align: right;\">\n      <th></th>\n      <th>percFitTraces</th>\n      <th>averageFitness</th>\n      <th>percentage_of_fitting_traces</th>\n      <th>average_trace_fitness</th>\n      <th>precision</th>\n    </tr>\n  </thead>\n  <tbody>\n    <tr>\n      <th>alignment</th>\n      <td>0.0</td>\n      <td>0.000000</td>\n      <td>0.0</td>\n      <td>0.000000</td>\n      <td>0.000000</td>\n    </tr>\n    <tr>\n      <th>token_replay</th>\n      <td>0.0</td>\n      <td>0.770813</td>\n      <td>0.0</td>\n      <td>0.770813</td>\n      <td>0.399455</td>\n    </tr>\n  </tbody>\n</table>\n</div>"
     },
     "execution_count": 23,
     "metadata": {},
     "output_type": "execute_result"
    }
   ],
   "source": [
    "net_Alpha, initial_marking_Alpha, final_marking_Alpha = petri_net_importer.apply('./pnml/Petri-net-Alpha.pnml')\n",
    "df_alpha = fitness_precision_df_calculator(net_Alpha, initial_marking_Alpha, final_marking_Alpha)\n",
    "print('Alpha Miner')\n",
    "df_alpha"
   ],
   "metadata": {
    "collapsed": false,
    "pycharm": {
     "name": "#%%\n"
    }
   }
  },
  {
   "cell_type": "code",
   "execution_count": 24,
   "outputs": [
    {
     "data": {
      "text/plain": "aligning log, completed variants ::   0%|          | 0/409 [00:00<?, ?it/s]",
      "application/vnd.jupyter.widget-view+json": {
       "version_major": 2,
       "version_minor": 0,
       "model_id": "e5a1a8c1453c46c39f83c07e384d5935"
      }
     },
     "metadata": {},
     "output_type": "display_data"
    },
    {
     "data": {
      "text/plain": "computing precision with alignments, completed variants ::   0%|          | 0/2925 [00:00<?, ?it/s]",
      "application/vnd.jupyter.widget-view+json": {
       "version_major": 2,
       "version_minor": 0,
       "model_id": "290c838b45cd49fcbae8b710655932db"
      }
     },
     "metadata": {},
     "output_type": "display_data"
    },
    {
     "data": {
      "text/plain": "replaying log with TBR, completed variants ::   0%|          | 0/409 [00:00<?, ?it/s]",
      "application/vnd.jupyter.widget-view+json": {
       "version_major": 2,
       "version_minor": 0,
       "model_id": "2e4170356a824c55b95070497cba928e"
      }
     },
     "metadata": {},
     "output_type": "display_data"
    },
    {
     "data": {
      "text/plain": "replaying log with TBR, completed variants ::   0%|          | 0/2925 [00:00<?, ?it/s]",
      "application/vnd.jupyter.widget-view+json": {
       "version_major": 2,
       "version_minor": 0,
       "model_id": "3151024e89124780a84a01b88f7bb669"
      }
     },
     "metadata": {},
     "output_type": "display_data"
    },
    {
     "name": "stdout",
     "output_type": "stream",
     "text": [
      "Heuristic Miner\n"
     ]
    },
    {
     "data": {
      "text/plain": "              percFitTraces  averageFitness  percentage_of_fitting_traces  \\\nalignment          1.231775        0.802888                      1.231775   \ntoken_replay       1.231775        0.953413                      1.231775   \n\n              average_trace_fitness  log_fitness  precision  \nalignment                  0.802888     0.828002   0.799438  \ntoken_replay               0.953413     0.966809   0.799438  ",
      "text/html": "<div>\n<style scoped>\n    .dataframe tbody tr th:only-of-type {\n        vertical-align: middle;\n    }\n\n    .dataframe tbody tr th {\n        vertical-align: top;\n    }\n\n    .dataframe thead th {\n        text-align: right;\n    }\n</style>\n<table border=\"1\" class=\"dataframe\">\n  <thead>\n    <tr style=\"text-align: right;\">\n      <th></th>\n      <th>percFitTraces</th>\n      <th>averageFitness</th>\n      <th>percentage_of_fitting_traces</th>\n      <th>average_trace_fitness</th>\n      <th>log_fitness</th>\n      <th>precision</th>\n    </tr>\n  </thead>\n  <tbody>\n    <tr>\n      <th>alignment</th>\n      <td>1.231775</td>\n      <td>0.802888</td>\n      <td>1.231775</td>\n      <td>0.802888</td>\n      <td>0.828002</td>\n      <td>0.799438</td>\n    </tr>\n    <tr>\n      <th>token_replay</th>\n      <td>1.231775</td>\n      <td>0.953413</td>\n      <td>1.231775</td>\n      <td>0.953413</td>\n      <td>0.966809</td>\n      <td>0.799438</td>\n    </tr>\n  </tbody>\n</table>\n</div>"
     },
     "execution_count": 24,
     "metadata": {},
     "output_type": "execute_result"
    }
   ],
   "source": [
    "net_Heuristic, initial_marking_Heuristic, final_marking_Heuristic = petri_net_importer.apply('./pnml/Petri-net-Heuristic.pnml')\n",
    "df_Heuristic = fitness_precision_df_calculator(net_Heuristic, initial_marking_Heuristic, final_marking_Heuristic)\n",
    "print('Heuristic Miner')\n",
    "df_Heuristic"
   ],
   "metadata": {
    "collapsed": false,
    "pycharm": {
     "name": "#%%\n"
    }
   }
  },
  {
   "cell_type": "code",
   "execution_count": 25,
   "outputs": [
    {
     "data": {
      "text/plain": "aligning log, completed variants ::   0%|          | 0/409 [00:00<?, ?it/s]",
      "application/vnd.jupyter.widget-view+json": {
       "version_major": 2,
       "version_minor": 0,
       "model_id": "6404a412cf7f4d0ea424854b8cbde823"
      }
     },
     "metadata": {},
     "output_type": "display_data"
    },
    {
     "data": {
      "text/plain": "computing precision with alignments, completed variants ::   0%|          | 0/2925 [00:00<?, ?it/s]",
      "application/vnd.jupyter.widget-view+json": {
       "version_major": 2,
       "version_minor": 0,
       "model_id": "8f068bbc04194baf99c993d72bb4c0af"
      }
     },
     "metadata": {},
     "output_type": "display_data"
    },
    {
     "data": {
      "text/plain": "replaying log with TBR, completed variants ::   0%|          | 0/409 [00:00<?, ?it/s]",
      "application/vnd.jupyter.widget-view+json": {
       "version_major": 2,
       "version_minor": 0,
       "model_id": "22c5d3d6fdef4598aded581d316ce2aa"
      }
     },
     "metadata": {},
     "output_type": "display_data"
    },
    {
     "data": {
      "text/plain": "replaying log with TBR, completed variants ::   0%|          | 0/2925 [00:00<?, ?it/s]",
      "application/vnd.jupyter.widget-view+json": {
       "version_major": 2,
       "version_minor": 0,
       "model_id": "27b1ec99b4d34ae888f2ed087fcd31fa"
      }
     },
     "metadata": {},
     "output_type": "display_data"
    },
    {
     "name": "stdout",
     "output_type": "stream",
     "text": [
      "ILP Miner\n"
     ]
    },
    {
     "data": {
      "text/plain": "              percFitTraces  averageFitness  percentage_of_fitting_traces  \\\nalignment         31.171443        0.837280                     31.171443   \ntoken_replay      31.171443        0.927118                     31.171443   \n\n              average_trace_fitness  log_fitness  precision  \nalignment                  0.837280     0.883531   0.937179  \ntoken_replay               0.927118     0.962532   0.910164  ",
      "text/html": "<div>\n<style scoped>\n    .dataframe tbody tr th:only-of-type {\n        vertical-align: middle;\n    }\n\n    .dataframe tbody tr th {\n        vertical-align: top;\n    }\n\n    .dataframe thead th {\n        text-align: right;\n    }\n</style>\n<table border=\"1\" class=\"dataframe\">\n  <thead>\n    <tr style=\"text-align: right;\">\n      <th></th>\n      <th>percFitTraces</th>\n      <th>averageFitness</th>\n      <th>percentage_of_fitting_traces</th>\n      <th>average_trace_fitness</th>\n      <th>log_fitness</th>\n      <th>precision</th>\n    </tr>\n  </thead>\n  <tbody>\n    <tr>\n      <th>alignment</th>\n      <td>31.171443</td>\n      <td>0.837280</td>\n      <td>31.171443</td>\n      <td>0.837280</td>\n      <td>0.883531</td>\n      <td>0.937179</td>\n    </tr>\n    <tr>\n      <th>token_replay</th>\n      <td>31.171443</td>\n      <td>0.927118</td>\n      <td>31.171443</td>\n      <td>0.927118</td>\n      <td>0.962532</td>\n      <td>0.910164</td>\n    </tr>\n  </tbody>\n</table>\n</div>"
     },
     "execution_count": 25,
     "metadata": {},
     "output_type": "execute_result"
    }
   ],
   "source": [
    "net_ILP, initial_marking_ILP, final_marking_ILP = petri_net_importer.apply('./pnml/Petri-net-ILP.pnml')\n",
    "df_ILP = fitness_precision_df_calculator(net_ILP, initial_marking_ILP, final_marking_ILP)\n",
    "print('ILP Miner')\n",
    "df_ILP"
   ],
   "metadata": {
    "collapsed": false,
    "pycharm": {
     "name": "#%%\n"
    }
   }
  },
  {
   "cell_type": "code",
   "execution_count": 26,
   "outputs": [
    {
     "data": {
      "text/plain": "replaying log with TBR, completed variants ::   0%|          | 0/409 [00:00<?, ?it/s]",
      "application/vnd.jupyter.widget-view+json": {
       "version_major": 2,
       "version_minor": 0,
       "model_id": "3acc673051444c7cb014a531c2e921a0"
      }
     },
     "metadata": {},
     "output_type": "display_data"
    },
    {
     "data": {
      "text/plain": "replaying log with TBR, completed variants ::   0%|          | 0/2925 [00:00<?, ?it/s]",
      "application/vnd.jupyter.widget-view+json": {
       "version_major": 2,
       "version_minor": 0,
       "model_id": "328bb9d501c340838f1ae7f358f07ccd"
      }
     },
     "metadata": {},
     "output_type": "display_data"
    },
    {
     "name": "stdout",
     "output_type": "stream",
     "text": [
      "State Region Miner\n"
     ]
    },
    {
     "data": {
      "text/plain": "              percFitTraces  averageFitness  percentage_of_fitting_traces  \\\nalignment               0.0        0.000000                           0.0   \ntoken_replay            0.0        0.928056                           0.0   \n\n              average_trace_fitness  precision  \nalignment                  0.000000   0.000000  \ntoken_replay               0.928056   0.540627  ",
      "text/html": "<div>\n<style scoped>\n    .dataframe tbody tr th:only-of-type {\n        vertical-align: middle;\n    }\n\n    .dataframe tbody tr th {\n        vertical-align: top;\n    }\n\n    .dataframe thead th {\n        text-align: right;\n    }\n</style>\n<table border=\"1\" class=\"dataframe\">\n  <thead>\n    <tr style=\"text-align: right;\">\n      <th></th>\n      <th>percFitTraces</th>\n      <th>averageFitness</th>\n      <th>percentage_of_fitting_traces</th>\n      <th>average_trace_fitness</th>\n      <th>precision</th>\n    </tr>\n  </thead>\n  <tbody>\n    <tr>\n      <th>alignment</th>\n      <td>0.0</td>\n      <td>0.000000</td>\n      <td>0.0</td>\n      <td>0.000000</td>\n      <td>0.000000</td>\n    </tr>\n    <tr>\n      <th>token_replay</th>\n      <td>0.0</td>\n      <td>0.928056</td>\n      <td>0.0</td>\n      <td>0.928056</td>\n      <td>0.540627</td>\n    </tr>\n  </tbody>\n</table>\n</div>"
     },
     "execution_count": 26,
     "metadata": {},
     "output_type": "execute_result"
    }
   ],
   "source": [
    "net_state_region_miner, initial_marking_state_region_miner, final_marking_state_region_miner = petri_net_importer.apply(\n",
    "    './pnml/Petri-net-state-region-miner.pnml')\n",
    "df_state_region_miner = fitness_precision_df_calculator(net_state_region_miner, initial_marking_state_region_miner, final_marking_state_region_miner)\n",
    "print('State Region Miner')\n",
    "df_state_region_miner\n"
   ],
   "metadata": {
    "collapsed": false,
    "pycharm": {
     "name": "#%%\n"
    }
   }
  },
  {
   "cell_type": "code",
   "execution_count": 27,
   "outputs": [
    {
     "data": {
      "text/plain": "replaying log with TBR, completed variants ::   0%|          | 0/409 [00:00<?, ?it/s]",
      "application/vnd.jupyter.widget-view+json": {
       "version_major": 2,
       "version_minor": 0,
       "model_id": "7aa22e58d29a47fa8e076340b7f54519"
      }
     },
     "metadata": {},
     "output_type": "display_data"
    },
    {
     "data": {
      "text/plain": "replaying log with TBR, completed variants ::   0%|          | 0/409 [00:00<?, ?it/s]",
      "application/vnd.jupyter.widget-view+json": {
       "version_major": 2,
       "version_minor": 0,
       "model_id": "61600a993ef04156b6a3fa89e176bb10"
      }
     },
     "metadata": {},
     "output_type": "display_data"
    },
    {
     "data": {
      "text/plain": "replaying log with TBR, completed variants ::   0%|          | 0/409 [00:00<?, ?it/s]",
      "application/vnd.jupyter.widget-view+json": {
       "version_major": 2,
       "version_minor": 0,
       "model_id": "e72d75ebd7704888a3a0f8eb428ec080"
      }
     },
     "metadata": {},
     "output_type": "display_data"
    },
    {
     "data": {
      "text/plain": "replaying log with TBR, completed variants ::   0%|          | 0/409 [00:00<?, ?it/s]",
      "application/vnd.jupyter.widget-view+json": {
       "version_major": 2,
       "version_minor": 0,
       "model_id": "b1b5d30a528f40c39c54f0bbf1625dc6"
      }
     },
     "metadata": {},
     "output_type": "display_data"
    },
    {
     "data": {
      "text/plain": "replaying log with TBR, completed variants ::   0%|          | 0/409 [00:00<?, ?it/s]",
      "application/vnd.jupyter.widget-view+json": {
       "version_major": 2,
       "version_minor": 0,
       "model_id": "c2b501db2e714651ad473b54c84c630f"
      }
     },
     "metadata": {},
     "output_type": "display_data"
    },
    {
     "data": {
      "text/plain": "              simplicity  generalization\nIM              0.795918        0.937063\nAlpha           0.398601        0.972661\nHeuristic       0.664596        0.932175\nILP             0.271028        0.984557\nState Region    0.473684        0.883210",
      "text/html": "<div>\n<style scoped>\n    .dataframe tbody tr th:only-of-type {\n        vertical-align: middle;\n    }\n\n    .dataframe tbody tr th {\n        vertical-align: top;\n    }\n\n    .dataframe thead th {\n        text-align: right;\n    }\n</style>\n<table border=\"1\" class=\"dataframe\">\n  <thead>\n    <tr style=\"text-align: right;\">\n      <th></th>\n      <th>simplicity</th>\n      <th>generalization</th>\n    </tr>\n  </thead>\n  <tbody>\n    <tr>\n      <th>IM</th>\n      <td>0.795918</td>\n      <td>0.937063</td>\n    </tr>\n    <tr>\n      <th>Alpha</th>\n      <td>0.398601</td>\n      <td>0.972661</td>\n    </tr>\n    <tr>\n      <th>Heuristic</th>\n      <td>0.664596</td>\n      <td>0.932175</td>\n    </tr>\n    <tr>\n      <th>ILP</th>\n      <td>0.271028</td>\n      <td>0.984557</td>\n    </tr>\n    <tr>\n      <th>State Region</th>\n      <td>0.473684</td>\n      <td>0.883210</td>\n    </tr>\n  </tbody>\n</table>\n</div>"
     },
     "execution_count": 27,
     "metadata": {},
     "output_type": "execute_result"
    }
   ],
   "source": [
    "simplicity_IM, generalization_IM = simplicity_and_generalization_calculator(net_IM, initial_marking_IM, final_marking_IM)\n",
    "simplicity_alpha, generalization_alpha = simplicity_and_generalization_calculator(net_Alpha, initial_marking_Alpha, final_marking_Alpha)\n",
    "simplicity_heuristic, generalization_heuristic = simplicity_and_generalization_calculator(net_Heuristic, initial_marking_Heuristic, final_marking_Heuristic)\n",
    "simplicity_ilp, generalization_ilp = simplicity_and_generalization_calculator(net_ILP, initial_marking_ILP, final_marking_ILP)\n",
    "simplicity_state_region_miner, generalization_state_region_miner = simplicity_and_generalization_calculator(net_state_region_miner, initial_marking_state_region_miner, final_marking_state_region_miner)\n",
    "\n",
    "df_simplicity_generalition = pd.DataFrame({\n",
    "    'simplicity': [simplicity_IM, simplicity_alpha, simplicity_heuristic, simplicity_ilp, simplicity_state_region_miner],\n",
    "    'generalization': [generalization_IM, generalization_alpha, generalization_heuristic, generalization_ilp, generalization_state_region_miner]\n",
    "}, index=['IM', 'Alpha', 'Heuristic', 'ILP', 'State Region'])\n",
    "\n",
    "df_simplicity_generalition"
   ],
   "metadata": {
    "collapsed": false,
    "pycharm": {
     "name": "#%%\n"
    }
   }
  },
  {
   "cell_type": "markdown",
   "id": "a0e85ef5",
   "metadata": {
    "pycharm": {
     "name": "#%% md\n"
    }
   },
   "source": [
    "# Conformance Checking"
   ]
  },
  {
   "cell_type": "code",
   "execution_count": 27,
   "id": "36748770",
   "metadata": {
    "pycharm": {
     "name": "#%%\n"
    }
   },
   "outputs": [],
   "source": []
  },
  {
   "cell_type": "markdown",
   "id": "e0fa0083",
   "metadata": {
    "pycharm": {
     "name": "#%% md\n"
    }
   },
   "source": [
    "# Performance"
   ]
  },
  {
   "cell_type": "code",
   "execution_count": 27,
   "id": "92cf385a",
   "metadata": {
    "pycharm": {
     "name": "#%%\n"
    }
   },
   "outputs": [],
   "source": []
  }
 ],
 "metadata": {
  "kernelspec": {
   "display_name": "Python 3",
   "language": "python",
   "name": "python3"
  },
  "language_info": {
   "codemirror_mode": {
    "name": "ipython",
    "version": 3
   },
   "file_extension": ".py",
   "mimetype": "text/x-python",
   "name": "python",
   "nbconvert_exporter": "python",
   "pygments_lexer": "ipython3",
   "version": "3.9.5"
  }
 },
 "nbformat": 4,
 "nbformat_minor": 5
}
{
 "cells": [
  {
   "cell_type": "markdown",
   "id": "1b41eba8",
   "metadata": {
    "pycharm": {
     "name": "#%% md\n"
    }
   },
   "source": [
    "# Setup"
   ]
  },
  {
   "cell_type": "markdown",
   "id": "f3de37ce",
   "metadata": {
    "pycharm": {
     "name": "#%% md\n"
    }
   },
   "source": [
    "Here, we already imported most of the packages that you might want to use"
   ]
  },
  {
   "cell_type": "code",
   "execution_count": 1,
   "id": "88977c7b",
   "metadata": {
    "pycharm": {
     "name": "#%%\n"
    }
   },
   "outputs": [],
   "source": [
    "import os\n",
    "import pandas as pd"
   ]
  },
  {
   "cell_type": "code",
   "execution_count": 2,
   "outputs": [
    {
     "name": "stderr",
     "output_type": "stream",
     "text": [
      "C:\\Users\\adivtran\\Desktop\\projects\\APM1\\venv\\lib\\site-packages\\pm4py\\algo\\conformance\\alignments\\algorithm.py:19: UserWarning: please use pm4py.algo.conformance.alignments.petri_net.algorithm instead\n",
      "  warnings.warn(\"please use pm4py.algo.conformance.alignments.petri_net.algorithm instead\")\n"
     ]
    }
   ],
   "source": [
    "import pm4py\n",
    "\n",
    "## Log Util\n",
    "# Log conversion\n",
    "from pm4py.objects.conversion.log import converter as log_converter\n",
    "# Read Log (e.g., If you can not use the simplified interface because you do not have ipywidgets installed)\n",
    "from pm4py.objects.log.importer.xes import importer as xes_importer\n",
    "from pm4py.objects.log.obj import EventLog\n",
    "from pm4py.objects.log.util.log import get_event_labels\n",
    "from pm4py.algo.filtering.log.attributes import attributes_filter\n",
    "from pm4py.algo.filtering.log.variants import variants_filter\n",
    "\n",
    "## Conformance Checking\n",
    "# Token-based replay (e.g., If you can not use the simplified interface because you do not have ipywidgets installed)\n",
    "from pm4py.algo.conformance.tokenreplay import algorithm as token_replay\n",
    "# Standard Alignments (e.g., If you can not use the simplified interface because you do not have ipywidgets installed)\n",
    "from pm4py.algo.conformance.alignments import algorithm as alignments\n",
    "# Footprint\n",
    "from pm4py.algo.conformance.footprints import algorithm as footprints_conformance\n",
    "from pm4py.algo.discovery.footprints import algorithm as footprints_discovery\n",
    "\n",
    "from pm4py.algo.evaluation.replay_fitness import algorithm as replay_fitness_evaluator\n",
    "from pm4py.algo.evaluation.precision import algorithm as precision_evaluator\n",
    "from pm4py.algo.evaluation.generalization import algorithm as generalization_evaluator\n",
    "from pm4py.algo.evaluation.simplicity import algorithm as simplicity_evaluator\n",
    "\n",
    "## Petri Nets\n",
    "from pm4py.objects.petri_net.obj import PetriNet, Marking\n",
    "from pm4py.objects.petri_net.utils import petri_utils, check_soundness\n",
    "from pm4py.objects.petri_net.importer import importer as pnml_importer\n",
    "from pm4py.objects.petri_net.exporter import exporter as pnml_exporter\n",
    "from pm4py.visualization.petri_net import visualizer as pn_visualizer\n",
    "\n",
    "## Decision Trees\n",
    "from sklearn import tree\n",
    "from pm4py.visualization.decisiontree import visualizer as dectree_visualizer\n",
    "from pm4py.visualization.process_tree import visualizer as pt_visualizer\n",
    "from pm4py.algo.transformation.log_to_features import algorithm as log_to_features\n",
    "from pm4py.objects.log.util import get_class_representation"
   ],
   "metadata": {
    "collapsed": false,
    "pycharm": {
     "name": "#%%\n"
    }
   }
  },
  {
   "cell_type": "markdown",
   "source": [
    "# Hints\n",
    "**Have look at the simplified interface of PM4Py $\\rightarrow$ Click on the 'See Simplified Interface' buttons on the documentation page**\n",
    "\n",
    "Good way to convert a DataFrame so that it works nicely in PM4Py\n",
    "```python\n",
    "df = pm4py.format_dataframe(df, case_id=case_id_column activity_key=activity_column, timestamp_key=timestamp_column)\n",
    "```\n",
    "\n",
    "If you do not have ipywidgets installed, you'll probably encounter the ```IProgress not found``` error.\n",
    "In that case, it should help to deactivate the progress bar by passing a dictionary with the following key:\n",
    "```python\n",
    "{'show_progress_bar': False}\n",
    "```\n",
    "However, currently you can not use the simplified interface then. Instead you have to use the base functions.\n",
    "For example, for importing a log without progress bar, you can use\n",
    "```\n",
    "log = xes_importer.apply('log.xes',parameters={'show_progress_bar':False})\n",
    "```\n",
    "If you have ipywidgets installed\n",
    "```python\n",
    "log = pm4py.read_xes(file_path)\n",
    "```\n",
    "can be used."
   ],
   "metadata": {
    "collapsed": false,
    "pycharm": {
     "name": "#%% md\n"
    }
   }
  },
  {
   "cell_type": "code",
   "execution_count": 3,
   "outputs": [
    {
     "data": {
      "text/plain": "parsing log, completed traces ::   0%|          | 0/4960 [00:00<?, ?it/s]",
      "application/vnd.jupyter.widget-view+json": {
       "version_major": 2,
       "version_minor": 0,
       "model_id": "df8631e5fcb2452ca126e3d057a01da3"
      }
     },
     "metadata": {},
     "output_type": "display_data"
    }
   ],
   "source": [
    "log = pm4py.read_xes(\"logs/log_vaccination.xes\")"
   ],
   "metadata": {
    "collapsed": false,
    "pycharm": {
     "name": "#%%\n"
    }
   }
  },
  {
   "cell_type": "markdown",
   "source": [
    "# Process Overview"
   ],
   "metadata": {
    "collapsed": false,
    "pycharm": {
     "name": "#%% md\n"
    }
   }
  },
  {
   "cell_type": "code",
   "execution_count": 3,
   "outputs": [],
   "source": [],
   "metadata": {
    "collapsed": false,
    "pycharm": {
     "name": "#%%\n"
    }
   }
  },
  {
   "cell_type": "markdown",
   "source": [
    "# Process Discovery"
   ],
   "metadata": {
    "collapsed": false,
    "pycharm": {
     "name": "#%% md\n"
    }
   }
  },
  {
   "cell_type": "markdown",
   "source": [
    " <font size=\"5\">Question 2a</font>"
   ],
   "metadata": {
    "collapsed": false,
    "pycharm": {
     "name": "#%% md\n"
    }
   }
  },
  {
   "cell_type": "code",
   "execution_count": 4,
   "outputs": [
    {
     "name": "stdout",
     "output_type": "stream",
     "text": [
      "Size of original log: 4960\n",
      "Size of filtered log: 3444\n",
      "Removed end activities: {'Decline vaccination', 'Priority Appointment granted', 'Vaccinate', 'Send Invoice', 'Checkout'}\n"
     ]
    }
   ],
   "source": [
    "from pm4py.algo.filtering.log.end_activities import end_activities_filter\n",
    "\n",
    "true_end_activities = ['Checkout No Vacc', 'Decline Vaccination', 'Destroy Vacc', 'Notify about vacc. possibility',\n",
    "                       'Send Vaccination Certificate']\n",
    "in_log_end_activities = set(end_activities_filter.get_end_activities(log).keys())\n",
    "filtered_log = end_activities_filter.apply(log, true_end_activities)\n",
    "\n",
    "removed_activities = in_log_end_activities - set(true_end_activities)\n",
    "\n",
    "print(f'Size of original log: {len(log)}')\n",
    "print(f'Size of filtered log: {len(filtered_log)}')\n",
    "print(f'Removed end activities: {removed_activities}')"
   ],
   "metadata": {
    "collapsed": false,
    "pycharm": {
     "name": "#%%\n"
    }
   }
  },
  {
   "cell_type": "markdown",
   "source": [
    " <font size=\"5\">Question 2b</font>"
   ],
   "metadata": {
    "collapsed": false,
    "pycharm": {
     "name": "#%% md\n"
    }
   }
  },
  {
   "cell_type": "code",
   "execution_count": 5,
   "outputs": [
    {
     "data": {
      "text/plain": "parsing log, completed traces ::   0%|          | 0/3978 [00:00<?, ?it/s]",
      "application/vnd.jupyter.widget-view+json": {
       "version_major": 2,
       "version_minor": 0,
       "model_id": "45a81bcb569d47b3a31cef03de874c23"
      }
     },
     "metadata": {},
     "output_type": "display_data"
    },
    {
     "data": {
      "text/plain": "parsing log, completed traces ::   0%|          | 0/3316 [00:00<?, ?it/s]",
      "application/vnd.jupyter.widget-view+json": {
       "version_major": 2,
       "version_minor": 0,
       "model_id": "2d90391f57e241fcaea9827e2eec64fb"
      }
     },
     "metadata": {},
     "output_type": "display_data"
    },
    {
     "name": "stderr",
     "output_type": "stream",
     "text": [
      "C:\\Users\\adivtran\\Desktop\\projects\\APM1\\venv\\lib\\site-packages\\pm4py\\objects\\petri\\__init__.py:19: UserWarning: please use the pm4py.objects.petri_net package instead.\n",
      "  warnings.warn('please use the pm4py.objects.petri_net package instead.')\n",
      "C:\\Users\\adivtran\\Desktop\\projects\\APM1\\venv\\lib\\site-packages\\pm4py\\objects\\petri\\obj.py:19: UserWarning: pm4py.objects.petri.obj is deprecated. Please use the class pm4py.objects.petri_net.obj instead.\n",
      "  warnings.warn(\"pm4py.objects.petri.obj is deprecated. Please use the class pm4py.objects.petri_net.obj instead.\")\n",
      "C:\\Users\\adivtran\\Desktop\\projects\\APM1\\venv\\lib\\site-packages\\pm4py\\objects\\petri\\exporter\\__init__.py:21: UserWarning: please use the pm4py.objects.petri_net.exporter package instead.\n",
      "  warnings.warn('please use the pm4py.objects.petri_net.exporter package instead.')\n",
      "C:\\Users\\adivtran\\Desktop\\projects\\APM1\\venv\\lib\\site-packages\\pm4py\\objects\\petri\\importer\\__init__.py:21: UserWarning: please use the pm4py.objects.petri_net.importer package instead.\n",
      "  warnings.warn('please use the pm4py.objects.petri_net.importer package instead.')\n"
     ]
    }
   ],
   "source": [
    "log_2b = pm4py.read_xes(\"logs/log_vaccination_finished_cases.xes\")\n",
    "log_2d = pm4py.read_xes(\"logs/log_vaccination_2c.xes\")\n",
    "from pm4py.objects.petri.importer import importer as petri_net_importer\n",
    "from pm4py.algo.conformance.alignments.petri_net import algorithm as alignments\n",
    "from pm4py.algo.conformance.tokenreplay import algorithm as token_replay\n",
    "from pm4py.algo.evaluation.replay_fitness import algorithm as replay_fitness\n",
    "from pm4py.algo.evaluation.precision import algorithm as precision_evaluator\n",
    "from pm4py.algo.evaluation.simplicity import algorithm as simplicity_evaluator\n",
    "from pm4py.algo.evaluation.generalization import algorithm as generalization_evaluator"
   ],
   "metadata": {
    "collapsed": false,
    "pycharm": {
     "name": "#%%\n"
    }
   }
  },
  {
   "cell_type": "code",
   "execution_count": 6,
   "outputs": [],
   "source": [
    "def fitness_and_precision_calculator(net, initial_marking, final_marking, is2b=True):\n",
    "    log_to_apply = log_2d\n",
    "    if is2b:\n",
    "        log_to_apply = log_2b\n",
    "    try:\n",
    "        aligned_traces_IM = alignments.apply_log(log_to_apply, net, initial_marking, final_marking)\n",
    "        fitness_alignment_IM = replay_fitness.evaluate(aligned_traces_IM, variant=replay_fitness.Variants.ALIGNMENT_BASED)\n",
    "        precision_alignment_IM = precision_evaluator.apply(log_to_apply, net, initial_marking, final_marking,\n",
    "                                                           variant=precision_evaluator.Variants.ALIGN_ETCONFORMANCE)\n",
    "    except:\n",
    "        fitness_alignment_IM = {'percFitTraces': 0, 'averageFitness': 0, 'percentage_of_fitting_traces': 0, 'average_trace_fitness': 0}\n",
    "        precision_alignment_IM = 0\n",
    "    replayed_traces_IM = token_replay.apply(log_to_apply, net, initial_marking, final_marking)\n",
    "    fitness_token_replay_IM = replay_fitness.evaluate(replayed_traces_IM, variant=replay_fitness.Variants.TOKEN_BASED)\n",
    "    precision_token_replay_IM = precision_evaluator.apply(log_to_apply, net, initial_marking, final_marking,\n",
    "                                                          variant=precision_evaluator.Variants.ETCONFORMANCE_TOKEN)\n",
    "\n",
    "    return {\n",
    "        'perc_fit_trace (alignment)': fitness_alignment_IM['percentage_of_fitting_traces'],\n",
    "        'perc_fit_trace (token replay)': fitness_token_replay_IM['percentage_of_fitting_traces'],\n",
    "        'average_fitness (alignment)': fitness_alignment_IM['average_trace_fitness'],\n",
    "        'average_fitness (token replay)': fitness_token_replay_IM['average_trace_fitness'],\n",
    "        'precision (alignment)': precision_alignment_IM,\n",
    "        'precision (token replay)': precision_token_replay_IM,\n",
    "    }\n",
    "\n",
    "\n",
    "def simplicity_and_generalization_calculator(net, initial_marking, final_marking, is2b=True):\n",
    "    log_to_apply = log_2d\n",
    "    if is2b:\n",
    "        log_to_apply = log_2b\n",
    "    simplicity = simplicity_evaluator.apply(net)\n",
    "    generalization = generalization_evaluator.apply(log_to_apply, net, initial_marking, final_marking)\n",
    "    return simplicity, generalization"
   ],
   "metadata": {
    "collapsed": false,
    "pycharm": {
     "name": "#%%\n"
    }
   }
  },
  {
   "cell_type": "code",
   "execution_count": 7,
   "outputs": [
    {
     "data": {
      "text/plain": "aligning log, completed variants ::   0%|          | 0/409 [00:00<?, ?it/s]",
      "application/vnd.jupyter.widget-view+json": {
       "version_major": 2,
       "version_minor": 0,
       "model_id": "ad1571e021c54a6cb28335786f49c8d2"
      }
     },
     "metadata": {},
     "output_type": "display_data"
    },
    {
     "data": {
      "text/plain": "computing precision with alignments, completed variants ::   0%|          | 0/2925 [00:00<?, ?it/s]",
      "application/vnd.jupyter.widget-view+json": {
       "version_major": 2,
       "version_minor": 0,
       "model_id": "fc1307a958b4491f852f2cca22ac74b0"
      }
     },
     "metadata": {},
     "output_type": "display_data"
    },
    {
     "data": {
      "text/plain": "replaying log with TBR, completed variants ::   0%|          | 0/409 [00:00<?, ?it/s]",
      "application/vnd.jupyter.widget-view+json": {
       "version_major": 2,
       "version_minor": 0,
       "model_id": "5f114158aac74fbda08f276c9acaee86"
      }
     },
     "metadata": {},
     "output_type": "display_data"
    },
    {
     "data": {
      "text/plain": "replaying log with TBR, completed variants ::   0%|          | 0/2925 [00:00<?, ?it/s]",
      "application/vnd.jupyter.widget-view+json": {
       "version_major": 2,
       "version_minor": 0,
       "model_id": "611173146aa24a93a94ef5bbb3dee1e5"
      }
     },
     "metadata": {},
     "output_type": "display_data"
    },
    {
     "data": {
      "text/plain": "replaying log with TBR, completed variants ::   0%|          | 0/409 [00:00<?, ?it/s]",
      "application/vnd.jupyter.widget-view+json": {
       "version_major": 2,
       "version_minor": 0,
       "model_id": "8ee12160501d4c88bff2e9f400be10e8"
      }
     },
     "metadata": {},
     "output_type": "display_data"
    },
    {
     "data": {
      "text/plain": "replaying log with TBR, completed variants ::   0%|          | 0/2925 [00:00<?, ?it/s]",
      "application/vnd.jupyter.widget-view+json": {
       "version_major": 2,
       "version_minor": 0,
       "model_id": "cf8f0f28d3834875a7224a50ff2c5dad"
      }
     },
     "metadata": {},
     "output_type": "display_data"
    },
    {
     "data": {
      "text/plain": "aligning log, completed variants ::   0%|          | 0/409 [00:00<?, ?it/s]",
      "application/vnd.jupyter.widget-view+json": {
       "version_major": 2,
       "version_minor": 0,
       "model_id": "9ac24c3b7f57405986129e596cf16248"
      }
     },
     "metadata": {},
     "output_type": "display_data"
    },
    {
     "data": {
      "text/plain": "computing precision with alignments, completed variants ::   0%|          | 0/2925 [00:00<?, ?it/s]",
      "application/vnd.jupyter.widget-view+json": {
       "version_major": 2,
       "version_minor": 0,
       "model_id": "675e953403604a3db1cc426ab639cb39"
      }
     },
     "metadata": {},
     "output_type": "display_data"
    },
    {
     "data": {
      "text/plain": "replaying log with TBR, completed variants ::   0%|          | 0/409 [00:00<?, ?it/s]",
      "application/vnd.jupyter.widget-view+json": {
       "version_major": 2,
       "version_minor": 0,
       "model_id": "f28f0f025c294a8480817235d15d27de"
      }
     },
     "metadata": {},
     "output_type": "display_data"
    },
    {
     "data": {
      "text/plain": "replaying log with TBR, completed variants ::   0%|          | 0/2925 [00:00<?, ?it/s]",
      "application/vnd.jupyter.widget-view+json": {
       "version_major": 2,
       "version_minor": 0,
       "model_id": "de7c2c4d37254237b199ab60b4fc4d0d"
      }
     },
     "metadata": {},
     "output_type": "display_data"
    },
    {
     "data": {
      "text/plain": "aligning log, completed variants ::   0%|          | 0/409 [00:00<?, ?it/s]",
      "application/vnd.jupyter.widget-view+json": {
       "version_major": 2,
       "version_minor": 0,
       "model_id": "8e33356085e34653a7efd67e2053c2c7"
      }
     },
     "metadata": {},
     "output_type": "display_data"
    },
    {
     "data": {
      "text/plain": "computing precision with alignments, completed variants ::   0%|          | 0/2925 [00:00<?, ?it/s]",
      "application/vnd.jupyter.widget-view+json": {
       "version_major": 2,
       "version_minor": 0,
       "model_id": "551756e7e99546de88ea4d691cc447ff"
      }
     },
     "metadata": {},
     "output_type": "display_data"
    },
    {
     "data": {
      "text/plain": "replaying log with TBR, completed variants ::   0%|          | 0/409 [00:00<?, ?it/s]",
      "application/vnd.jupyter.widget-view+json": {
       "version_major": 2,
       "version_minor": 0,
       "model_id": "634efecf53a444ecb38c79e172c8747b"
      }
     },
     "metadata": {},
     "output_type": "display_data"
    },
    {
     "data": {
      "text/plain": "replaying log with TBR, completed variants ::   0%|          | 0/2925 [00:00<?, ?it/s]",
      "application/vnd.jupyter.widget-view+json": {
       "version_major": 2,
       "version_minor": 0,
       "model_id": "8be7081b0c3246108a9deafcf80c08f7"
      }
     },
     "metadata": {},
     "output_type": "display_data"
    },
    {
     "data": {
      "text/plain": "replaying log with TBR, completed variants ::   0%|          | 0/409 [00:00<?, ?it/s]",
      "application/vnd.jupyter.widget-view+json": {
       "version_major": 2,
       "version_minor": 0,
       "model_id": "ec71c583d81c42c199ff5d073fa8e37a"
      }
     },
     "metadata": {},
     "output_type": "display_data"
    },
    {
     "data": {
      "text/plain": "replaying log with TBR, completed variants ::   0%|          | 0/2925 [00:00<?, ?it/s]",
      "application/vnd.jupyter.widget-view+json": {
       "version_major": 2,
       "version_minor": 0,
       "model_id": "f038679865ae49faac268b5de6e6f01f"
      }
     },
     "metadata": {},
     "output_type": "display_data"
    }
   ],
   "source": [
    "net_IM, initial_marking_IM, final_marking_IM = petri_net_importer.apply('./pnml/Petri-net-IM.pnml')\n",
    "net_Alpha, initial_marking_Alpha, final_marking_Alpha = petri_net_importer.apply('./pnml/Petri-net-Alpha.pnml')\n",
    "net_Heuristic, initial_marking_Heuristic, final_marking_Heuristic = petri_net_importer.apply('./pnml/Petri-net-Heuristic.pnml')\n",
    "net_ILP, initial_marking_ILP, final_marking_ILP = petri_net_importer.apply('./pnml/Petri-net-ILP.pnml')\n",
    "net_state_region_miner, initial_marking_state_region_miner, final_marking_state_region_miner = petri_net_importer.apply(\n",
    "    './pnml/Petri-net-state-region-miner.pnml')\n",
    "\n",
    "result_IM_2b = fitness_and_precision_calculator(net_IM, initial_marking_IM, final_marking_IM)\n",
    "result_alpha_2b = fitness_and_precision_calculator(net_Alpha, initial_marking_Alpha, final_marking_Alpha)\n",
    "result_heuristic_2b = fitness_and_precision_calculator(net_Heuristic, initial_marking_Heuristic, final_marking_Heuristic)\n",
    "result_ILP_2b = fitness_and_precision_calculator(net_ILP, initial_marking_ILP, final_marking_ILP)\n",
    "result_state_region_miner_2b = fitness_and_precision_calculator(net_state_region_miner, initial_marking_state_region_miner,\n",
    "                                                                final_marking_state_region_miner)\n",
    "\n"
   ],
   "metadata": {
    "collapsed": false,
    "pycharm": {
     "name": "#%%\n"
    }
   }
  },
  {
   "cell_type": "code",
   "execution_count": 8,
   "outputs": [
    {
     "data": {
      "text/plain": "              perc_fit_trace (alignment)  perc_fit_trace (token replay)  \\\nIM                             44.947210                      44.947210   \nAlpha                           0.000000                       0.000000   \nHeuristic                       1.231775                       1.231775   \nILP                            31.171443                      31.171443   \nState Region                    0.000000                       0.000000   \n\n              average_fitness (alignment)  average_fitness (token replay)  \\\nIM                               0.924319                        0.936411   \nAlpha                            0.000000                        0.770813   \nHeuristic                        0.802888                        0.953413   \nILP                              0.837280                        0.927118   \nState Region                     0.000000                        0.928056   \n\n              precision (alignment)  precision (token replay)  \nIM                         0.920100                  0.919382  \nAlpha                      0.000000                  0.399455  \nHeuristic                  0.799438                  0.799438  \nILP                        0.937179                  0.910164  \nState Region               0.000000                  0.540627  ",
      "text/html": "<div>\n<style scoped>\n    .dataframe tbody tr th:only-of-type {\n        vertical-align: middle;\n    }\n\n    .dataframe tbody tr th {\n        vertical-align: top;\n    }\n\n    .dataframe thead th {\n        text-align: right;\n    }\n</style>\n<table border=\"1\" class=\"dataframe\">\n  <thead>\n    <tr style=\"text-align: right;\">\n      <th></th>\n      <th>perc_fit_trace (alignment)</th>\n      <th>perc_fit_trace (token replay)</th>\n      <th>average_fitness (alignment)</th>\n      <th>average_fitness (token replay)</th>\n      <th>precision (alignment)</th>\n      <th>precision (token replay)</th>\n    </tr>\n  </thead>\n  <tbody>\n    <tr>\n      <th>IM</th>\n      <td>44.947210</td>\n      <td>44.947210</td>\n      <td>0.924319</td>\n      <td>0.936411</td>\n      <td>0.920100</td>\n      <td>0.919382</td>\n    </tr>\n    <tr>\n      <th>Alpha</th>\n      <td>0.000000</td>\n      <td>0.000000</td>\n      <td>0.000000</td>\n      <td>0.770813</td>\n      <td>0.000000</td>\n      <td>0.399455</td>\n    </tr>\n    <tr>\n      <th>Heuristic</th>\n      <td>1.231775</td>\n      <td>1.231775</td>\n      <td>0.802888</td>\n      <td>0.953413</td>\n      <td>0.799438</td>\n      <td>0.799438</td>\n    </tr>\n    <tr>\n      <th>ILP</th>\n      <td>31.171443</td>\n      <td>31.171443</td>\n      <td>0.837280</td>\n      <td>0.927118</td>\n      <td>0.937179</td>\n      <td>0.910164</td>\n    </tr>\n    <tr>\n      <th>State Region</th>\n      <td>0.000000</td>\n      <td>0.000000</td>\n      <td>0.000000</td>\n      <td>0.928056</td>\n      <td>0.000000</td>\n      <td>0.540627</td>\n    </tr>\n  </tbody>\n</table>\n</div>"
     },
     "execution_count": 8,
     "metadata": {},
     "output_type": "execute_result"
    }
   ],
   "source": [
    "result_fitness_precision_2b = {}\n",
    "\n",
    "for key in result_IM_2b:\n",
    "    result_fitness_precision_2b[key] = [result_IM_2b[key]]\n",
    "for key in result_IM_2b:\n",
    "    result_fitness_precision_2b[key].append(result_alpha_2b[key])\n",
    "for key in result_IM_2b:\n",
    "    result_fitness_precision_2b[key].append(result_heuristic_2b[key])\n",
    "for key in result_IM_2b:\n",
    "    result_fitness_precision_2b[key].append(result_ILP_2b[key])\n",
    "for key in result_IM_2b:\n",
    "    result_fitness_precision_2b[key].append(result_state_region_miner_2b[key])\n",
    "\n",
    "df_fitness_precision_2b = pd.DataFrame(result_fitness_precision_2b, index=['IM', 'Alpha', 'Heuristic', 'ILP', 'State Region'])\n",
    "df_fitness_precision_2b"
   ],
   "metadata": {
    "collapsed": false,
    "pycharm": {
     "name": "#%%\n"
    }
   }
  },
  {
   "cell_type": "markdown",
   "source": [],
   "metadata": {
    "collapsed": false,
    "pycharm": {
     "name": "#%% md\n"
    }
   }
  },
  {
   "cell_type": "code",
   "execution_count": 9,
   "outputs": [
    {
     "data": {
      "text/plain": "replaying log with TBR, completed variants ::   0%|          | 0/409 [00:00<?, ?it/s]",
      "application/vnd.jupyter.widget-view+json": {
       "version_major": 2,
       "version_minor": 0,
       "model_id": "b8d2ff5beee7405382b2aa0628655f07"
      }
     },
     "metadata": {},
     "output_type": "display_data"
    },
    {
     "data": {
      "text/plain": "replaying log with TBR, completed variants ::   0%|          | 0/409 [00:00<?, ?it/s]",
      "application/vnd.jupyter.widget-view+json": {
       "version_major": 2,
       "version_minor": 0,
       "model_id": "90870ef85c744b358c44372b9015cf21"
      }
     },
     "metadata": {},
     "output_type": "display_data"
    },
    {
     "data": {
      "text/plain": "replaying log with TBR, completed variants ::   0%|          | 0/409 [00:00<?, ?it/s]",
      "application/vnd.jupyter.widget-view+json": {
       "version_major": 2,
       "version_minor": 0,
       "model_id": "8d84e2af136f473a911770a5368b8cc6"
      }
     },
     "metadata": {},
     "output_type": "display_data"
    },
    {
     "data": {
      "text/plain": "replaying log with TBR, completed variants ::   0%|          | 0/409 [00:00<?, ?it/s]",
      "application/vnd.jupyter.widget-view+json": {
       "version_major": 2,
       "version_minor": 0,
       "model_id": "e818e8d456fc45c990684b798062cbb3"
      }
     },
     "metadata": {},
     "output_type": "display_data"
    },
    {
     "data": {
      "text/plain": "replaying log with TBR, completed variants ::   0%|          | 0/409 [00:00<?, ?it/s]",
      "application/vnd.jupyter.widget-view+json": {
       "version_major": 2,
       "version_minor": 0,
       "model_id": "5ab6fe7e73874292bc6813ec5e2d38f5"
      }
     },
     "metadata": {},
     "output_type": "display_data"
    },
    {
     "data": {
      "text/plain": "              simplicity  generalization\nIM              0.795918        0.937063\nAlpha           0.398601        0.972661\nHeuristic       0.664596        0.932175\nILP             0.271028        0.984557\nState Region    0.473684        0.854232",
      "text/html": "<div>\n<style scoped>\n    .dataframe tbody tr th:only-of-type {\n        vertical-align: middle;\n    }\n\n    .dataframe tbody tr th {\n        vertical-align: top;\n    }\n\n    .dataframe thead th {\n        text-align: right;\n    }\n</style>\n<table border=\"1\" class=\"dataframe\">\n  <thead>\n    <tr style=\"text-align: right;\">\n      <th></th>\n      <th>simplicity</th>\n      <th>generalization</th>\n    </tr>\n  </thead>\n  <tbody>\n    <tr>\n      <th>IM</th>\n      <td>0.795918</td>\n      <td>0.937063</td>\n    </tr>\n    <tr>\n      <th>Alpha</th>\n      <td>0.398601</td>\n      <td>0.972661</td>\n    </tr>\n    <tr>\n      <th>Heuristic</th>\n      <td>0.664596</td>\n      <td>0.932175</td>\n    </tr>\n    <tr>\n      <th>ILP</th>\n      <td>0.271028</td>\n      <td>0.984557</td>\n    </tr>\n    <tr>\n      <th>State Region</th>\n      <td>0.473684</td>\n      <td>0.854232</td>\n    </tr>\n  </tbody>\n</table>\n</div>"
     },
     "execution_count": 9,
     "metadata": {},
     "output_type": "execute_result"
    }
   ],
   "source": [
    "simplicity_IM, generalization_IM = simplicity_and_generalization_calculator(net_IM, initial_marking_IM, final_marking_IM)\n",
    "simplicity_alpha, generalization_alpha = simplicity_and_generalization_calculator(net_Alpha, initial_marking_Alpha, final_marking_Alpha)\n",
    "simplicity_heuristic, generalization_heuristic = simplicity_and_generalization_calculator(net_Heuristic, initial_marking_Heuristic,\n",
    "                                                                                          final_marking_Heuristic)\n",
    "simplicity_ilp, generalization_ilp = simplicity_and_generalization_calculator(net_ILP, initial_marking_ILP, final_marking_ILP)\n",
    "simplicity_state_region_miner, generalization_state_region_miner = simplicity_and_generalization_calculator(net_state_region_miner,\n",
    "                                                                                                            initial_marking_state_region_miner,\n",
    "                                                                                                            final_marking_state_region_miner)\n",
    "\n",
    "df_simplicity_generalition = pd.DataFrame({\n",
    "    'simplicity': [simplicity_IM, simplicity_alpha, simplicity_heuristic, simplicity_ilp, simplicity_state_region_miner],\n",
    "    'generalization': [generalization_IM, generalization_alpha, generalization_heuristic, generalization_ilp,\n",
    "                       generalization_state_region_miner]\n",
    "}, index=['IM', 'Alpha', 'Heuristic', 'ILP', 'State Region'])\n",
    "\n",
    "df_simplicity_generalition"
   ],
   "metadata": {
    "collapsed": false,
    "pycharm": {
     "name": "#%%\n"
    }
   }
  },
  {
   "cell_type": "markdown",
   "source": [
    " <font size=\"5\">Question 2c</font>"
   ],
   "metadata": {
    "collapsed": false,
    "pycharm": {
     "name": "#%% md\n"
    }
   }
  },
  {
   "cell_type": "code",
   "execution_count": 10,
   "outputs": [],
   "source": [
    "from pm4py.algo.filtering.log.paths import paths_filter\n",
    "\n",
    "log_2c1 = paths_filter.apply(log_2b, [('Notify about vacc. possibility', 'Notify about vacc. possibility')], {'positive': False})"
   ],
   "metadata": {
    "collapsed": false,
    "pycharm": {
     "name": "#%%\n"
    }
   }
  },
  {
   "cell_type": "code",
   "execution_count": 11,
   "outputs": [],
   "source": [
    "from pm4py.algo.filtering.log.start_activities import start_activities_filter\n",
    "\n",
    "log_2c2 = start_activities_filter.apply(log_2c1, ['Enter into System'])"
   ],
   "metadata": {
    "collapsed": false,
    "pycharm": {
     "name": "#%%\n"
    }
   }
  },
  {
   "cell_type": "code",
   "execution_count": 12,
   "outputs": [],
   "source": [
    "from pm4py.objects.log.obj import Trace\n",
    "\n",
    "removed_activities_2c3 = ['Insurance Check Private', 'Insurance Check Statutory', 'Prepare vaccine', 'Send vaccine to cabine',\n",
    "                          'Send Vaccination Certificate', 'Appointment granted', 'Priority Appointment granted', 'Destroy Vacc',\n",
    "                          'Send Invoice']\n",
    "\n",
    "attributes = log_2c2.attributes\n",
    "extensions = log_2c2.extensions\n",
    "omni = log_2c2.omni_present\n",
    "classifiers = log_2c2.classifiers\n",
    "properties = log_2c2.properties\n",
    "\n",
    "log_2c3 = EventLog(attributes=attributes, extensions=extensions, omni_present=omni, classifiers=classifiers, properties=properties)\n",
    "\n",
    "for t in log_2c2:\n",
    "    trace_attributes = t.attributes\n",
    "    trace_properties = t.properties\n",
    "    trace_2c3 = Trace(attributes=attributes, properties=properties)\n",
    "    for e in t:\n",
    "        if e['concept:name'] not in removed_activities_2c3:\n",
    "            trace_2c3.append(e)\n",
    "    if len(trace_2c3) != 0:\n",
    "        log_2c3.append(trace_2c3)"
   ],
   "metadata": {
    "collapsed": false,
    "pycharm": {
     "name": "#%%\n"
    }
   }
  },
  {
   "cell_type": "code",
   "execution_count": 13,
   "outputs": [],
   "source": [
    "for t in log_2c3:\n",
    "    for e in t:\n",
    "        if e['concept:name'] == 'Checkout No Vacc':\n",
    "            e['concept:name'] = 'Decline vaccination'\n",
    "\n",
    "log_2c4 = log_2c3"
   ],
   "metadata": {
    "collapsed": false,
    "pycharm": {
     "name": "#%%\n"
    }
   }
  },
  {
   "cell_type": "code",
   "execution_count": 14,
   "outputs": [
    {
     "name": "stdout",
     "output_type": "stream",
     "text": [
      "Number of cases: 3316\n",
      "Number of events: 37761\n",
      "Set of activities: {'Acknowledge vacc. possibility', 'Decline vaccination', 'Notify about vacc. possibility', 'Enter into System', 'Finished Risk Talk', 'Vaccinate', 'Request appointment', 'Register at vaccination facillity', 'Submit Declaration', 'Checkout'}\n"
     ]
    }
   ],
   "source": [
    "activities_set_2c = set()\n",
    "number_of_event_2c = 0\n",
    "for t in log_2c4:\n",
    "    for e in t:\n",
    "        number_of_event_2c += 1\n",
    "        activities_set_2c.add(e['concept:name'])\n",
    "\n",
    "print(f'Number of cases: {len(log_2c4)}')\n",
    "print(f'Number of events: {number_of_event_2c}')\n",
    "print(f'Set of activities: {activities_set_2c}')\n"
   ],
   "metadata": {
    "collapsed": false,
    "pycharm": {
     "name": "#%%\n"
    }
   }
  },
  {
   "cell_type": "markdown",
   "source": [
    " <font size=\"5\">Question 2d</font>"
   ],
   "metadata": {
    "collapsed": false,
    "pycharm": {
     "name": "#%% md\n"
    }
   }
  },
  {
   "cell_type": "code",
   "execution_count": 15,
   "outputs": [
    {
     "data": {
      "text/plain": "parsing log, completed traces ::   0%|          | 0/3316 [00:00<?, ?it/s]",
      "application/vnd.jupyter.widget-view+json": {
       "version_major": 2,
       "version_minor": 0,
       "model_id": "6a373c1625754ead8fe0b98bae9695f0"
      }
     },
     "metadata": {},
     "output_type": "display_data"
    }
   ],
   "source": [
    "log_2d = pm4py.read_xes(\"logs/log_vaccination_2c.xes\")"
   ],
   "metadata": {
    "collapsed": false,
    "pycharm": {
     "name": "#%%\n"
    }
   }
  },
  {
   "cell_type": "code",
   "execution_count": 16,
   "outputs": [
    {
     "data": {
      "text/plain": "aligning log, completed variants ::   0%|          | 0/88 [00:00<?, ?it/s]",
      "application/vnd.jupyter.widget-view+json": {
       "version_major": 2,
       "version_minor": 0,
       "model_id": "0459e95270bc4087a20b0234e62db1cd"
      }
     },
     "metadata": {},
     "output_type": "display_data"
    },
    {
     "data": {
      "text/plain": "computing precision with alignments, completed variants ::   0%|          | 0/283 [00:00<?, ?it/s]",
      "application/vnd.jupyter.widget-view+json": {
       "version_major": 2,
       "version_minor": 0,
       "model_id": "95c102c3acb9448e9ebcdcd2c96f020a"
      }
     },
     "metadata": {},
     "output_type": "display_data"
    },
    {
     "data": {
      "text/plain": "replaying log with TBR, completed variants ::   0%|          | 0/88 [00:00<?, ?it/s]",
      "application/vnd.jupyter.widget-view+json": {
       "version_major": 2,
       "version_minor": 0,
       "model_id": "9962c095c5bd4222aa81cac50c8d822b"
      }
     },
     "metadata": {},
     "output_type": "display_data"
    },
    {
     "data": {
      "text/plain": "replaying log with TBR, completed variants ::   0%|          | 0/283 [00:00<?, ?it/s]",
      "application/vnd.jupyter.widget-view+json": {
       "version_major": 2,
       "version_minor": 0,
       "model_id": "606c7bc5a6b1442b8a5abfe8f37e90f9"
      }
     },
     "metadata": {},
     "output_type": "display_data"
    },
    {
     "data": {
      "text/plain": "aligning log, completed variants ::   0%|          | 0/88 [00:00<?, ?it/s]",
      "application/vnd.jupyter.widget-view+json": {
       "version_major": 2,
       "version_minor": 0,
       "model_id": "e7f4d0d1541a437ca82a66fc2fa8a81d"
      }
     },
     "metadata": {},
     "output_type": "display_data"
    },
    {
     "data": {
      "text/plain": "computing precision with alignments, completed variants ::   0%|          | 0/283 [00:00<?, ?it/s]",
      "application/vnd.jupyter.widget-view+json": {
       "version_major": 2,
       "version_minor": 0,
       "model_id": "1d8013a3569c4c72b2a444ff03742973"
      }
     },
     "metadata": {},
     "output_type": "display_data"
    },
    {
     "data": {
      "text/plain": "replaying log with TBR, completed variants ::   0%|          | 0/88 [00:00<?, ?it/s]",
      "application/vnd.jupyter.widget-view+json": {
       "version_major": 2,
       "version_minor": 0,
       "model_id": "14630e38fd4d44468102d37173c63ec3"
      }
     },
     "metadata": {},
     "output_type": "display_data"
    },
    {
     "data": {
      "text/plain": "replaying log with TBR, completed variants ::   0%|          | 0/283 [00:00<?, ?it/s]",
      "application/vnd.jupyter.widget-view+json": {
       "version_major": 2,
       "version_minor": 0,
       "model_id": "8e0ca1ef552d4ab685a6dc8e17120f57"
      }
     },
     "metadata": {},
     "output_type": "display_data"
    },
    {
     "data": {
      "text/plain": "replaying log with TBR, completed variants ::   0%|          | 0/88 [00:00<?, ?it/s]",
      "application/vnd.jupyter.widget-view+json": {
       "version_major": 2,
       "version_minor": 0,
       "model_id": "a39a602879fe4cf29605d10a768dadcb"
      }
     },
     "metadata": {},
     "output_type": "display_data"
    },
    {
     "data": {
      "text/plain": "replaying log with TBR, completed variants ::   0%|          | 0/283 [00:00<?, ?it/s]",
      "application/vnd.jupyter.widget-view+json": {
       "version_major": 2,
       "version_minor": 0,
       "model_id": "79649f1ecb55475290b82c4cf24c075d"
      }
     },
     "metadata": {},
     "output_type": "display_data"
    },
    {
     "data": {
      "text/plain": "replaying log with TBR, completed variants ::   0%|          | 0/88 [00:00<?, ?it/s]",
      "application/vnd.jupyter.widget-view+json": {
       "version_major": 2,
       "version_minor": 0,
       "model_id": "56bd48ffe14c4acaa0644f59e6f084ee"
      }
     },
     "metadata": {},
     "output_type": "display_data"
    },
    {
     "data": {
      "text/plain": "replaying log with TBR, completed variants ::   0%|          | 0/283 [00:00<?, ?it/s]",
      "application/vnd.jupyter.widget-view+json": {
       "version_major": 2,
       "version_minor": 0,
       "model_id": "0acaebd6d0924f01b90f5b80d8a11cf8"
      }
     },
     "metadata": {},
     "output_type": "display_data"
    },
    {
     "data": {
      "text/plain": "aligning log, completed variants ::   0%|          | 0/88 [00:00<?, ?it/s]",
      "application/vnd.jupyter.widget-view+json": {
       "version_major": 2,
       "version_minor": 0,
       "model_id": "ca50b89534f14f54bb8fd8bb3d333c8a"
      }
     },
     "metadata": {},
     "output_type": "display_data"
    },
    {
     "data": {
      "text/plain": "computing precision with alignments, completed variants ::   0%|          | 0/283 [00:00<?, ?it/s]",
      "application/vnd.jupyter.widget-view+json": {
       "version_major": 2,
       "version_minor": 0,
       "model_id": "4288028044c940cfa421424acc874c80"
      }
     },
     "metadata": {},
     "output_type": "display_data"
    },
    {
     "data": {
      "text/plain": "replaying log with TBR, completed variants ::   0%|          | 0/88 [00:00<?, ?it/s]",
      "application/vnd.jupyter.widget-view+json": {
       "version_major": 2,
       "version_minor": 0,
       "model_id": "3654d42418b044efbc402b1e1051cb4e"
      }
     },
     "metadata": {},
     "output_type": "display_data"
    },
    {
     "data": {
      "text/plain": "replaying log with TBR, completed variants ::   0%|          | 0/283 [00:00<?, ?it/s]",
      "application/vnd.jupyter.widget-view+json": {
       "version_major": 2,
       "version_minor": 0,
       "model_id": "f7fb27d18a9c4ee385fe7072f9ca916b"
      }
     },
     "metadata": {},
     "output_type": "display_data"
    },
    {
     "data": {
      "text/plain": "replaying log with TBR, completed variants ::   0%|          | 0/88 [00:00<?, ?it/s]",
      "application/vnd.jupyter.widget-view+json": {
       "version_major": 2,
       "version_minor": 0,
       "model_id": "0340f6bff6da42e4b08643c20a57fe46"
      }
     },
     "metadata": {},
     "output_type": "display_data"
    },
    {
     "data": {
      "text/plain": "replaying log with TBR, completed variants ::   0%|          | 0/283 [00:00<?, ?it/s]",
      "application/vnd.jupyter.widget-view+json": {
       "version_major": 2,
       "version_minor": 0,
       "model_id": "3d9494020a4649feaacbd486ed13ef07"
      }
     },
     "metadata": {},
     "output_type": "display_data"
    }
   ],
   "source": [
    "net_sh, initial_marking_sh, final_marking_sh = petri_net_importer.apply('./models/small_hand.pnml')\n",
    "net_IM, initial_marking_IM, final_marking_IM = petri_net_importer.apply('./pnml/Petri-net-IM-2d.pnml')\n",
    "net_Alpha, initial_marking_Alpha, final_marking_Alpha = petri_net_importer.apply('./pnml/Petri-net-Alpha-2d.pnml')\n",
    "net_Heuristic, initial_marking_Heuristic, final_marking_Heuristic = petri_net_importer.apply('./pnml/Petri-net-Heuristic-2d.pnml')\n",
    "net_ILP, initial_marking_ILP, final_marking_ILP = petri_net_importer.apply('./pnml/Petri-net-ILP-2d.pnml')\n",
    "net_state_region_miner, initial_marking_state_region_miner, final_marking_state_region_miner = petri_net_importer.apply(\n",
    "    './pnml/Petri-net-state-region-miner-2d.pnml')\n",
    "\n",
    "result_sh_2d = fitness_and_precision_calculator(net_sh, initial_marking_sh, final_marking_sh, False)\n",
    "result_IM_2d = fitness_and_precision_calculator(net_IM, initial_marking_IM, final_marking_IM, False)\n",
    "result_alpha_2d = fitness_and_precision_calculator(net_Alpha, initial_marking_Alpha, final_marking_Alpha, False)\n",
    "result_heuristic_2d = fitness_and_precision_calculator(net_Heuristic, initial_marking_Heuristic, final_marking_Heuristic, False)\n",
    "result_ILP_2d = fitness_and_precision_calculator(net_ILP, initial_marking_ILP, final_marking_ILP, False)\n",
    "result_state_region_miner_2d = fitness_and_precision_calculator(net_state_region_miner, initial_marking_state_region_miner,\n",
    "                                                                final_marking_state_region_miner, False)"
   ],
   "metadata": {
    "collapsed": false,
    "pycharm": {
     "name": "#%%\n"
    }
   }
  },
  {
   "cell_type": "code",
   "execution_count": 17,
   "outputs": [
    {
     "data": {
      "text/plain": "              perc_fit_trace (alignment)  perc_fit_trace (token replay)  \\\nSmall Hand                     90.138721                      90.138721   \nIM                              9.529554                       9.529554   \nAlpha                           0.000000                       0.000000   \nHeuristic                       0.000000                       0.000000   \nILP                            70.717732                      70.717732   \nState Region                    0.000000                       0.000000   \n\n              average_fitness (alignment)  average_fitness (token replay)  \\\nSmall Hand                       0.992601                        0.992458   \nIM                               0.765947                        0.759697   \nAlpha                            0.000000                        0.744245   \nHeuristic                        0.000000                        0.968322   \nILP                              0.892599                        0.936205   \nState Region                     0.000000                        0.930545   \n\n              precision (alignment)  precision (token replay)  \nSmall Hand                 0.996637                  0.996637  \nIM                         0.855878                  0.855878  \nAlpha                      0.000000                  0.448487  \nHeuristic                  0.000000                  0.947605  \nILP                        0.999364                  0.998993  \nState Region               0.000000                  0.838200  ",
      "text/html": "<div>\n<style scoped>\n    .dataframe tbody tr th:only-of-type {\n        vertical-align: middle;\n    }\n\n    .dataframe tbody tr th {\n        vertical-align: top;\n    }\n\n    .dataframe thead th {\n        text-align: right;\n    }\n</style>\n<table border=\"1\" class=\"dataframe\">\n  <thead>\n    <tr style=\"text-align: right;\">\n      <th></th>\n      <th>perc_fit_trace (alignment)</th>\n      <th>perc_fit_trace (token replay)</th>\n      <th>average_fitness (alignment)</th>\n      <th>average_fitness (token replay)</th>\n      <th>precision (alignment)</th>\n      <th>precision (token replay)</th>\n    </tr>\n  </thead>\n  <tbody>\n    <tr>\n      <th>Small Hand</th>\n      <td>90.138721</td>\n      <td>90.138721</td>\n      <td>0.992601</td>\n      <td>0.992458</td>\n      <td>0.996637</td>\n      <td>0.996637</td>\n    </tr>\n    <tr>\n      <th>IM</th>\n      <td>9.529554</td>\n      <td>9.529554</td>\n      <td>0.765947</td>\n      <td>0.759697</td>\n      <td>0.855878</td>\n      <td>0.855878</td>\n    </tr>\n    <tr>\n      <th>Alpha</th>\n      <td>0.000000</td>\n      <td>0.000000</td>\n      <td>0.000000</td>\n      <td>0.744245</td>\n      <td>0.000000</td>\n      <td>0.448487</td>\n    </tr>\n    <tr>\n      <th>Heuristic</th>\n      <td>0.000000</td>\n      <td>0.000000</td>\n      <td>0.000000</td>\n      <td>0.968322</td>\n      <td>0.000000</td>\n      <td>0.947605</td>\n    </tr>\n    <tr>\n      <th>ILP</th>\n      <td>70.717732</td>\n      <td>70.717732</td>\n      <td>0.892599</td>\n      <td>0.936205</td>\n      <td>0.999364</td>\n      <td>0.998993</td>\n    </tr>\n    <tr>\n      <th>State Region</th>\n      <td>0.000000</td>\n      <td>0.000000</td>\n      <td>0.000000</td>\n      <td>0.930545</td>\n      <td>0.000000</td>\n      <td>0.838200</td>\n    </tr>\n  </tbody>\n</table>\n</div>"
     },
     "execution_count": 17,
     "metadata": {},
     "output_type": "execute_result"
    }
   ],
   "source": [
    "result_fitness_precision_2d = {}\n",
    "\n",
    "for key in result_sh_2d:\n",
    "    result_fitness_precision_2d[key] = [result_sh_2d[key]]\n",
    "for key in result_sh_2d:\n",
    "    result_fitness_precision_2d[key].append(result_IM_2d[key])\n",
    "for key in result_sh_2d:\n",
    "    result_fitness_precision_2d[key].append(result_alpha_2d[key])\n",
    "for key in result_sh_2d:\n",
    "    result_fitness_precision_2d[key].append(result_heuristic_2d[key])\n",
    "for key in result_sh_2d:\n",
    "    result_fitness_precision_2d[key].append(result_ILP_2d[key])\n",
    "for key in result_sh_2d:\n",
    "    result_fitness_precision_2d[key].append(result_state_region_miner_2d[key])\n",
    "\n",
    "df_fitness_precision_2d = pd.DataFrame(result_fitness_precision_2d, index=['Small Hand', 'IM', 'Alpha', 'Heuristic', 'ILP', 'State Region'])\n",
    "df_fitness_precision_2d"
   ],
   "metadata": {
    "collapsed": false,
    "pycharm": {
     "name": "#%%\n"
    }
   }
  },
  {
   "cell_type": "code",
   "execution_count": 18,
   "outputs": [
    {
     "data": {
      "text/plain": "replaying log with TBR, completed variants ::   0%|          | 0/88 [00:00<?, ?it/s]",
      "application/vnd.jupyter.widget-view+json": {
       "version_major": 2,
       "version_minor": 0,
       "model_id": "c0613406128a4377845fb194aa58cc27"
      }
     },
     "metadata": {},
     "output_type": "display_data"
    },
    {
     "data": {
      "text/plain": "replaying log with TBR, completed variants ::   0%|          | 0/88 [00:00<?, ?it/s]",
      "application/vnd.jupyter.widget-view+json": {
       "version_major": 2,
       "version_minor": 0,
       "model_id": "aa3b16f7b0484988bad54b7d993b8dff"
      }
     },
     "metadata": {},
     "output_type": "display_data"
    },
    {
     "data": {
      "text/plain": "replaying log with TBR, completed variants ::   0%|          | 0/88 [00:00<?, ?it/s]",
      "application/vnd.jupyter.widget-view+json": {
       "version_major": 2,
       "version_minor": 0,
       "model_id": "f7a1a5a454314c0b9556be136c6295a6"
      }
     },
     "metadata": {},
     "output_type": "display_data"
    },
    {
     "data": {
      "text/plain": "replaying log with TBR, completed variants ::   0%|          | 0/88 [00:00<?, ?it/s]",
      "application/vnd.jupyter.widget-view+json": {
       "version_major": 2,
       "version_minor": 0,
       "model_id": "d1a4277e0def4b1c9ef3168418a27571"
      }
     },
     "metadata": {},
     "output_type": "display_data"
    },
    {
     "data": {
      "text/plain": "replaying log with TBR, completed variants ::   0%|          | 0/88 [00:00<?, ?it/s]",
      "application/vnd.jupyter.widget-view+json": {
       "version_major": 2,
       "version_minor": 0,
       "model_id": "10914ce8a3384f31b89bb341fa6e98fb"
      }
     },
     "metadata": {},
     "output_type": "display_data"
    },
    {
     "data": {
      "text/plain": "replaying log with TBR, completed variants ::   0%|          | 0/88 [00:00<?, ?it/s]",
      "application/vnd.jupyter.widget-view+json": {
       "version_major": 2,
       "version_minor": 0,
       "model_id": "0a9fc74ebf6147148309cdd741464785"
      }
     },
     "metadata": {},
     "output_type": "display_data"
    },
    {
     "data": {
      "text/plain": "              simplicity  generalization\nSmall Hand      0.725490        0.959157\nIM              0.828571        0.981198\nAlpha           0.511111        0.981252\nHeuristic       0.694444        0.907697\nILP             0.388889        0.983559\nState Region    0.600000        0.853852",
      "text/html": "<div>\n<style scoped>\n    .dataframe tbody tr th:only-of-type {\n        vertical-align: middle;\n    }\n\n    .dataframe tbody tr th {\n        vertical-align: top;\n    }\n\n    .dataframe thead th {\n        text-align: right;\n    }\n</style>\n<table border=\"1\" class=\"dataframe\">\n  <thead>\n    <tr style=\"text-align: right;\">\n      <th></th>\n      <th>simplicity</th>\n      <th>generalization</th>\n    </tr>\n  </thead>\n  <tbody>\n    <tr>\n      <th>Small Hand</th>\n      <td>0.725490</td>\n      <td>0.959157</td>\n    </tr>\n    <tr>\n      <th>IM</th>\n      <td>0.828571</td>\n      <td>0.981198</td>\n    </tr>\n    <tr>\n      <th>Alpha</th>\n      <td>0.511111</td>\n      <td>0.981252</td>\n    </tr>\n    <tr>\n      <th>Heuristic</th>\n      <td>0.694444</td>\n      <td>0.907697</td>\n    </tr>\n    <tr>\n      <th>ILP</th>\n      <td>0.388889</td>\n      <td>0.983559</td>\n    </tr>\n    <tr>\n      <th>State Region</th>\n      <td>0.600000</td>\n      <td>0.853852</td>\n    </tr>\n  </tbody>\n</table>\n</div>"
     },
     "execution_count": 18,
     "metadata": {},
     "output_type": "execute_result"
    }
   ],
   "source": [
    "simplicity_sh, generalization_sh = simplicity_and_generalization_calculator(net_sh, initial_marking_sh, final_marking_sh, False)\n",
    "simplicity_IM, generalization_IM = simplicity_and_generalization_calculator(net_IM, initial_marking_IM, final_marking_IM, False)\n",
    "simplicity_alpha, generalization_alpha = simplicity_and_generalization_calculator(net_Alpha, initial_marking_Alpha, final_marking_Alpha,\n",
    "                                                                                  False)\n",
    "simplicity_heuristic, generalization_heuristic = simplicity_and_generalization_calculator(net_Heuristic, initial_marking_Heuristic,\n",
    "                                                                                          final_marking_Heuristic, False)\n",
    "simplicity_ilp, generalization_ilp = simplicity_and_generalization_calculator(net_ILP, initial_marking_ILP, final_marking_ILP, False)\n",
    "simplicity_state_region_miner, generalization_state_region_miner = simplicity_and_generalization_calculator(net_state_region_miner,\n",
    "                                                                                                            initial_marking_state_region_miner,\n",
    "                                                                                                            final_marking_state_region_miner,\n",
    "                                                                                                            False)\n",
    "\n",
    "df_simplicity_generalition = pd.DataFrame({\n",
    "    'simplicity': [simplicity_sh, simplicity_IM, simplicity_alpha, simplicity_heuristic, simplicity_ilp, simplicity_state_region_miner],\n",
    "    'generalization': [generalization_sh, generalization_IM, generalization_alpha, generalization_heuristic, generalization_ilp,\n",
    "                       generalization_state_region_miner]\n",
    "}, index=['Small Hand', 'IM', 'Alpha', 'Heuristic', 'ILP', 'State Region'])\n",
    "\n",
    "df_simplicity_generalition"
   ],
   "metadata": {
    "collapsed": false,
    "pycharm": {
     "name": "#%%\n"
    }
   }
  },
  {
   "cell_type": "markdown",
   "source": [
    " <font size=\"4\">Trace that is modeled by the hand-made model but not the alpha, heuristic, and state-region-based model</font>"
   ],
   "metadata": {
    "collapsed": false,
    "pycharm": {
     "name": "#%% md\n"
    }
   }
  },
  {
   "cell_type": "code",
   "execution_count": 36,
   "outputs": [
    {
     "data": {
      "text/plain": "replaying log with TBR, completed variants ::   0%|          | 0/88 [00:00<?, ?it/s]",
      "application/vnd.jupyter.widget-view+json": {
       "version_major": 2,
       "version_minor": 0,
       "model_id": "8a9a00c62d3b48d698d7d8ad23e44a17"
      }
     },
     "metadata": {},
     "output_type": "display_data"
    },
    {
     "data": {
      "text/plain": "replaying log with TBR, completed variants ::   0%|          | 0/88 [00:00<?, ?it/s]",
      "application/vnd.jupyter.widget-view+json": {
       "version_major": 2,
       "version_minor": 0,
       "model_id": "201d936bb77948bdaca736f9b35d82e8"
      }
     },
     "metadata": {},
     "output_type": "display_data"
    },
    {
     "data": {
      "text/plain": "replaying log with TBR, completed variants ::   0%|          | 0/88 [00:00<?, ?it/s]",
      "application/vnd.jupyter.widget-view+json": {
       "version_major": 2,
       "version_minor": 0,
       "model_id": "0470edec6a3a4ad78e55a4bc4c50ff47"
      }
     },
     "metadata": {},
     "output_type": "display_data"
    },
    {
     "data": {
      "text/plain": "replaying log with TBR, completed variants ::   0%|          | 0/88 [00:00<?, ?it/s]",
      "application/vnd.jupyter.widget-view+json": {
       "version_major": 2,
       "version_minor": 0,
       "model_id": "0c7c8de30c674ee283b426e2cc79967f"
      }
     },
     "metadata": {},
     "output_type": "display_data"
    },
    {
     "name": "stdout",
     "output_type": "stream",
     "text": [
      "Enter into System\n",
      "Notify about vacc. possibility\n",
      "Acknowledge vacc. possibility\n",
      "Request appointment\n",
      "Register at vaccination facillity\n",
      "Finished Risk Talk\n",
      "Submit Declaration\n",
      "Vaccinate\n",
      "Checkout\n",
      "Register at vaccination facillity\n",
      "Submit Declaration\n",
      "Vaccinate\n",
      "Checkout\n"
     ]
    }
   ],
   "source": [
    "replayed_traces_sh = token_replay.apply(log_2d, net_sh, initial_marking_sh, final_marking_sh)\n",
    "replayed_traces_alpha = token_replay.apply(log_2d, net_Alpha, initial_marking_Alpha, final_marking_Alpha)\n",
    "replayed_traces_heuristic = token_replay.apply(log_2d, net_Heuristic, initial_marking_Heuristic, final_marking_Heuristic)\n",
    "replayed_traces_state = token_replay.apply(log_2d, net_state_region_miner, initial_marking_state_region_miner, final_marking_state_region_miner)\n",
    "for i in range(len(replayed_traces_sh)):\n",
    "    if replayed_traces_sh[i]['trace_is_fit'] and not replayed_traces_alpha[i]['trace_is_fit'] and not replayed_traces_heuristic[i]['trace_is_fit'] and not replayed_traces_state[i]['trace_is_fit']:\n",
    "        for e in log_2d[i]:\n",
    "            print(e['concept:name'])\n",
    "        break"
   ],
   "metadata": {
    "collapsed": false,
    "pycharm": {
     "name": "#%%\n"
    }
   }
  },
  {
   "cell_type": "markdown",
   "source": [
    " <font size=\"5\">Question 2e</font>\n"
   ],
   "metadata": {
    "collapsed": false,
    "pycharm": {
     "name": "#%% md\n"
    }
   }
  },
  {
   "cell_type": "code",
   "execution_count": 19,
   "outputs": [
    {
     "name": "stderr",
     "output_type": "stream",
     "text": [
      "C:\\Users\\adivtran\\Desktop\\projects\\APM1\\venv\\lib\\site-packages\\pm4py\\algo\\discovery\\inductive\\parameters.py:22: UserWarning: pm4py.algo.discovery.inductive.parameters is deprecated. Please use the variant-specific parameters!\n",
      "  warnings.warn(\"pm4py.algo.discovery.inductive.parameters is deprecated. Please use the variant-specific parameters!\")\n"
     ]
    },
    {
     "data": {
      "text/plain": "aligning log, completed variants ::   0%|          | 0/409 [00:00<?, ?it/s]",
      "application/vnd.jupyter.widget-view+json": {
       "version_major": 2,
       "version_minor": 0,
       "model_id": "6be0bebbd1ad4b83a40f05016b0b82e2"
      }
     },
     "metadata": {},
     "output_type": "display_data"
    },
    {
     "data": {
      "text/plain": "computing precision with alignments, completed variants ::   0%|          | 0/2925 [00:00<?, ?it/s]",
      "application/vnd.jupyter.widget-view+json": {
       "version_major": 2,
       "version_minor": 0,
       "model_id": "6a5f06695e804290be5a9109ef1d575b"
      }
     },
     "metadata": {},
     "output_type": "display_data"
    },
    {
     "data": {
      "text/plain": "replaying log with TBR, completed variants ::   0%|          | 0/409 [00:00<?, ?it/s]",
      "application/vnd.jupyter.widget-view+json": {
       "version_major": 2,
       "version_minor": 0,
       "model_id": "0826f8b0dd3d4426bb96eaedd36a9917"
      }
     },
     "metadata": {},
     "output_type": "display_data"
    },
    {
     "data": {
      "text/plain": "replaying log with TBR, completed variants ::   0%|          | 0/2925 [00:00<?, ?it/s]",
      "application/vnd.jupyter.widget-view+json": {
       "version_major": 2,
       "version_minor": 0,
       "model_id": "1ec16108ffa84edba27fc2fd64874f31"
      }
     },
     "metadata": {},
     "output_type": "display_data"
    },
    {
     "data": {
      "text/plain": "aligning log, completed variants ::   0%|          | 0/409 [00:00<?, ?it/s]",
      "application/vnd.jupyter.widget-view+json": {
       "version_major": 2,
       "version_minor": 0,
       "model_id": "d12ddf24a1174ababf740089d0bcde21"
      }
     },
     "metadata": {},
     "output_type": "display_data"
    },
    {
     "data": {
      "text/plain": "computing precision with alignments, completed variants ::   0%|          | 0/2925 [00:00<?, ?it/s]",
      "application/vnd.jupyter.widget-view+json": {
       "version_major": 2,
       "version_minor": 0,
       "model_id": "d35d763e9dc743239605c7aa2df24a1b"
      }
     },
     "metadata": {},
     "output_type": "display_data"
    },
    {
     "data": {
      "text/plain": "replaying log with TBR, completed variants ::   0%|          | 0/409 [00:00<?, ?it/s]",
      "application/vnd.jupyter.widget-view+json": {
       "version_major": 2,
       "version_minor": 0,
       "model_id": "0981672ba987470baede17e32ba7754c"
      }
     },
     "metadata": {},
     "output_type": "display_data"
    },
    {
     "data": {
      "text/plain": "replaying log with TBR, completed variants ::   0%|          | 0/2925 [00:00<?, ?it/s]",
      "application/vnd.jupyter.widget-view+json": {
       "version_major": 2,
       "version_minor": 0,
       "model_id": "a1313c9792e047ceae0cc052fd115e0a"
      }
     },
     "metadata": {},
     "output_type": "display_data"
    },
    {
     "data": {
      "text/plain": "aligning log, completed variants ::   0%|          | 0/409 [00:00<?, ?it/s]",
      "application/vnd.jupyter.widget-view+json": {
       "version_major": 2,
       "version_minor": 0,
       "model_id": "39bb0901728142dfb27e1a26ba88be07"
      }
     },
     "metadata": {},
     "output_type": "display_data"
    },
    {
     "data": {
      "text/plain": "computing precision with alignments, completed variants ::   0%|          | 0/2925 [00:00<?, ?it/s]",
      "application/vnd.jupyter.widget-view+json": {
       "version_major": 2,
       "version_minor": 0,
       "model_id": "c69984cacd694ea1b9c8d7bb8e3cb410"
      }
     },
     "metadata": {},
     "output_type": "display_data"
    },
    {
     "data": {
      "text/plain": "replaying log with TBR, completed variants ::   0%|          | 0/409 [00:00<?, ?it/s]",
      "application/vnd.jupyter.widget-view+json": {
       "version_major": 2,
       "version_minor": 0,
       "model_id": "ae31154437124cfead18917e865d73af"
      }
     },
     "metadata": {},
     "output_type": "display_data"
    },
    {
     "data": {
      "text/plain": "replaying log with TBR, completed variants ::   0%|          | 0/2925 [00:00<?, ?it/s]",
      "application/vnd.jupyter.widget-view+json": {
       "version_major": 2,
       "version_minor": 0,
       "model_id": "7aec02b23520476ba9953b80fcb6b7db"
      }
     },
     "metadata": {},
     "output_type": "display_data"
    },
    {
     "data": {
      "text/plain": "aligning log, completed variants ::   0%|          | 0/409 [00:00<?, ?it/s]",
      "application/vnd.jupyter.widget-view+json": {
       "version_major": 2,
       "version_minor": 0,
       "model_id": "0ba1bdd6b52f435986cbf494d0c2a3fc"
      }
     },
     "metadata": {},
     "output_type": "display_data"
    },
    {
     "data": {
      "text/plain": "computing precision with alignments, completed variants ::   0%|          | 0/2925 [00:00<?, ?it/s]",
      "application/vnd.jupyter.widget-view+json": {
       "version_major": 2,
       "version_minor": 0,
       "model_id": "e5715d5a8d4b4592847647df06844334"
      }
     },
     "metadata": {},
     "output_type": "display_data"
    },
    {
     "data": {
      "text/plain": "replaying log with TBR, completed variants ::   0%|          | 0/409 [00:00<?, ?it/s]",
      "application/vnd.jupyter.widget-view+json": {
       "version_major": 2,
       "version_minor": 0,
       "model_id": "f8ad983079ac402197240577ec23cc80"
      }
     },
     "metadata": {},
     "output_type": "display_data"
    },
    {
     "data": {
      "text/plain": "replaying log with TBR, completed variants ::   0%|          | 0/2925 [00:00<?, ?it/s]",
      "application/vnd.jupyter.widget-view+json": {
       "version_major": 2,
       "version_minor": 0,
       "model_id": "d7cebd91561849fa9edce58e79dc83b1"
      }
     },
     "metadata": {},
     "output_type": "display_data"
    }
   ],
   "source": [
    "from pm4py.algo.discovery.inductive import algorithm as inductive_miner\n",
    "from pm4py.algo.discovery.inductive.parameters import Parameters as inductive_miner_parameters\n",
    "\n",
    "net_2e_0, initial_marking_2e_0, final_marking_2e_0 = inductive_miner.apply(log_2b, {inductive_miner_parameters.NOISE_THRESHOLD: 0})\n",
    "net_2e_1, initial_marking_2e_1, final_marking_2e_1 = inductive_miner.apply(log_2b, {inductive_miner_parameters.NOISE_THRESHOLD: 0.25})\n",
    "net_2e_2, initial_marking_2e_2, final_marking_2e_2 = inductive_miner.apply(log_2b, {inductive_miner_parameters.NOISE_THRESHOLD: 0.5})\n",
    "net_2e_3, initial_marking_2e_3, final_marking_2e_3 = inductive_miner.apply(log_2b, {inductive_miner_parameters.NOISE_THRESHOLD: 0.75})\n",
    "\n",
    "result_2e_0 = fitness_and_precision_calculator(net_2e_0, initial_marking_2e_0, final_marking_2e_0)\n",
    "result_2e_1 = fitness_and_precision_calculator(net_2e_1, initial_marking_2e_1, final_marking_2e_1)\n",
    "result_2e_2 = fitness_and_precision_calculator(net_2e_2, initial_marking_2e_2, final_marking_2e_2)\n",
    "result_2e_3 = fitness_and_precision_calculator(net_2e_3, initial_marking_2e_3, final_marking_2e_3)"
   ],
   "metadata": {
    "collapsed": false,
    "pycharm": {
     "name": "#%%\n"
    }
   }
  },
  {
   "cell_type": "code",
   "execution_count": 20,
   "outputs": [
    {
     "data": {
      "text/plain": "      perc_fit_trace (alignment)  perc_fit_trace (token replay)  \\\n0                      90.138721                      90.138721   \n0.25                  100.000000                     100.000000   \n0.5                   100.000000                     100.000000   \n0.75                  100.000000                     100.000000   \n\n      average_fitness (alignment)  average_fitness (token replay)  \\\n0                        0.992601                        0.992458   \n0.25                     1.000000                        1.000000   \n0.5                      1.000000                        1.000000   \n0.75                     1.000000                        1.000000   \n\n      precision (alignment)  precision (token replay)  \n0                  0.996637                  0.996637  \n0.25               0.168759                  0.168759  \n0.5                0.168759                  0.168759  \n0.75               0.168759                  0.168759  ",
      "text/html": "<div>\n<style scoped>\n    .dataframe tbody tr th:only-of-type {\n        vertical-align: middle;\n    }\n\n    .dataframe tbody tr th {\n        vertical-align: top;\n    }\n\n    .dataframe thead th {\n        text-align: right;\n    }\n</style>\n<table border=\"1\" class=\"dataframe\">\n  <thead>\n    <tr style=\"text-align: right;\">\n      <th></th>\n      <th>perc_fit_trace (alignment)</th>\n      <th>perc_fit_trace (token replay)</th>\n      <th>average_fitness (alignment)</th>\n      <th>average_fitness (token replay)</th>\n      <th>precision (alignment)</th>\n      <th>precision (token replay)</th>\n    </tr>\n  </thead>\n  <tbody>\n    <tr>\n      <th>0</th>\n      <td>90.138721</td>\n      <td>90.138721</td>\n      <td>0.992601</td>\n      <td>0.992458</td>\n      <td>0.996637</td>\n      <td>0.996637</td>\n    </tr>\n    <tr>\n      <th>0.25</th>\n      <td>100.000000</td>\n      <td>100.000000</td>\n      <td>1.000000</td>\n      <td>1.000000</td>\n      <td>0.168759</td>\n      <td>0.168759</td>\n    </tr>\n    <tr>\n      <th>0.5</th>\n      <td>100.000000</td>\n      <td>100.000000</td>\n      <td>1.000000</td>\n      <td>1.000000</td>\n      <td>0.168759</td>\n      <td>0.168759</td>\n    </tr>\n    <tr>\n      <th>0.75</th>\n      <td>100.000000</td>\n      <td>100.000000</td>\n      <td>1.000000</td>\n      <td>1.000000</td>\n      <td>0.168759</td>\n      <td>0.168759</td>\n    </tr>\n  </tbody>\n</table>\n</div>"
     },
     "execution_count": 20,
     "metadata": {},
     "output_type": "execute_result"
    }
   ],
   "source": [
    "result_fitness_precision_2e = {}\n",
    "for key in result_2e_0:\n",
    "    result_fitness_precision_2e[key] = [result_sh_2d[key]]\n",
    "for key in result_2e_0:\n",
    "    result_fitness_precision_2e[key].append(result_2e_1[key])\n",
    "for key in result_2e_0:\n",
    "    result_fitness_precision_2e[key].append(result_2e_2[key])\n",
    "for key in result_2e_0:\n",
    "    result_fitness_precision_2e[key].append(result_2e_3[key])\n",
    "\n",
    "df_fitness_precision_2e = pd.DataFrame(result_fitness_precision_2e, index=['0', '0.25', '0.5', '0.75'])\n",
    "df_fitness_precision_2e"
   ],
   "metadata": {
    "collapsed": false,
    "pycharm": {
     "name": "#%%\n"
    }
   }
  },
  {
   "cell_type": "code",
   "execution_count": 21,
   "outputs": [
    {
     "data": {
      "text/plain": "replaying log with TBR, completed variants ::   0%|          | 0/409 [00:00<?, ?it/s]",
      "application/vnd.jupyter.widget-view+json": {
       "version_major": 2,
       "version_minor": 0,
       "model_id": "197934b4a856430684b2880f968a8a4b"
      }
     },
     "metadata": {},
     "output_type": "display_data"
    },
    {
     "data": {
      "text/plain": "replaying log with TBR, completed variants ::   0%|          | 0/409 [00:00<?, ?it/s]",
      "application/vnd.jupyter.widget-view+json": {
       "version_major": 2,
       "version_minor": 0,
       "model_id": "a6eabf3276584865a88a1e63cf2954e8"
      }
     },
     "metadata": {},
     "output_type": "display_data"
    },
    {
     "data": {
      "text/plain": "replaying log with TBR, completed variants ::   0%|          | 0/409 [00:00<?, ?it/s]",
      "application/vnd.jupyter.widget-view+json": {
       "version_major": 2,
       "version_minor": 0,
       "model_id": "9c100f1184154874bdb13b8a95e69eb1"
      }
     },
     "metadata": {},
     "output_type": "display_data"
    },
    {
     "data": {
      "text/plain": "replaying log with TBR, completed variants ::   0%|          | 0/409 [00:00<?, ?it/s]",
      "application/vnd.jupyter.widget-view+json": {
       "version_major": 2,
       "version_minor": 0,
       "model_id": "07f6e992c5f74ab987599601377a7fe1"
      }
     },
     "metadata": {},
     "output_type": "display_data"
    },
    {
     "data": {
      "text/plain": "      simplicity  generalization\n0       0.616438        0.958559\n0.25    0.616438        0.958559\n0.5     0.616438        0.958559\n0.75    0.616438        0.958559",
      "text/html": "<div>\n<style scoped>\n    .dataframe tbody tr th:only-of-type {\n        vertical-align: middle;\n    }\n\n    .dataframe tbody tr th {\n        vertical-align: top;\n    }\n\n    .dataframe thead th {\n        text-align: right;\n    }\n</style>\n<table border=\"1\" class=\"dataframe\">\n  <thead>\n    <tr style=\"text-align: right;\">\n      <th></th>\n      <th>simplicity</th>\n      <th>generalization</th>\n    </tr>\n  </thead>\n  <tbody>\n    <tr>\n      <th>0</th>\n      <td>0.616438</td>\n      <td>0.958559</td>\n    </tr>\n    <tr>\n      <th>0.25</th>\n      <td>0.616438</td>\n      <td>0.958559</td>\n    </tr>\n    <tr>\n      <th>0.5</th>\n      <td>0.616438</td>\n      <td>0.958559</td>\n    </tr>\n    <tr>\n      <th>0.75</th>\n      <td>0.616438</td>\n      <td>0.958559</td>\n    </tr>\n  </tbody>\n</table>\n</div>"
     },
     "execution_count": 21,
     "metadata": {},
     "output_type": "execute_result"
    }
   ],
   "source": [
    "simplicity_2e_0, generalization_2e_0 = simplicity_and_generalization_calculator(net_2e_0, initial_marking_2e_0, final_marking_2e_0)\n",
    "simplicity_2e_1, generalization_2e_1 = simplicity_and_generalization_calculator(net_2e_1, initial_marking_2e_1, final_marking_2e_1)\n",
    "simplicity_2e_2, generalization_2e_2 = simplicity_and_generalization_calculator(net_2e_2, initial_marking_2e_2, final_marking_2e_2)\n",
    "simplicity_2e_3, generalization_2e_3 = simplicity_and_generalization_calculator(net_2e_3, initial_marking_2e_3, final_marking_2e_3)\n",
    "\n",
    "df_simplicity_generalition = pd.DataFrame({\n",
    "    'simplicity': [simplicity_2e_0, simplicity_2e_1, simplicity_2e_2, simplicity_2e_3],\n",
    "    'generalization': [generalization_2e_0, generalization_2e_1, generalization_2e_2, generalization_2e_3]\n",
    "}, index=['0', '0.25', '0.5', '0.75'])\n",
    "\n",
    "df_simplicity_generalition"
   ],
   "metadata": {
    "collapsed": false,
    "pycharm": {
     "name": "#%%\n"
    }
   }
  },
  {
   "cell_type": "markdown",
   "source": [
    "# Conformance Checking"
   ],
   "metadata": {
    "collapsed": false,
    "pycharm": {
     "name": "#%% md\n"
    }
   }
  },
  {
   "cell_type": "code",
   "execution_count": 22,
   "outputs": [
    {
     "data": {
      "text/plain": "parsing log, completed traces ::   0%|          | 0/3978 [00:00<?, ?it/s]",
      "application/vnd.jupyter.widget-view+json": {
       "version_major": 2,
       "version_minor": 0,
       "model_id": "804503e4f31d40808d1b660c9432f1f9"
      }
     },
     "metadata": {},
     "output_type": "display_data"
    }
   ],
   "source": [
    "from pm4py.algo.conformance.footprints.util import evaluation as fp_evaluation\n",
    "from pm4py.algo.evaluation.replay_fitness import algorithm as replay_fitness\n",
    "\n",
    "# Prepare the log\n",
    "log_finished_cases = pm4py.read_xes(\"logs/log_vaccination_finished_cases.xes\")"
   ],
   "metadata": {
    "collapsed": false,
    "pycharm": {
     "name": "#%%\n"
    }
   }
  },
  {
   "cell_type": "markdown",
   "source": [
    "# Question 3a"
   ],
   "metadata": {
    "collapsed": false,
    "pycharm": {
     "name": "#%% md\n"
    }
   }
  },
  {
   "cell_type": "code",
   "execution_count": 23,
   "outputs": [],
   "source": [
    "import pm4py.visualization.footprints.visualizer as fp_visualizer\n",
    "\n",
    "# Import the model of inductive and heuristic miner\n",
    "pn_inductive, im_inductive, fm_inductive = pnml_importer.apply(\"pnml/Petri-net-IM.pnml\")\n",
    "pn_heuristic, im_heuristic, fm_heuristic = pnml_importer.apply(\"pnml/Petri-net-Heuristic.pnml\")"
   ],
   "metadata": {
    "collapsed": false,
    "pycharm": {
     "name": "#%%\n"
    }
   }
  },
  {
   "cell_type": "code",
   "execution_count": 24,
   "outputs": [
    {
     "name": "stdout",
     "output_type": "stream",
     "text": [
      "The inductive miner model:\n"
     ]
    },
    {
     "ename": "ExecutableNotFound",
     "evalue": "failed to execute WindowsPath('dot'), make sure the Graphviz executables are on your systems' PATH",
     "output_type": "error",
     "traceback": [
      "\u001B[1;31m---------------------------------------------------------------------------\u001B[0m",
      "\u001B[1;31mFileNotFoundError\u001B[0m                         Traceback (most recent call last)",
      "File \u001B[1;32m~\\Desktop\\projects\\APM1\\venv\\lib\\site-packages\\graphviz\\backend\\execute.py:81\u001B[0m, in \u001B[0;36mrun_check\u001B[1;34m(cmd, input_lines, encoding, quiet, **kwargs)\u001B[0m\n\u001B[0;32m     80\u001B[0m     \u001B[38;5;28;01melse\u001B[39;00m:\n\u001B[1;32m---> 81\u001B[0m         proc \u001B[38;5;241m=\u001B[39m subprocess\u001B[38;5;241m.\u001B[39mrun(cmd, \u001B[38;5;241m*\u001B[39m\u001B[38;5;241m*\u001B[39mkwargs)\n\u001B[0;32m     82\u001B[0m \u001B[38;5;28;01mexcept\u001B[39;00m \u001B[38;5;167;01mOSError\u001B[39;00m \u001B[38;5;28;01mas\u001B[39;00m e:\n",
      "File \u001B[1;32m~\\AppData\\Local\\Programs\\Python\\Python39\\lib\\subprocess.py:505\u001B[0m, in \u001B[0;36mrun\u001B[1;34m(input, capture_output, timeout, check, *popenargs, **kwargs)\u001B[0m\n\u001B[0;32m    503\u001B[0m     kwargs[\u001B[38;5;124m'\u001B[39m\u001B[38;5;124mstderr\u001B[39m\u001B[38;5;124m'\u001B[39m] \u001B[38;5;241m=\u001B[39m PIPE\n\u001B[1;32m--> 505\u001B[0m \u001B[38;5;28;01mwith\u001B[39;00m Popen(\u001B[38;5;241m*\u001B[39mpopenargs, \u001B[38;5;241m*\u001B[39m\u001B[38;5;241m*\u001B[39mkwargs) \u001B[38;5;28;01mas\u001B[39;00m process:\n\u001B[0;32m    506\u001B[0m     \u001B[38;5;28;01mtry\u001B[39;00m:\n",
      "File \u001B[1;32m~\\AppData\\Local\\Programs\\Python\\Python39\\lib\\subprocess.py:951\u001B[0m, in \u001B[0;36mPopen.__init__\u001B[1;34m(self, args, bufsize, executable, stdin, stdout, stderr, preexec_fn, close_fds, shell, cwd, env, universal_newlines, startupinfo, creationflags, restore_signals, start_new_session, pass_fds, user, group, extra_groups, encoding, errors, text, umask)\u001B[0m\n\u001B[0;32m    948\u001B[0m             \u001B[38;5;28mself\u001B[39m\u001B[38;5;241m.\u001B[39mstderr \u001B[38;5;241m=\u001B[39m io\u001B[38;5;241m.\u001B[39mTextIOWrapper(\u001B[38;5;28mself\u001B[39m\u001B[38;5;241m.\u001B[39mstderr,\n\u001B[0;32m    949\u001B[0m                     encoding\u001B[38;5;241m=\u001B[39mencoding, errors\u001B[38;5;241m=\u001B[39merrors)\n\u001B[1;32m--> 951\u001B[0m     \u001B[38;5;28;43mself\u001B[39;49m\u001B[38;5;241;43m.\u001B[39;49m\u001B[43m_execute_child\u001B[49m\u001B[43m(\u001B[49m\u001B[43margs\u001B[49m\u001B[43m,\u001B[49m\u001B[43m \u001B[49m\u001B[43mexecutable\u001B[49m\u001B[43m,\u001B[49m\u001B[43m \u001B[49m\u001B[43mpreexec_fn\u001B[49m\u001B[43m,\u001B[49m\u001B[43m \u001B[49m\u001B[43mclose_fds\u001B[49m\u001B[43m,\u001B[49m\n\u001B[0;32m    952\u001B[0m \u001B[43m                        \u001B[49m\u001B[43mpass_fds\u001B[49m\u001B[43m,\u001B[49m\u001B[43m \u001B[49m\u001B[43mcwd\u001B[49m\u001B[43m,\u001B[49m\u001B[43m \u001B[49m\u001B[43menv\u001B[49m\u001B[43m,\u001B[49m\n\u001B[0;32m    953\u001B[0m \u001B[43m                        \u001B[49m\u001B[43mstartupinfo\u001B[49m\u001B[43m,\u001B[49m\u001B[43m \u001B[49m\u001B[43mcreationflags\u001B[49m\u001B[43m,\u001B[49m\u001B[43m \u001B[49m\u001B[43mshell\u001B[49m\u001B[43m,\u001B[49m\n\u001B[0;32m    954\u001B[0m \u001B[43m                        \u001B[49m\u001B[43mp2cread\u001B[49m\u001B[43m,\u001B[49m\u001B[43m \u001B[49m\u001B[43mp2cwrite\u001B[49m\u001B[43m,\u001B[49m\n\u001B[0;32m    955\u001B[0m \u001B[43m                        \u001B[49m\u001B[43mc2pread\u001B[49m\u001B[43m,\u001B[49m\u001B[43m \u001B[49m\u001B[43mc2pwrite\u001B[49m\u001B[43m,\u001B[49m\n\u001B[0;32m    956\u001B[0m \u001B[43m                        \u001B[49m\u001B[43merrread\u001B[49m\u001B[43m,\u001B[49m\u001B[43m \u001B[49m\u001B[43merrwrite\u001B[49m\u001B[43m,\u001B[49m\n\u001B[0;32m    957\u001B[0m \u001B[43m                        \u001B[49m\u001B[43mrestore_signals\u001B[49m\u001B[43m,\u001B[49m\n\u001B[0;32m    958\u001B[0m \u001B[43m                        \u001B[49m\u001B[43mgid\u001B[49m\u001B[43m,\u001B[49m\u001B[43m \u001B[49m\u001B[43mgids\u001B[49m\u001B[43m,\u001B[49m\u001B[43m \u001B[49m\u001B[43muid\u001B[49m\u001B[43m,\u001B[49m\u001B[43m \u001B[49m\u001B[43mumask\u001B[49m\u001B[43m,\u001B[49m\n\u001B[0;32m    959\u001B[0m \u001B[43m                        \u001B[49m\u001B[43mstart_new_session\u001B[49m\u001B[43m)\u001B[49m\n\u001B[0;32m    960\u001B[0m \u001B[38;5;28;01mexcept\u001B[39;00m:\n\u001B[0;32m    961\u001B[0m     \u001B[38;5;66;03m# Cleanup if the child failed starting.\u001B[39;00m\n",
      "File \u001B[1;32m~\\AppData\\Local\\Programs\\Python\\Python39\\lib\\subprocess.py:1420\u001B[0m, in \u001B[0;36mPopen._execute_child\u001B[1;34m(self, args, executable, preexec_fn, close_fds, pass_fds, cwd, env, startupinfo, creationflags, shell, p2cread, p2cwrite, c2pread, c2pwrite, errread, errwrite, unused_restore_signals, unused_gid, unused_gids, unused_uid, unused_umask, unused_start_new_session)\u001B[0m\n\u001B[0;32m   1419\u001B[0m \u001B[38;5;28;01mtry\u001B[39;00m:\n\u001B[1;32m-> 1420\u001B[0m     hp, ht, pid, tid \u001B[38;5;241m=\u001B[39m \u001B[43m_winapi\u001B[49m\u001B[38;5;241;43m.\u001B[39;49m\u001B[43mCreateProcess\u001B[49m\u001B[43m(\u001B[49m\u001B[43mexecutable\u001B[49m\u001B[43m,\u001B[49m\u001B[43m \u001B[49m\u001B[43margs\u001B[49m\u001B[43m,\u001B[49m\n\u001B[0;32m   1421\u001B[0m \u001B[43m                             \u001B[49m\u001B[38;5;66;43;03m# no special security\u001B[39;49;00m\n\u001B[0;32m   1422\u001B[0m \u001B[43m                             \u001B[49m\u001B[38;5;28;43;01mNone\u001B[39;49;00m\u001B[43m,\u001B[49m\u001B[43m \u001B[49m\u001B[38;5;28;43;01mNone\u001B[39;49;00m\u001B[43m,\u001B[49m\n\u001B[0;32m   1423\u001B[0m \u001B[43m                             \u001B[49m\u001B[38;5;28;43mint\u001B[39;49m\u001B[43m(\u001B[49m\u001B[38;5;129;43;01mnot\u001B[39;49;00m\u001B[43m \u001B[49m\u001B[43mclose_fds\u001B[49m\u001B[43m)\u001B[49m\u001B[43m,\u001B[49m\n\u001B[0;32m   1424\u001B[0m \u001B[43m                             \u001B[49m\u001B[43mcreationflags\u001B[49m\u001B[43m,\u001B[49m\n\u001B[0;32m   1425\u001B[0m \u001B[43m                             \u001B[49m\u001B[43menv\u001B[49m\u001B[43m,\u001B[49m\n\u001B[0;32m   1426\u001B[0m \u001B[43m                             \u001B[49m\u001B[43mcwd\u001B[49m\u001B[43m,\u001B[49m\n\u001B[0;32m   1427\u001B[0m \u001B[43m                             \u001B[49m\u001B[43mstartupinfo\u001B[49m\u001B[43m)\u001B[49m\n\u001B[0;32m   1428\u001B[0m \u001B[38;5;28;01mfinally\u001B[39;00m:\n\u001B[0;32m   1429\u001B[0m     \u001B[38;5;66;03m# Child is launched. Close the parent's copy of those pipe\u001B[39;00m\n\u001B[0;32m   1430\u001B[0m     \u001B[38;5;66;03m# handles that only the child should have open.  You need\u001B[39;00m\n\u001B[1;32m   (...)\u001B[0m\n\u001B[0;32m   1433\u001B[0m     \u001B[38;5;66;03m# pipe will not close when the child process exits and the\u001B[39;00m\n\u001B[0;32m   1434\u001B[0m     \u001B[38;5;66;03m# ReadFile will hang.\u001B[39;00m\n",
      "\u001B[1;31mFileNotFoundError\u001B[0m: [WinError 2] The system cannot find the file specified",
      "\nThe above exception was the direct cause of the following exception:\n",
      "\u001B[1;31mExecutableNotFound\u001B[0m                        Traceback (most recent call last)",
      "Input \u001B[1;32mIn [24]\u001B[0m, in \u001B[0;36m<cell line: 6>\u001B[1;34m()\u001B[0m\n\u001B[0;32m      4\u001B[0m \u001B[38;5;28mprint\u001B[39m(\u001B[38;5;124m\"\u001B[39m\u001B[38;5;124mThe inductive miner model:\u001B[39m\u001B[38;5;124m\"\u001B[39m)\n\u001B[0;32m      5\u001B[0m gviz \u001B[38;5;241m=\u001B[39m pn_visualizer\u001B[38;5;241m.\u001B[39mapply(pn_inductive, im_inductive, fm_inductive)\n\u001B[1;32m----> 6\u001B[0m \u001B[43mpn_visualizer\u001B[49m\u001B[38;5;241;43m.\u001B[39;49m\u001B[43mview\u001B[49m\u001B[43m(\u001B[49m\u001B[43mgviz\u001B[49m\u001B[43m)\u001B[49m\n\u001B[0;32m      8\u001B[0m \u001B[38;5;28mprint\u001B[39m(\u001B[38;5;124m\"\u001B[39m\u001B[38;5;124mThe heuristic miner model:\u001B[39m\u001B[38;5;124m\"\u001B[39m)\n\u001B[0;32m      9\u001B[0m gviz \u001B[38;5;241m=\u001B[39m pn_visualizer\u001B[38;5;241m.\u001B[39mapply(pn_heuristic, im_heuristic, fm_heuristic)\n",
      "File \u001B[1;32m~\\Desktop\\projects\\APM1\\venv\\lib\\site-packages\\pm4py\\visualization\\petri_net\\visualizer.py:90\u001B[0m, in \u001B[0;36mview\u001B[1;34m(gviz)\u001B[0m\n\u001B[0;32m     81\u001B[0m \u001B[38;5;28;01mdef\u001B[39;00m \u001B[38;5;21mview\u001B[39m(gviz: graphviz\u001B[38;5;241m.\u001B[39mDigraph):\n\u001B[0;32m     82\u001B[0m     \u001B[38;5;124;03m\"\"\"\u001B[39;00m\n\u001B[0;32m     83\u001B[0m \u001B[38;5;124;03m    View the diagram\u001B[39;00m\n\u001B[0;32m     84\u001B[0m \n\u001B[1;32m   (...)\u001B[0m\n\u001B[0;32m     88\u001B[0m \u001B[38;5;124;03m        GraphViz diagram\u001B[39;00m\n\u001B[0;32m     89\u001B[0m \u001B[38;5;124;03m    \"\"\"\u001B[39;00m\n\u001B[1;32m---> 90\u001B[0m     \u001B[38;5;28;01mreturn\u001B[39;00m \u001B[43mgview\u001B[49m\u001B[38;5;241;43m.\u001B[39;49m\u001B[43mview\u001B[49m\u001B[43m(\u001B[49m\u001B[43mgviz\u001B[49m\u001B[43m)\u001B[49m\n",
      "File \u001B[1;32m~\\Desktop\\projects\\APM1\\venv\\lib\\site-packages\\pm4py\\visualization\\common\\gview.py:34\u001B[0m, in \u001B[0;36mview\u001B[1;34m(gviz)\u001B[0m\n\u001B[0;32m     25\u001B[0m \u001B[38;5;124;03m\"\"\"\u001B[39;00m\n\u001B[0;32m     26\u001B[0m \u001B[38;5;124;03mView the diagram\u001B[39;00m\n\u001B[0;32m     27\u001B[0m \n\u001B[1;32m   (...)\u001B[0m\n\u001B[0;32m     31\u001B[0m \u001B[38;5;124;03m    GraphViz diagram\u001B[39;00m\n\u001B[0;32m     32\u001B[0m \u001B[38;5;124;03m\"\"\"\u001B[39;00m\n\u001B[0;32m     33\u001B[0m \u001B[38;5;28;01mif\u001B[39;00m vis_utils\u001B[38;5;241m.\u001B[39mcheck_visualization_inside_jupyter():\n\u001B[1;32m---> 34\u001B[0m     vis_utils\u001B[38;5;241m.\u001B[39mview_image_in_jupyter(\u001B[43mgviz\u001B[49m\u001B[38;5;241;43m.\u001B[39;49m\u001B[43mrender\u001B[49m\u001B[43m(\u001B[49m\u001B[43m)\u001B[49m)\n\u001B[0;32m     35\u001B[0m \u001B[38;5;28;01melse\u001B[39;00m:\n\u001B[0;32m     36\u001B[0m     \u001B[38;5;28;01mreturn\u001B[39;00m gviz\u001B[38;5;241m.\u001B[39mview(cleanup\u001B[38;5;241m=\u001B[39m\u001B[38;5;28;01mTrue\u001B[39;00m)\n",
      "File \u001B[1;32m~\\Desktop\\projects\\APM1\\venv\\lib\\site-packages\\graphviz\\_tools.py:171\u001B[0m, in \u001B[0;36mdeprecate_positional_args.<locals>.decorator.<locals>.wrapper\u001B[1;34m(*args, **kwargs)\u001B[0m\n\u001B[0;32m    162\u001B[0m     wanted \u001B[38;5;241m=\u001B[39m \u001B[38;5;124m'\u001B[39m\u001B[38;5;124m, \u001B[39m\u001B[38;5;124m'\u001B[39m\u001B[38;5;241m.\u001B[39mjoin(\u001B[38;5;124mf\u001B[39m\u001B[38;5;124m'\u001B[39m\u001B[38;5;132;01m{\u001B[39;00mname\u001B[38;5;132;01m}\u001B[39;00m\u001B[38;5;124m=\u001B[39m\u001B[38;5;132;01m{\u001B[39;00mvalue\u001B[38;5;132;01m!r}\u001B[39;00m\u001B[38;5;124m'\u001B[39m\n\u001B[0;32m    163\u001B[0m                        \u001B[38;5;28;01mfor\u001B[39;00m name, value \u001B[38;5;129;01min\u001B[39;00m deprecated\u001B[38;5;241m.\u001B[39mitems())\n\u001B[0;32m    164\u001B[0m     warnings\u001B[38;5;241m.\u001B[39mwarn(\u001B[38;5;124mf\u001B[39m\u001B[38;5;124m'\u001B[39m\u001B[38;5;124mThe signature of \u001B[39m\u001B[38;5;132;01m{\u001B[39;00mfunc\u001B[38;5;241m.\u001B[39m\u001B[38;5;18m__name__\u001B[39m\u001B[38;5;132;01m}\u001B[39;00m\u001B[38;5;124m will be reduced\u001B[39m\u001B[38;5;124m'\u001B[39m\n\u001B[0;32m    165\u001B[0m                   \u001B[38;5;124mf\u001B[39m\u001B[38;5;124m'\u001B[39m\u001B[38;5;124m to \u001B[39m\u001B[38;5;132;01m{\u001B[39;00msupported_number\u001B[38;5;132;01m}\u001B[39;00m\u001B[38;5;124m positional args\u001B[39m\u001B[38;5;124m'\u001B[39m\n\u001B[0;32m    166\u001B[0m                   \u001B[38;5;124mf\u001B[39m\u001B[38;5;124m'\u001B[39m\u001B[38;5;124m \u001B[39m\u001B[38;5;132;01m{\u001B[39;00m\u001B[38;5;28mlist\u001B[39m(supported)\u001B[38;5;132;01m}\u001B[39;00m\u001B[38;5;124m: pass \u001B[39m\u001B[38;5;132;01m{\u001B[39;00mwanted\u001B[38;5;132;01m}\u001B[39;00m\u001B[38;5;124m'\u001B[39m\n\u001B[0;32m    167\u001B[0m                   \u001B[38;5;124m'\u001B[39m\u001B[38;5;124m as keyword arg(s)\u001B[39m\u001B[38;5;124m'\u001B[39m,\n\u001B[0;32m    168\u001B[0m                   stacklevel\u001B[38;5;241m=\u001B[39mstacklevel,\n\u001B[0;32m    169\u001B[0m                   category\u001B[38;5;241m=\u001B[39mcategory)\n\u001B[1;32m--> 171\u001B[0m \u001B[38;5;28;01mreturn\u001B[39;00m func(\u001B[38;5;241m*\u001B[39margs, \u001B[38;5;241m*\u001B[39m\u001B[38;5;241m*\u001B[39mkwargs)\n",
      "File \u001B[1;32m~\\Desktop\\projects\\APM1\\venv\\lib\\site-packages\\graphviz\\rendering.py:122\u001B[0m, in \u001B[0;36mRender.render\u001B[1;34m(self, filename, directory, view, cleanup, format, renderer, formatter, neato_no_op, quiet, quiet_view, outfile, engine, raise_if_result_exists, overwrite_source)\u001B[0m\n\u001B[0;32m    118\u001B[0m filepath \u001B[38;5;241m=\u001B[39m \u001B[38;5;28mself\u001B[39m\u001B[38;5;241m.\u001B[39msave(filename, directory\u001B[38;5;241m=\u001B[39mdirectory, skip_existing\u001B[38;5;241m=\u001B[39m\u001B[38;5;28;01mNone\u001B[39;00m)\n\u001B[0;32m    120\u001B[0m args\u001B[38;5;241m.\u001B[39mappend(filepath)\n\u001B[1;32m--> 122\u001B[0m rendered \u001B[38;5;241m=\u001B[39m \u001B[38;5;28mself\u001B[39m\u001B[38;5;241m.\u001B[39m_render(\u001B[38;5;241m*\u001B[39margs, \u001B[38;5;241m*\u001B[39m\u001B[38;5;241m*\u001B[39mkwargs)\n\u001B[0;32m    124\u001B[0m \u001B[38;5;28;01mif\u001B[39;00m cleanup:\n\u001B[0;32m    125\u001B[0m     log\u001B[38;5;241m.\u001B[39mdebug(\u001B[38;5;124m'\u001B[39m\u001B[38;5;124mdelete \u001B[39m\u001B[38;5;132;01m%r\u001B[39;00m\u001B[38;5;124m'\u001B[39m, filepath)\n",
      "File \u001B[1;32m~\\Desktop\\projects\\APM1\\venv\\lib\\site-packages\\graphviz\\_tools.py:171\u001B[0m, in \u001B[0;36mdeprecate_positional_args.<locals>.decorator.<locals>.wrapper\u001B[1;34m(*args, **kwargs)\u001B[0m\n\u001B[0;32m    162\u001B[0m     wanted \u001B[38;5;241m=\u001B[39m \u001B[38;5;124m'\u001B[39m\u001B[38;5;124m, \u001B[39m\u001B[38;5;124m'\u001B[39m\u001B[38;5;241m.\u001B[39mjoin(\u001B[38;5;124mf\u001B[39m\u001B[38;5;124m'\u001B[39m\u001B[38;5;132;01m{\u001B[39;00mname\u001B[38;5;132;01m}\u001B[39;00m\u001B[38;5;124m=\u001B[39m\u001B[38;5;132;01m{\u001B[39;00mvalue\u001B[38;5;132;01m!r}\u001B[39;00m\u001B[38;5;124m'\u001B[39m\n\u001B[0;32m    163\u001B[0m                        \u001B[38;5;28;01mfor\u001B[39;00m name, value \u001B[38;5;129;01min\u001B[39;00m deprecated\u001B[38;5;241m.\u001B[39mitems())\n\u001B[0;32m    164\u001B[0m     warnings\u001B[38;5;241m.\u001B[39mwarn(\u001B[38;5;124mf\u001B[39m\u001B[38;5;124m'\u001B[39m\u001B[38;5;124mThe signature of \u001B[39m\u001B[38;5;132;01m{\u001B[39;00mfunc\u001B[38;5;241m.\u001B[39m\u001B[38;5;18m__name__\u001B[39m\u001B[38;5;132;01m}\u001B[39;00m\u001B[38;5;124m will be reduced\u001B[39m\u001B[38;5;124m'\u001B[39m\n\u001B[0;32m    165\u001B[0m                   \u001B[38;5;124mf\u001B[39m\u001B[38;5;124m'\u001B[39m\u001B[38;5;124m to \u001B[39m\u001B[38;5;132;01m{\u001B[39;00msupported_number\u001B[38;5;132;01m}\u001B[39;00m\u001B[38;5;124m positional args\u001B[39m\u001B[38;5;124m'\u001B[39m\n\u001B[0;32m    166\u001B[0m                   \u001B[38;5;124mf\u001B[39m\u001B[38;5;124m'\u001B[39m\u001B[38;5;124m \u001B[39m\u001B[38;5;132;01m{\u001B[39;00m\u001B[38;5;28mlist\u001B[39m(supported)\u001B[38;5;132;01m}\u001B[39;00m\u001B[38;5;124m: pass \u001B[39m\u001B[38;5;132;01m{\u001B[39;00mwanted\u001B[38;5;132;01m}\u001B[39;00m\u001B[38;5;124m'\u001B[39m\n\u001B[0;32m    167\u001B[0m                   \u001B[38;5;124m'\u001B[39m\u001B[38;5;124m as keyword arg(s)\u001B[39m\u001B[38;5;124m'\u001B[39m,\n\u001B[0;32m    168\u001B[0m                   stacklevel\u001B[38;5;241m=\u001B[39mstacklevel,\n\u001B[0;32m    169\u001B[0m                   category\u001B[38;5;241m=\u001B[39mcategory)\n\u001B[1;32m--> 171\u001B[0m \u001B[38;5;28;01mreturn\u001B[39;00m func(\u001B[38;5;241m*\u001B[39margs, \u001B[38;5;241m*\u001B[39m\u001B[38;5;241m*\u001B[39mkwargs)\n",
      "File \u001B[1;32m~\\Desktop\\projects\\APM1\\venv\\lib\\site-packages\\graphviz\\backend\\rendering.py:324\u001B[0m, in \u001B[0;36mrender\u001B[1;34m(engine, format, filepath, renderer, formatter, neato_no_op, quiet, outfile, raise_if_result_exists, overwrite_filepath)\u001B[0m\n\u001B[0;32m    320\u001B[0m     \u001B[38;5;28;01mraise\u001B[39;00m exceptions\u001B[38;5;241m.\u001B[39mFileExistsError(\u001B[38;5;124mf\u001B[39m\u001B[38;5;124m'\u001B[39m\u001B[38;5;124moutput file exists: \u001B[39m\u001B[38;5;132;01m{\u001B[39;00mos\u001B[38;5;241m.\u001B[39mfspath(outfile)\u001B[38;5;132;01m!r}\u001B[39;00m\u001B[38;5;124m'\u001B[39m)\n\u001B[0;32m    322\u001B[0m cmd \u001B[38;5;241m+\u001B[39m\u001B[38;5;241m=\u001B[39m args\n\u001B[1;32m--> 324\u001B[0m \u001B[43mexecute\u001B[49m\u001B[38;5;241;43m.\u001B[39;49m\u001B[43mrun_check\u001B[49m\u001B[43m(\u001B[49m\u001B[43mcmd\u001B[49m\u001B[43m,\u001B[49m\n\u001B[0;32m    325\u001B[0m \u001B[43m                  \u001B[49m\u001B[43mcwd\u001B[49m\u001B[38;5;241;43m=\u001B[39;49m\u001B[43mfilepath\u001B[49m\u001B[38;5;241;43m.\u001B[39;49m\u001B[43mparent\u001B[49m\u001B[43m \u001B[49m\u001B[38;5;28;43;01mif\u001B[39;49;00m\u001B[43m \u001B[49m\u001B[43mfilepath\u001B[49m\u001B[38;5;241;43m.\u001B[39;49m\u001B[43mparent\u001B[49m\u001B[38;5;241;43m.\u001B[39;49m\u001B[43mparts\u001B[49m\u001B[43m \u001B[49m\u001B[38;5;28;43;01melse\u001B[39;49;00m\u001B[43m \u001B[49m\u001B[38;5;28;43;01mNone\u001B[39;49;00m\u001B[43m,\u001B[49m\n\u001B[0;32m    326\u001B[0m \u001B[43m                  \u001B[49m\u001B[43mquiet\u001B[49m\u001B[38;5;241;43m=\u001B[39;49m\u001B[43mquiet\u001B[49m\u001B[43m,\u001B[49m\n\u001B[0;32m    327\u001B[0m \u001B[43m                  \u001B[49m\u001B[43mcapture_output\u001B[49m\u001B[38;5;241;43m=\u001B[39;49m\u001B[38;5;28;43;01mTrue\u001B[39;49;00m\u001B[43m)\u001B[49m\n\u001B[0;32m    329\u001B[0m \u001B[38;5;28;01mreturn\u001B[39;00m os\u001B[38;5;241m.\u001B[39mfspath(outfile)\n",
      "File \u001B[1;32m~\\Desktop\\projects\\APM1\\venv\\lib\\site-packages\\graphviz\\backend\\execute.py:84\u001B[0m, in \u001B[0;36mrun_check\u001B[1;34m(cmd, input_lines, encoding, quiet, **kwargs)\u001B[0m\n\u001B[0;32m     82\u001B[0m \u001B[38;5;28;01mexcept\u001B[39;00m \u001B[38;5;167;01mOSError\u001B[39;00m \u001B[38;5;28;01mas\u001B[39;00m e:\n\u001B[0;32m     83\u001B[0m     \u001B[38;5;28;01mif\u001B[39;00m e\u001B[38;5;241m.\u001B[39merrno \u001B[38;5;241m==\u001B[39m errno\u001B[38;5;241m.\u001B[39mENOENT:\n\u001B[1;32m---> 84\u001B[0m         \u001B[38;5;28;01mraise\u001B[39;00m ExecutableNotFound(cmd) \u001B[38;5;28;01mfrom\u001B[39;00m \u001B[38;5;21;01me\u001B[39;00m\n\u001B[0;32m     85\u001B[0m     \u001B[38;5;28;01mraise\u001B[39;00m\n\u001B[0;32m     87\u001B[0m \u001B[38;5;28;01mif\u001B[39;00m \u001B[38;5;129;01mnot\u001B[39;00m quiet \u001B[38;5;129;01mand\u001B[39;00m proc\u001B[38;5;241m.\u001B[39mstderr:\n",
      "\u001B[1;31mExecutableNotFound\u001B[0m: failed to execute WindowsPath('dot'), make sure the Graphviz executables are on your systems' PATH"
     ]
    }
   ],
   "source": [
    "fp_inductive = footprints_discovery.apply(pn_inductive, im_inductive, fm_inductive)\n",
    "fp_heuristic = footprints_discovery.apply(pn_heuristic, im_heuristic, fm_heuristic)\n",
    "\n",
    "print(\"The inductive miner model:\")\n",
    "gviz = pn_visualizer.apply(pn_inductive, im_inductive, fm_inductive)\n",
    "pn_visualizer.view(gviz)\n",
    "\n",
    "print(\"The heuristic miner model:\")\n",
    "gviz = pn_visualizer.apply(pn_heuristic, im_heuristic, fm_heuristic)\n",
    "pn_visualizer.view(gviz)\n",
    "\n",
    "print(\"The footprints matrix of the inductive miner model:\")\n",
    "gviz = fp_visualizer.apply(fp_inductive)\n",
    "fp_visualizer.view(gviz)\n",
    "\n",
    "print(\"The footprints matrix of the heuristic miner model:\")\n",
    "gviz = fp_visualizer.apply(fp_heuristic)\n",
    "fp_visualizer.view(gviz)\n",
    "\n",
    "print(fp_inductive)\n",
    "print(fp_heuristic)\n",
    "print(\n",
    "    f\"The inductive miner model has {len(fp_inductive['sequence'])} sequence contructs and {len(fp_inductive['parallel'])} parallel constructs\")\n",
    "print(\n",
    "    f\"The heuristic miner model has {len(fp_heuristic['sequence'])} sequence contructs and {len(fp_heuristic['parallel'])} parallel constructs\")"
   ],
   "metadata": {
    "collapsed": false,
    "pycharm": {
     "name": "#%%\n"
    }
   }
  },
  {
   "cell_type": "markdown",
   "source": [
    "# Question 3b"
   ],
   "metadata": {
    "collapsed": false,
    "pycharm": {
     "name": "#%% md\n"
    }
   }
  },
  {
   "cell_type": "code",
   "execution_count": null,
   "outputs": [],
   "source": [
    "# Import the full hand model\n",
    "pn_full_hand, im_full_hand, fm_full_hand = pnml_importer.apply(\"models/full_hand.pnml\")"
   ],
   "metadata": {
    "collapsed": false,
    "pycharm": {
     "name": "#%%\n"
    }
   }
  },
  {
   "cell_type": "code",
   "execution_count": null,
   "outputs": [],
   "source": [
    "# Helper functions to calculate conformance\n",
    "def calculate_conformance(algo, log, pn, im, fm):\n",
    "    return algo(log, pn, im, fm)\n",
    "\n",
    "\n",
    "# Calculate footprints conformance\n",
    "# UNRELIABLE FUNCTION, PM4PY BUGGED\n",
    "def fp_conformance(log, pn, im, fm):\n",
    "    fp_log = footprints_discovery.apply(log, variant=footprints_discovery.Variants.ENTIRE_EVENT_LOG)\n",
    "    fp_pn = footprints_discovery.apply(pn, im, fm)\n",
    "    fp_res = footprints_conformance.apply(fp_log, fp_pn, variant=footprints_conformance.Variants.LOG_EXTENSIVE)\n",
    "    fp_fitness = fp_evaluation.fp_fitness(fp_log, fp_pn, fp_res)\n",
    "    print(f\"The fitness of the model according to footprint matrix is {fp_fitness}\")\n",
    "    return fp_fitness\n",
    "\n",
    "\n",
    "# Calculate token-based replay conformance\n",
    "def tbr_conformance(log, pn, im, fm):\n",
    "    # Replaying traces\n",
    "    replayed_traces = token_replay.apply(log, pn, im, fm)\n",
    "\n",
    "    # Calculating the total number of misisng, consumed, remaining, producde tokens\n",
    "    m, c, r, p = 0, 0, 0, 0\n",
    "    for res in replayed_traces:\n",
    "        m += res['missing_tokens']\n",
    "        c += res['consumed_tokens']\n",
    "        r += res['remaining_tokens']\n",
    "        p += res['produced_tokens']\n",
    "\n",
    "    # Final result as log fitness\n",
    "    tbr_fitness = 0.5 * (1 - m / c) + 0.5 * (1 - r / p)\n",
    "    print(f\"The fitness of the model according to token-based replay is {tbr_fitness}\")\n",
    "\n",
    "    return tbr_fitness\n",
    "\n",
    "\n",
    "# Calculate alignments-based conformance\n",
    "def alignments_conformance(log, pn, im, fm):\n",
    "    aligned_traces = alignments.apply_log(log, pn, im, fm)\n",
    "    alignments_fitness = replay_fitness.evaluate(aligned_traces, variant=replay_fitness.Variants.ALIGNMENT_BASED)['log_fitness']\n",
    "    print(f\"The fitness of the model according to alignments is {alignments_fitness}\")\n",
    "    return alignments_fitness"
   ],
   "metadata": {
    "collapsed": false,
    "pycharm": {
     "name": "#%%\n"
    }
   }
  },
  {
   "cell_type": "code",
   "execution_count": null,
   "outputs": [],
   "source": [
    "# Footprints conformance\n",
    "calculate_conformance(fp_conformance, log_finished_cases, pn_full_hand, im_full_hand, fm_full_hand)"
   ],
   "metadata": {
    "collapsed": false,
    "pycharm": {
     "name": "#%%\n"
    }
   }
  },
  {
   "cell_type": "code",
   "execution_count": null,
   "outputs": [],
   "source": [
    "# Token-based replay\n",
    "calculate_conformance(tbr_conformance, log_finished_cases, pn_full_hand, im_full_hand, fm_full_hand)"
   ],
   "metadata": {
    "collapsed": false,
    "pycharm": {
     "name": "#%%\n"
    }
   }
  },
  {
   "cell_type": "code",
   "execution_count": null,
   "outputs": [],
   "source": [
    "# Alignments\n",
    "calculate_conformance(alignments_conformance, log_finished_cases, pn_full_hand, im_full_hand, fm_full_hand)"
   ],
   "metadata": {
    "collapsed": false,
    "pycharm": {
     "name": "#%%\n"
    }
   }
  },
  {
   "cell_type": "markdown",
   "source": [
    "# Question 3c"
   ],
   "metadata": {
    "collapsed": false,
    "pycharm": {
     "name": "#%% md\n"
    }
   }
  },
  {
   "cell_type": "code",
   "execution_count": null,
   "outputs": [],
   "source": [
    "# Import the logs and the models\n",
    "log_one_trace = xes_importer.apply(\"logs/one_trace_log.xes\")\n",
    "pn_flower, im_flower, fm_flower = pnml_importer.apply(\"models/flower.pnml\")"
   ],
   "metadata": {
    "collapsed": false,
    "pycharm": {
     "name": "#%%\n"
    }
   }
  },
  {
   "cell_type": "code",
   "execution_count": null,
   "outputs": [],
   "source": [
    "# Log of finished cases and the flower model\n",
    "calculate_conformance(fp_conformance, log_finished_cases, pn_flower, im_flower, fm_flower)\n",
    "calculate_conformance(alignments_conformance, log_finished_cases, pn_flower, im_flower, fm_flower)"
   ],
   "metadata": {
    "collapsed": false,
    "pycharm": {
     "name": "#%%\n"
    }
   }
  },
  {
   "cell_type": "code",
   "execution_count": null,
   "outputs": [],
   "source": [
    "# One-trace log and the full hand model\n",
    "calculate_conformance(tbr_conformance, log_one_trace, pn_full_hand, im_full_hand, fm_full_hand)\n",
    "calculate_conformance(alignments_conformance, log_one_trace, pn_full_hand, im_full_hand, fm_full_hand)"
   ],
   "metadata": {
    "collapsed": false,
    "pycharm": {
     "name": "#%%\n"
    }
   }
  },
  {
   "cell_type": "code",
   "execution_count": null,
   "outputs": [],
   "source": [
    "# Viewing the alignment of the one-trace log\n",
    "one_trace_align = alignments.apply(log_one_trace, pn_full_hand, im_full_hand, fm_full_hand)\n",
    "one_trace_align"
   ],
   "metadata": {
    "collapsed": false,
    "pycharm": {
     "name": "#%%\n"
    }
   }
  },
  {
   "cell_type": "code",
   "execution_count": null,
   "outputs": [],
   "source": [
    "# Viewing the token based replay of the one-trace log\n",
    "tokens = token_replay.apply(log_one_trace, pn_full_hand, im_full_hand, fm_full_hand)\n",
    "tokens"
   ],
   "metadata": {
    "collapsed": false,
    "pycharm": {
     "name": "#%%\n"
    }
   }
  },
  {
   "cell_type": "markdown",
   "id": "5393486b",
   "metadata": {
    "pycharm": {
     "name": "#%% md\n"
    }
   },
   "source": [
    "# Question 3a"
   ]
  },
  {
   "cell_type": "code",
   "execution_count": null,
   "id": "6467e063",
   "metadata": {
    "pycharm": {
     "name": "#%%\n"
    }
   },
   "outputs": [],
   "source": [
    "import pm4py.visualization.footprints.visualizer as fp_visualizer\n",
    "\n",
    "# Import the model of inductive and heuristic miner\n",
    "pn_inductive, im_inductive, fm_inductive = pnml_importer.apply(\"pnml/Petri-net-IM.pnml\")\n",
    "pn_heuristic, im_heuristic, fm_heuristic = pnml_importer.apply(\"pnml/Petri-net-Heuristic.pnml\")"
   ]
  },
  {
   "cell_type": "code",
   "execution_count": null,
   "id": "c547324a",
   "metadata": {
    "pycharm": {
     "name": "#%%\n"
    }
   },
   "outputs": [],
   "source": [
    "fp_inductive = footprints_discovery.apply(pn_inductive, im_inductive, fm_inductive)\n",
    "fp_heuristic = footprints_discovery.apply(pn_heuristic, im_heuristic, fm_heuristic)\n",
    "\n",
    "print(\"The inductive miner model:\")\n",
    "gviz = pn_visualizer.apply(pn_inductive, im_inductive, fm_inductive)\n",
    "pn_visualizer.view(gviz)\n",
    "\n",
    "print(\"The heuristic miner model:\")\n",
    "gviz = pn_visualizer.apply(pn_heuristic, im_heuristic, fm_heuristic)\n",
    "pn_visualizer.view(gviz)\n",
    "\n",
    "print(\"The footprints matrix of the inductive miner model:\")\n",
    "gviz = fp_visualizer.apply(fp_inductive)\n",
    "fp_visualizer.view(gviz)\n",
    "\n",
    "print(\"The footprints matrix of the heuristic miner model:\")\n",
    "gviz = fp_visualizer.apply(fp_heuristic)\n",
    "fp_visualizer.view(gviz)\n",
    "\n",
    "\n",
    "\n",
    "print(fp_inductive)\n",
    "print(fp_heuristic)\n",
    "print(f\"The inductive miner model has {len(fp_inductive['sequence'])} sequence contructs and {len(fp_inductive['parallel'])} parallel constructs\")\n",
    "print(f\"The heuristic miner model has {len(fp_heuristic['sequence'])} sequence contructs and {len(fp_heuristic['parallel'])} parallel constructs\")"
   ]
  },
  {
   "cell_type": "markdown",
   "id": "2c28304c",
   "metadata": {
    "pycharm": {
     "name": "#%% md\n"
    }
   },
   "source": [
    "# Question 3b"
   ]
  },
  {
   "cell_type": "code",
   "execution_count": null,
   "id": "9ac8e1ec",
   "metadata": {
    "pycharm": {
     "name": "#%%\n"
    }
   },
   "outputs": [],
   "source": [
    "# Import the full hand model\n",
    "pn_full_hand, im_full_hand, fm_full_hand = pnml_importer.apply(\"models/full_hand.pnml\")"
   ]
  },
  {
   "cell_type": "code",
   "execution_count": null,
   "id": "a140946b",
   "metadata": {
    "pycharm": {
     "name": "#%%\n"
    }
   },
   "outputs": [],
   "source": [
    "# Helper functions to calculate conformance\n",
    "def calculate_conformance(algo, log, pn, im, fm):\n",
    "    return algo(log, pn, im, fm)\n",
    "\n",
    "# Calculate footprints conformance\n",
    "# UNRELIABLE FUNCTION, PM4PY BUGGED\n",
    "def fp_conformance(log, pn, im, fm):\n",
    "    fp_log = footprints_discovery.apply(log, variant=footprints_discovery.Variants.ENTIRE_EVENT_LOG)\n",
    "    fp_pn = footprints_discovery.apply(pn, im, fm)\n",
    "    fp_res = footprints_conformance.apply(fp_log, fp_pn, variant=footprints_conformance.Variants.LOG_EXTENSIVE)\n",
    "    fp_fitness = fp_evaluation.fp_fitness(fp_log, fp_pn, fp_res)\n",
    "    print(f\"The fitness of the model according to footprint matrix is {fp_fitness}\")\n",
    "    return fp_fitness\n",
    "\n",
    "# Calculate token-based replay conformance\n",
    "def tbr_conformance(log, pn, im, fm):\n",
    "    # Replaying traces\n",
    "    replayed_traces = token_replay.apply(log, pn, im, fm)\n",
    "\n",
    "    # Calculating the total number of misisng, consumed, remaining, producde tokens\n",
    "    m, c, r, p = 0, 0, 0, 0\n",
    "    for res in replayed_traces:\n",
    "        m += res['missing_tokens']\n",
    "        c += res['consumed_tokens']\n",
    "        r += res['remaining_tokens']\n",
    "        p += res['produced_tokens']\n",
    "\n",
    "    # Final result as log fitness\n",
    "    tbr_fitness = 0.5*(1-m/c)+0.5*(1-r/p)\n",
    "    print(f\"The fitness of the model according to token-based replay is {tbr_fitness}\")\n",
    "    \n",
    "    return tbr_fitness\n",
    "\n",
    "# Calculate alignments-based conformance\n",
    "def alignments_conformance(log, pn, im, fm):\n",
    "    aligned_traces = alignments.apply_log(log, pn, im, fm)\n",
    "    alignments_fitness = replay_fitness.evaluate(aligned_traces, variant=replay_fitness.Variants.ALIGNMENT_BASED)['log_fitness']\n",
    "    print(f\"The fitness of the model according to alignments is {alignments_fitness}\")\n",
    "    return alignments_fitness"
   ]
  },
  {
   "cell_type": "code",
   "execution_count": null,
   "id": "097eb512",
   "metadata": {
    "pycharm": {
     "name": "#%%\n"
    }
   },
   "outputs": [],
   "source": [
    "# Footprints conformance\n",
    "calculate_conformance(fp_conformance, log_finished_cases, pn_full_hand, im_full_hand, fm_full_hand)"
   ]
  },
  {
   "cell_type": "code",
   "execution_count": null,
   "id": "3a4a6e0b",
   "metadata": {
    "pycharm": {
     "name": "#%%\n"
    }
   },
   "outputs": [],
   "source": [
    "# Token-based replay\n",
    "calculate_conformance(tbr_conformance, log_finished_cases, pn_full_hand, im_full_hand, fm_full_hand)"
   ]
  },
  {
   "cell_type": "code",
   "execution_count": null,
   "id": "4a20a388",
   "metadata": {
    "pycharm": {
     "name": "#%%\n"
    }
   },
   "outputs": [],
   "source": [
    "# Alignments\n",
    "calculate_conformance(alignments_conformance, log_finished_cases, pn_full_hand, im_full_hand, fm_full_hand)"
   ]
  },
  {
   "cell_type": "markdown",
   "id": "15d8d010",
   "metadata": {
    "pycharm": {
     "name": "#%% md\n"
    }
   },
   "source": [
    "# Question 3c"
   ]
  },
  {
   "cell_type": "code",
   "execution_count": null,
   "id": "44f6ad66",
   "metadata": {
    "pycharm": {
     "name": "#%%\n"
    }
   },
   "outputs": [],
   "source": [
    "# Import the logs and the models\n",
    "log_one_trace = xes_importer.apply(\"logs/one_trace_log.xes\")\n",
    "pn_flower, im_flower, fm_flower = pnml_importer.apply(\"models/flower.pnml\")"
   ]
  },
  {
   "cell_type": "code",
   "execution_count": null,
   "id": "9eb3d5c7",
   "metadata": {
    "pycharm": {
     "name": "#%%\n"
    }
   },
   "outputs": [],
   "source": [
    "# Log of finished cases and the flower model\n",
    "calculate_conformance(fp_conformance, log_finished_cases, pn_flower, im_flower, fm_flower)\n",
    "calculate_conformance(alignments_conformance, log_finished_cases, pn_flower, im_flower, fm_flower)"
   ]
  },
  {
   "cell_type": "code",
   "execution_count": null,
   "id": "bf195857",
   "metadata": {
    "pycharm": {
     "name": "#%%\n"
    }
   },
   "outputs": [],
   "source": [
    "# One-trace log and the full hand model\n",
    "calculate_conformance(tbr_conformance, log_one_trace, pn_full_hand, im_full_hand, fm_full_hand)\n",
    "calculate_conformance(alignments_conformance, log_one_trace, pn_full_hand, im_full_hand, fm_full_hand)"
   ]
  },
  {
   "cell_type": "code",
   "execution_count": null,
   "id": "93cd4907",
   "metadata": {
    "pycharm": {
     "name": "#%%\n"
    }
   },
   "outputs": [],
   "source": [
    "# Viewing the alignment of the one-trace log\n",
    "one_trace_align = alignments.apply(log_one_trace, pn_full_hand, im_full_hand, fm_full_hand)\n",
    "one_trace_align"
   ]
  },
  {
   "cell_type": "code",
   "execution_count": null,
   "id": "efe146f3",
   "metadata": {
    "pycharm": {
     "name": "#%%\n"
    }
   },
   "outputs": [],
   "source": [
    "# Viewing the token based replay of the one-trace log\n",
    "tokens = token_replay.apply(log_one_trace, pn_full_hand, im_full_hand, fm_full_hand)\n",
    "tokens"
   ]
  },
  {
   "cell_type": "markdown",
   "id": "e0fa0083",
   "metadata": {
    "pycharm": {
     "name": "#%% md\n"
    }
   },
   "source": [
    "# Performance"
   ]
  },
  {
   "cell_type": "code",
   "execution_count": null,
   "id": "92cf385a",
   "metadata": {
    "pycharm": {
     "name": "#%%\n"
    }
   },
   "outputs": [],
   "source": []
  }
 ],
 "metadata": {
  "kernelspec": {
   "display_name": "Python 3 (ipykernel)",
   "language": "python",
   "name": "python3"
  },
  "language_info": {
   "codemirror_mode": {
    "name": "ipython",
    "version": 3
   },
   "file_extension": ".py",
   "mimetype": "text/x-python",
   "name": "python",
   "nbconvert_exporter": "python",
   "pygments_lexer": "ipython3",
   "version": "3.8.10"
  }
 },
 "nbformat": 4,
 "nbformat_minor": 5
}
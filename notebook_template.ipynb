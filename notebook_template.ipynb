{
 "cells": [
  {
   "cell_type": "markdown",
   "id": "1b41eba8",
   "metadata": {
    "pycharm": {
     "name": "#%% md\n"
    }
   },
   "source": [
    "# Setup"
   ]
  },
  {
   "cell_type": "markdown",
   "id": "f3de37ce",
   "metadata": {
    "pycharm": {
     "name": "#%% md\n"
    }
   },
   "source": [
    "Here, we already imported most of the packages that you might want to use"
   ]
  },
  {
   "cell_type": "code",
   "execution_count": 2,
   "id": "88977c7b",
   "metadata": {
    "pycharm": {
     "name": "#%%\n"
    }
   },
   "outputs": [],
   "source": [
    "import os\n",
    "import pandas as pd"
   ]
  },
  {
   "cell_type": "code",
   "execution_count": 3,
   "id": "96f9a4cd",
   "metadata": {
    "pycharm": {
     "name": "#%%\n"
    }
   },
   "outputs": [
    {
     "name": "stderr",
     "output_type": "stream",
     "text": [
      "c:\\users\\thinkpad x1\\appdata\\local\\programs\\python\\python38\\lib\\site-packages\\pm4py\\algo\\conformance\\alignments\\algorithm.py:19: UserWarning: please use pm4py.algo.conformance.alignments.petri_net.algorithm instead\n",
      "  warnings.warn(\"please use pm4py.algo.conformance.alignments.petri_net.algorithm instead\")\n"
     ]
    }
   ],
   "source": [
    "import pm4py\n",
    "\n",
    "## Log Util\n",
    "# Log conversion\n",
    "from pm4py.objects.conversion.log import converter as log_converter\n",
    "# Read Log (e.g., If you can not use the simplified interface because you do not have ipywidgets installed)\n",
    "from pm4py.objects.log.importer.xes import importer as xes_importer\n",
    "from pm4py.objects.log.obj import EventLog\n",
    "from pm4py.objects.log.util.log import get_event_labels\n",
    "from pm4py.algo.filtering.log.attributes import attributes_filter\n",
    "from pm4py.algo.filtering.log.variants import variants_filter\n",
    "\n",
    "## Conformance Checking\n",
    "# Token-based replay (e.g., If you can not use the simplified interface because you do not have ipywidgets installed)\n",
    "from pm4py.algo.conformance.tokenreplay import algorithm as token_replay\n",
    "# Standard Alignments (e.g., If you can not use the simplified interface because you do not have ipywidgets installed)\n",
    "from pm4py.algo.conformance.alignments import algorithm as alignments\n",
    "# Footprint\n",
    "from pm4py.algo.conformance.footprints import algorithm as footprints_conformance\n",
    "from pm4py.algo.discovery.footprints import algorithm as footprints_discovery\n",
    "\n",
    "from pm4py.algo.evaluation.replay_fitness import algorithm as replay_fitness_evaluator\n",
    "from pm4py.algo.evaluation.precision import algorithm as precision_evaluator\n",
    "from pm4py.algo.evaluation.generalization import algorithm as generalization_evaluator\n",
    "from pm4py.algo.evaluation.simplicity import algorithm as simplicity_evaluator\n",
    "\n",
    "## Petri Nets\n",
    "from pm4py.objects.petri_net.obj import PetriNet, Marking\n",
    "from pm4py.objects.petri_net.utils import petri_utils, check_soundness\n",
    "from pm4py.objects.petri_net.importer import importer as pnml_importer\n",
    "from pm4py.objects.petri_net.exporter import exporter as pnml_exporter\n",
    "from pm4py.visualization.petri_net import visualizer as pn_visualizer\n",
    "\n",
    "## Decision Trees\n",
    "from sklearn import tree\n",
    "from pm4py.visualization.decisiontree import visualizer as dectree_visualizer\n",
    "from pm4py.visualization.process_tree import visualizer as pt_visualizer\n",
    "from pm4py.algo.transformation.log_to_features import algorithm as log_to_features\n",
    "from pm4py.objects.log.util import get_class_representation"
   ]
  },
  {
   "cell_type": "code",
   "execution_count": 17,
   "id": "1797645d",
   "metadata": {
    "pycharm": {
     "name": "#%%\n"
    }
   },
   "outputs": [],
   "source": [
    "def prepare_dict(dict1, dict2):\n",
    "    # dict1 = alignment\n",
    "    # dict2 = token_replay\n",
    "    res = dict()\n",
    "    for key in dict1:\n",
    "        if key == 'percFitTraces':\n",
    "            res[key] = [dict1[key], dict2['perc_fit_traces']]\n",
    "        elif key == 'averageFitness':\n",
    "            res[key] = [dict1[key], dict2['average_trace_fitness']]\n",
    "        else:\n",
    "            res[key] = [dict1[key], dict2[key]]\n",
    "    return res"
   ]
  },
  {
   "cell_type": "markdown",
   "id": "4c06e9f0",
   "metadata": {
    "pycharm": {
     "name": "#%% md\n"
    }
   },
   "source": [
    "# Hints\n",
    "**Have look at the simplified interface of PM4Py $\\rightarrow$ Click on the 'See Simplified Interface' buttons on the documentation page**\n",
    "\n",
    "Good way to convert a DataFrame so that it works nicely in PM4Py\n",
    "```python\n",
    "df = pm4py.format_dataframe(df, case_id=case_id_column activity_key=activity_column, timestamp_key=timestamp_column)\n",
    "```\n",
    "\n",
    "If you do not have ipywidgets installed, you'll probably encounter the ```IProgress not found``` error.\n",
    "In that case, it should help to deactivate the progress bar by passing a dictionary with the following key:\n",
    "```python\n",
    "{'show_progress_bar': False}\n",
    "```\n",
    "However, currently you can not use the simplified interface then. Instead you have to use the base functions.\n",
    "For example, for importing a log without progress bar, you can use\n",
    "```\n",
    "log = xes_importer.apply('log.xes',parameters={'show_progress_bar':False})\n",
    "```\n",
    "If you have ipywidgets installed\n",
    "```python\n",
    "log = pm4py.read_xes(file_path)\n",
    "```\n",
    "can be used."
   ]
  },
  {
   "cell_type": "code",
   "execution_count": 18,
   "id": "fb595f46",
   "metadata": {
    "pycharm": {
     "name": "#%%\n"
    }
   },
   "outputs": [
    {
     "data": {
      "application/vnd.jupyter.widget-view+json": {
       "model_id": "5ded49850fc247c79b2f487e9e723b9d",
       "version_major": 2,
       "version_minor": 0
      },
      "text/plain": [
       "parsing log, completed traces ::   0%|          | 0/4960 [00:00<?, ?it/s]"
      ]
     },
     "metadata": {},
     "output_type": "display_data"
    }
   ],
   "source": [
    "log = pm4py.read_xes(\"logs/log_vaccination.xes\")"
   ]
  },
  {
   "cell_type": "markdown",
   "id": "a5be582d",
   "metadata": {
    "pycharm": {
     "name": "#%% md\n"
    }
   },
   "source": [
    "# Process Overview"
   ]
  },
  {
   "cell_type": "code",
   "execution_count": 18,
   "id": "ff334409",
   "metadata": {
    "pycharm": {
     "name": "#%%\n"
    }
   },
   "outputs": [],
   "source": []
  },
  {
   "cell_type": "markdown",
   "id": "c7098bda",
   "metadata": {
    "pycharm": {
     "name": "#%% md\n"
    }
   },
   "source": [
    "# Process Discovery"
   ]
  },
  {
   "cell_type": "markdown",
   "id": "815f9cb7",
   "metadata": {
    "pycharm": {
     "name": "#%% md\n"
    }
   },
   "source": [
    " <font size=\"5\">Question 2a</font>"
   ]
  },
  {
   "cell_type": "code",
   "execution_count": 19,
   "id": "fb97ac09",
   "metadata": {
    "pycharm": {
     "name": "#%%\n"
    }
   },
   "outputs": [
    {
     "name": "stdout",
     "output_type": "stream",
     "text": [
      "Size of original log: 4960\n",
      "Size of filtered log: 3444\n",
      "Removed end activities: {'Checkout', 'Priority Appointment granted', 'Send Invoice', 'Decline vaccination', 'Vaccinate'}\n"
     ]
    }
   ],
   "source": [
    "from pm4py.algo.filtering.log.end_activities import end_activities_filter\n",
    "\n",
    "true_end_activities = ['Checkout No Vacc', 'Decline Vaccination', 'Destroy Vacc', 'Notify about vacc. possibility',\n",
    "                       'Send Vaccination Certificate']\n",
    "in_log_end_activities = set(end_activities_filter.get_end_activities(log).keys())\n",
    "filtered_log = end_activities_filter.apply(log, true_end_activities)\n",
    "\n",
    "removed_activities = in_log_end_activities - set(true_end_activities)\n",
    "\n",
    "print(f'Size of original log: {len(log)}')\n",
    "print(f'Size of filtered log: {len(filtered_log)}')\n",
    "print(f'Removed end activities: {removed_activities}')"
   ]
  },
  {
   "cell_type": "markdown",
   "id": "84ad0904",
   "metadata": {
    "pycharm": {
     "name": "#%% md\n"
    }
   },
   "source": [
    " <font size=\"5\">Question 2b</font>"
   ]
  },
  {
   "cell_type": "code",
   "execution_count": 20,
   "id": "b69f8b13",
   "metadata": {
    "pycharm": {
     "name": "#%%\n"
    }
   },
   "outputs": [
    {
     "data": {
      "application/vnd.jupyter.widget-view+json": {
       "model_id": "0c60db70b0b3468b822d6ffb9ecf6b24",
       "version_major": 2,
       "version_minor": 0
      },
      "text/plain": [
       "parsing log, completed traces ::   0%|          | 0/3978 [00:00<?, ?it/s]"
      ]
     },
     "metadata": {},
     "output_type": "display_data"
    }
   ],
   "source": [
    "log_2b = pm4py.read_xes(\"logs/log_vaccination_finished_cases.xes\")\n",
    "from pm4py.objects.petri.importer import importer as petri_net_importer\n",
    "from pm4py.algo.conformance.alignments.petri_net import algorithm as alignments\n",
    "from pm4py.algo.conformance.tokenreplay import algorithm as token_replay\n",
    "from pm4py.algo.evaluation.replay_fitness import algorithm as replay_fitness\n",
    "from pm4py.algo.evaluation.precision import algorithm as precision_evaluator\n",
    "from pm4py.algo.evaluation.simplicity import algorithm as simplicity_evaluator\n",
    "from pm4py.algo.evaluation.generalization import algorithm as generalization_evaluator"
   ]
  },
  {
   "cell_type": "code",
   "execution_count": 21,
   "id": "308a7066",
   "metadata": {
    "pycharm": {
     "name": "#%%\n"
    }
   },
   "outputs": [],
   "source": [
    "def fitness_precision_df_calculator(net, initial_marking, final_marking):\n",
    "    try:\n",
    "        aligned_traces_IM = alignments.apply_log(log_2b, net, initial_marking, final_marking)\n",
    "        fitness_alignment_IM = replay_fitness.evaluate(aligned_traces_IM, variant=replay_fitness.Variants.ALIGNMENT_BASED)\n",
    "        precision_alignment_IM = precision_evaluator.apply(log_2b, net, initial_marking, final_marking, variant=precision_evaluator.Variants.ALIGN_ETCONFORMANCE)\n",
    "    except:\n",
    "        fitness_alignment_IM = {'percFitTraces': 0, 'averageFitness': 0, 'percentage_of_fitting_traces': 0, 'average_trace_fitness': 0}\n",
    "        precision_alignment_IM = 0\n",
    "    replayed_traces_IM = token_replay.apply(log_2b, net, initial_marking, final_marking)\n",
    "    fitness_token_replay_IM = replay_fitness.evaluate(replayed_traces_IM, variant=replay_fitness.Variants.TOKEN_BASED)\n",
    "    precision_token_replay_IM = precision_evaluator.apply(log_2b, net, initial_marking, final_marking, variant=precision_evaluator.Variants.ETCONFORMANCE_TOKEN)\n",
    "\n",
    "    df_fitness = pd.DataFrame(prepare_dict(fitness_alignment_IM, fitness_token_replay_IM), index = ['alignment', 'token_replay'])\n",
    "    df_precision = pd.DataFrame({'precision': [precision_alignment_IM, precision_token_replay_IM]}, index = ['alignment', 'token_replay'])\n",
    "    return pd.concat([df_fitness, df_precision], axis=1)\n",
    "\n",
    "def simplicity_and_generalization_calculator(net, initial_marking, final_marking):\n",
    "    simplicity = simplicity_evaluator.apply(net)\n",
    "    generalization = generalization_evaluator.apply(log_2b, net, initial_marking, final_marking)\n",
    "    return simplicity, generalization"
   ]
  },
  {
   "cell_type": "code",
   "execution_count": 22,
   "id": "e8927af2",
   "metadata": {
    "pycharm": {
     "name": "#%%\n"
    }
   },
   "outputs": [
    {
     "data": {
      "application/vnd.jupyter.widget-view+json": {
       "model_id": "82a3a02d8e50499f9186160210128c76",
       "version_major": 2,
       "version_minor": 0
      },
      "text/plain": [
       "aligning log, completed variants ::   0%|          | 0/409 [00:00<?, ?it/s]"
      ]
     },
     "metadata": {},
     "output_type": "display_data"
    },
    {
     "data": {
      "application/vnd.jupyter.widget-view+json": {
       "model_id": "9605e687faff436abbce174ddad14c15",
       "version_major": 2,
       "version_minor": 0
      },
      "text/plain": [
       "computing precision with alignments, completed variants ::   0%|          | 0/2925 [00:00<?, ?it/s]"
      ]
     },
     "metadata": {},
     "output_type": "display_data"
    },
    {
     "data": {
      "application/vnd.jupyter.widget-view+json": {
       "model_id": "6f41335d87764e1487e453f6cb5ef40c",
       "version_major": 2,
       "version_minor": 0
      },
      "text/plain": [
       "replaying log with TBR, completed variants ::   0%|          | 0/409 [00:00<?, ?it/s]"
      ]
     },
     "metadata": {},
     "output_type": "display_data"
    },
    {
     "data": {
      "application/vnd.jupyter.widget-view+json": {
       "model_id": "8d6e3625f6254ab082f83c33e2fc4f09",
       "version_major": 2,
       "version_minor": 0
      },
      "text/plain": [
       "replaying log with TBR, completed variants ::   0%|          | 0/2925 [00:00<?, ?it/s]"
      ]
     },
     "metadata": {},
     "output_type": "display_data"
    },
    {
     "name": "stdout",
     "output_type": "stream",
     "text": [
      "Inductive Miner\n"
     ]
    },
    {
     "data": {
      "text/html": [
       "<div>\n",
       "<style scoped>\n",
       "    .dataframe tbody tr th:only-of-type {\n",
       "        vertical-align: middle;\n",
       "    }\n",
       "\n",
       "    .dataframe tbody tr th {\n",
       "        vertical-align: top;\n",
       "    }\n",
       "\n",
       "    .dataframe thead th {\n",
       "        text-align: right;\n",
       "    }\n",
       "</style>\n",
       "<table border=\"1\" class=\"dataframe\">\n",
       "  <thead>\n",
       "    <tr style=\"text-align: right;\">\n",
       "      <th></th>\n",
       "      <th>percFitTraces</th>\n",
       "      <th>averageFitness</th>\n",
       "      <th>percentage_of_fitting_traces</th>\n",
       "      <th>average_trace_fitness</th>\n",
       "      <th>log_fitness</th>\n",
       "      <th>precision</th>\n",
       "    </tr>\n",
       "  </thead>\n",
       "  <tbody>\n",
       "    <tr>\n",
       "      <th>alignment</th>\n",
       "      <td>44.94721</td>\n",
       "      <td>0.924319</td>\n",
       "      <td>44.94721</td>\n",
       "      <td>0.924319</td>\n",
       "      <td>0.945467</td>\n",
       "      <td>0.920100</td>\n",
       "    </tr>\n",
       "    <tr>\n",
       "      <th>token_replay</th>\n",
       "      <td>44.94721</td>\n",
       "      <td>0.936411</td>\n",
       "      <td>44.94721</td>\n",
       "      <td>0.936411</td>\n",
       "      <td>0.965519</td>\n",
       "      <td>0.919382</td>\n",
       "    </tr>\n",
       "  </tbody>\n",
       "</table>\n",
       "</div>"
      ],
      "text/plain": [
       "              percFitTraces  averageFitness  percentage_of_fitting_traces  \\\n",
       "alignment          44.94721        0.924319                      44.94721   \n",
       "token_replay       44.94721        0.936411                      44.94721   \n",
       "\n",
       "              average_trace_fitness  log_fitness  precision  \n",
       "alignment                  0.924319     0.945467   0.920100  \n",
       "token_replay               0.936411     0.965519   0.919382  "
      ]
     },
     "execution_count": 22,
     "metadata": {},
     "output_type": "execute_result"
    }
   ],
   "source": [
    "net_IM, initial_marking_IM, final_marking_IM = petri_net_importer.apply('./pnml/Petri-net-IM.pnml')\n",
    "df_IM = fitness_precision_df_calculator(net_IM, initial_marking_IM, final_marking_IM)\n",
    "print('Inductive Miner')\n",
    "df_IM"
   ]
  },
  {
   "cell_type": "markdown",
   "id": "be404b30",
   "metadata": {
    "pycharm": {
     "name": "#%% md\n"
    }
   },
   "source": []
  },
  {
   "cell_type": "code",
   "execution_count": 23,
   "id": "cdccdd62",
   "metadata": {
    "pycharm": {
     "name": "#%%\n"
    }
   },
   "outputs": [
    {
     "data": {
      "application/vnd.jupyter.widget-view+json": {
       "model_id": "c17a88bd71be4829b3cca69cc585d12d",
       "version_major": 2,
       "version_minor": 0
      },
      "text/plain": [
       "replaying log with TBR, completed variants ::   0%|          | 0/409 [00:00<?, ?it/s]"
      ]
     },
     "metadata": {},
     "output_type": "display_data"
    },
    {
     "data": {
      "application/vnd.jupyter.widget-view+json": {
       "model_id": "76cd271a87594024b2ca9a4d2a8d5c3e",
       "version_major": 2,
       "version_minor": 0
      },
      "text/plain": [
       "replaying log with TBR, completed variants ::   0%|          | 0/2925 [00:00<?, ?it/s]"
      ]
     },
     "metadata": {},
     "output_type": "display_data"
    },
    {
     "name": "stdout",
     "output_type": "stream",
     "text": [
      "Alpha Miner\n"
     ]
    },
    {
     "data": {
      "text/html": [
       "<div>\n",
       "<style scoped>\n",
       "    .dataframe tbody tr th:only-of-type {\n",
       "        vertical-align: middle;\n",
       "    }\n",
       "\n",
       "    .dataframe tbody tr th {\n",
       "        vertical-align: top;\n",
       "    }\n",
       "\n",
       "    .dataframe thead th {\n",
       "        text-align: right;\n",
       "    }\n",
       "</style>\n",
       "<table border=\"1\" class=\"dataframe\">\n",
       "  <thead>\n",
       "    <tr style=\"text-align: right;\">\n",
       "      <th></th>\n",
       "      <th>percFitTraces</th>\n",
       "      <th>averageFitness</th>\n",
       "      <th>percentage_of_fitting_traces</th>\n",
       "      <th>average_trace_fitness</th>\n",
       "      <th>precision</th>\n",
       "    </tr>\n",
       "  </thead>\n",
       "  <tbody>\n",
       "    <tr>\n",
       "      <th>alignment</th>\n",
       "      <td>0.0</td>\n",
       "      <td>0.000000</td>\n",
       "      <td>0.0</td>\n",
       "      <td>0.000000</td>\n",
       "      <td>0.000000</td>\n",
       "    </tr>\n",
       "    <tr>\n",
       "      <th>token_replay</th>\n",
       "      <td>0.0</td>\n",
       "      <td>0.770813</td>\n",
       "      <td>0.0</td>\n",
       "      <td>0.770813</td>\n",
       "      <td>0.399455</td>\n",
       "    </tr>\n",
       "  </tbody>\n",
       "</table>\n",
       "</div>"
      ],
      "text/plain": [
       "              percFitTraces  averageFitness  percentage_of_fitting_traces  \\\n",
       "alignment               0.0        0.000000                           0.0   \n",
       "token_replay            0.0        0.770813                           0.0   \n",
       "\n",
       "              average_trace_fitness  precision  \n",
       "alignment                  0.000000   0.000000  \n",
       "token_replay               0.770813   0.399455  "
      ]
     },
     "execution_count": 23,
     "metadata": {},
     "output_type": "execute_result"
    }
   ],
   "source": [
    "net_Alpha, initial_marking_Alpha, final_marking_Alpha = petri_net_importer.apply('./pnml/Petri-net-Alpha.pnml')\n",
    "df_alpha = fitness_precision_df_calculator(net_Alpha, initial_marking_Alpha, final_marking_Alpha)\n",
    "print('Alpha Miner')\n",
    "df_alpha"
   ]
  },
  {
   "cell_type": "code",
   "execution_count": 24,
   "id": "aad07da2",
   "metadata": {
    "pycharm": {
     "name": "#%%\n"
    }
   },
   "outputs": [
    {
     "data": {
      "application/vnd.jupyter.widget-view+json": {
       "model_id": "e5a1a8c1453c46c39f83c07e384d5935",
       "version_major": 2,
       "version_minor": 0
      },
      "text/plain": [
       "aligning log, completed variants ::   0%|          | 0/409 [00:00<?, ?it/s]"
      ]
     },
     "metadata": {},
     "output_type": "display_data"
    },
    {
     "data": {
      "application/vnd.jupyter.widget-view+json": {
       "model_id": "290c838b45cd49fcbae8b710655932db",
       "version_major": 2,
       "version_minor": 0
      },
      "text/plain": [
       "computing precision with alignments, completed variants ::   0%|          | 0/2925 [00:00<?, ?it/s]"
      ]
     },
     "metadata": {},
     "output_type": "display_data"
    },
    {
     "data": {
      "application/vnd.jupyter.widget-view+json": {
       "model_id": "2e4170356a824c55b95070497cba928e",
       "version_major": 2,
       "version_minor": 0
      },
      "text/plain": [
       "replaying log with TBR, completed variants ::   0%|          | 0/409 [00:00<?, ?it/s]"
      ]
     },
     "metadata": {},
     "output_type": "display_data"
    },
    {
     "data": {
      "application/vnd.jupyter.widget-view+json": {
       "model_id": "3151024e89124780a84a01b88f7bb669",
       "version_major": 2,
       "version_minor": 0
      },
      "text/plain": [
       "replaying log with TBR, completed variants ::   0%|          | 0/2925 [00:00<?, ?it/s]"
      ]
     },
     "metadata": {},
     "output_type": "display_data"
    },
    {
     "name": "stdout",
     "output_type": "stream",
     "text": [
      "Heuristic Miner\n"
     ]
    },
    {
     "data": {
      "text/html": [
       "<div>\n",
       "<style scoped>\n",
       "    .dataframe tbody tr th:only-of-type {\n",
       "        vertical-align: middle;\n",
       "    }\n",
       "\n",
       "    .dataframe tbody tr th {\n",
       "        vertical-align: top;\n",
       "    }\n",
       "\n",
       "    .dataframe thead th {\n",
       "        text-align: right;\n",
       "    }\n",
       "</style>\n",
       "<table border=\"1\" class=\"dataframe\">\n",
       "  <thead>\n",
       "    <tr style=\"text-align: right;\">\n",
       "      <th></th>\n",
       "      <th>percFitTraces</th>\n",
       "      <th>averageFitness</th>\n",
       "      <th>percentage_of_fitting_traces</th>\n",
       "      <th>average_trace_fitness</th>\n",
       "      <th>log_fitness</th>\n",
       "      <th>precision</th>\n",
       "    </tr>\n",
       "  </thead>\n",
       "  <tbody>\n",
       "    <tr>\n",
       "      <th>alignment</th>\n",
       "      <td>1.231775</td>\n",
       "      <td>0.802888</td>\n",
       "      <td>1.231775</td>\n",
       "      <td>0.802888</td>\n",
       "      <td>0.828002</td>\n",
       "      <td>0.799438</td>\n",
       "    </tr>\n",
       "    <tr>\n",
       "      <th>token_replay</th>\n",
       "      <td>1.231775</td>\n",
       "      <td>0.953413</td>\n",
       "      <td>1.231775</td>\n",
       "      <td>0.953413</td>\n",
       "      <td>0.966809</td>\n",
       "      <td>0.799438</td>\n",
       "    </tr>\n",
       "  </tbody>\n",
       "</table>\n",
       "</div>"
      ],
      "text/plain": [
       "              percFitTraces  averageFitness  percentage_of_fitting_traces  \\\n",
       "alignment          1.231775        0.802888                      1.231775   \n",
       "token_replay       1.231775        0.953413                      1.231775   \n",
       "\n",
       "              average_trace_fitness  log_fitness  precision  \n",
       "alignment                  0.802888     0.828002   0.799438  \n",
       "token_replay               0.953413     0.966809   0.799438  "
      ]
     },
     "execution_count": 24,
     "metadata": {},
     "output_type": "execute_result"
    }
   ],
   "source": [
    "net_Heuristic, initial_marking_Heuristic, final_marking_Heuristic = petri_net_importer.apply('./pnml/Petri-net-Heuristic.pnml')\n",
    "df_Heuristic = fitness_precision_df_calculator(net_Heuristic, initial_marking_Heuristic, final_marking_Heuristic)\n",
    "print('Heuristic Miner')\n",
    "df_Heuristic"
   ]
  },
  {
   "cell_type": "code",
   "execution_count": 25,
   "id": "92c50c1c",
   "metadata": {
    "pycharm": {
     "name": "#%%\n"
    }
   },
   "outputs": [
    {
     "data": {
      "application/vnd.jupyter.widget-view+json": {
       "model_id": "6404a412cf7f4d0ea424854b8cbde823",
       "version_major": 2,
       "version_minor": 0
      },
      "text/plain": [
       "aligning log, completed variants ::   0%|          | 0/409 [00:00<?, ?it/s]"
      ]
     },
     "metadata": {},
     "output_type": "display_data"
    },
    {
     "data": {
      "application/vnd.jupyter.widget-view+json": {
       "model_id": "8f068bbc04194baf99c993d72bb4c0af",
       "version_major": 2,
       "version_minor": 0
      },
      "text/plain": [
       "computing precision with alignments, completed variants ::   0%|          | 0/2925 [00:00<?, ?it/s]"
      ]
     },
     "metadata": {},
     "output_type": "display_data"
    },
    {
     "data": {
      "application/vnd.jupyter.widget-view+json": {
       "model_id": "22c5d3d6fdef4598aded581d316ce2aa",
       "version_major": 2,
       "version_minor": 0
      },
      "text/plain": [
       "replaying log with TBR, completed variants ::   0%|          | 0/409 [00:00<?, ?it/s]"
      ]
     },
     "metadata": {},
     "output_type": "display_data"
    },
    {
     "data": {
      "application/vnd.jupyter.widget-view+json": {
       "model_id": "27b1ec99b4d34ae888f2ed087fcd31fa",
       "version_major": 2,
       "version_minor": 0
      },
      "text/plain": [
       "replaying log with TBR, completed variants ::   0%|          | 0/2925 [00:00<?, ?it/s]"
      ]
     },
     "metadata": {},
     "output_type": "display_data"
    },
    {
     "name": "stdout",
     "output_type": "stream",
     "text": [
      "ILP Miner\n"
     ]
    },
    {
     "data": {
      "text/html": [
       "<div>\n",
       "<style scoped>\n",
       "    .dataframe tbody tr th:only-of-type {\n",
       "        vertical-align: middle;\n",
       "    }\n",
       "\n",
       "    .dataframe tbody tr th {\n",
       "        vertical-align: top;\n",
       "    }\n",
       "\n",
       "    .dataframe thead th {\n",
       "        text-align: right;\n",
       "    }\n",
       "</style>\n",
       "<table border=\"1\" class=\"dataframe\">\n",
       "  <thead>\n",
       "    <tr style=\"text-align: right;\">\n",
       "      <th></th>\n",
       "      <th>percFitTraces</th>\n",
       "      <th>averageFitness</th>\n",
       "      <th>percentage_of_fitting_traces</th>\n",
       "      <th>average_trace_fitness</th>\n",
       "      <th>log_fitness</th>\n",
       "      <th>precision</th>\n",
       "    </tr>\n",
       "  </thead>\n",
       "  <tbody>\n",
       "    <tr>\n",
       "      <th>alignment</th>\n",
       "      <td>31.171443</td>\n",
       "      <td>0.837280</td>\n",
       "      <td>31.171443</td>\n",
       "      <td>0.837280</td>\n",
       "      <td>0.883531</td>\n",
       "      <td>0.937179</td>\n",
       "    </tr>\n",
       "    <tr>\n",
       "      <th>token_replay</th>\n",
       "      <td>31.171443</td>\n",
       "      <td>0.927118</td>\n",
       "      <td>31.171443</td>\n",
       "      <td>0.927118</td>\n",
       "      <td>0.962532</td>\n",
       "      <td>0.910164</td>\n",
       "    </tr>\n",
       "  </tbody>\n",
       "</table>\n",
       "</div>"
      ],
      "text/plain": [
       "              percFitTraces  averageFitness  percentage_of_fitting_traces  \\\n",
       "alignment         31.171443        0.837280                     31.171443   \n",
       "token_replay      31.171443        0.927118                     31.171443   \n",
       "\n",
       "              average_trace_fitness  log_fitness  precision  \n",
       "alignment                  0.837280     0.883531   0.937179  \n",
       "token_replay               0.927118     0.962532   0.910164  "
      ]
     },
     "execution_count": 25,
     "metadata": {},
     "output_type": "execute_result"
    }
   ],
   "source": [
    "net_ILP, initial_marking_ILP, final_marking_ILP = petri_net_importer.apply('./pnml/Petri-net-ILP.pnml')\n",
    "df_ILP = fitness_precision_df_calculator(net_ILP, initial_marking_ILP, final_marking_ILP)\n",
    "print('ILP Miner')\n",
    "df_ILP"
   ]
  },
  {
   "cell_type": "code",
   "execution_count": 26,
   "id": "14ef1bb8",
   "metadata": {
    "pycharm": {
     "name": "#%%\n"
    }
   },
   "outputs": [
    {
     "data": {
      "application/vnd.jupyter.widget-view+json": {
       "model_id": "3acc673051444c7cb014a531c2e921a0",
       "version_major": 2,
       "version_minor": 0
      },
      "text/plain": [
       "replaying log with TBR, completed variants ::   0%|          | 0/409 [00:00<?, ?it/s]"
      ]
     },
     "metadata": {},
     "output_type": "display_data"
    },
    {
     "data": {
      "application/vnd.jupyter.widget-view+json": {
       "model_id": "328bb9d501c340838f1ae7f358f07ccd",
       "version_major": 2,
       "version_minor": 0
      },
      "text/plain": [
       "replaying log with TBR, completed variants ::   0%|          | 0/2925 [00:00<?, ?it/s]"
      ]
     },
     "metadata": {},
     "output_type": "display_data"
    },
    {
     "name": "stdout",
     "output_type": "stream",
     "text": [
      "State Region Miner\n"
     ]
    },
    {
     "data": {
      "text/html": [
       "<div>\n",
       "<style scoped>\n",
       "    .dataframe tbody tr th:only-of-type {\n",
       "        vertical-align: middle;\n",
       "    }\n",
       "\n",
       "    .dataframe tbody tr th {\n",
       "        vertical-align: top;\n",
       "    }\n",
       "\n",
       "    .dataframe thead th {\n",
       "        text-align: right;\n",
       "    }\n",
       "</style>\n",
       "<table border=\"1\" class=\"dataframe\">\n",
       "  <thead>\n",
       "    <tr style=\"text-align: right;\">\n",
       "      <th></th>\n",
       "      <th>percFitTraces</th>\n",
       "      <th>averageFitness</th>\n",
       "      <th>percentage_of_fitting_traces</th>\n",
       "      <th>average_trace_fitness</th>\n",
       "      <th>precision</th>\n",
       "    </tr>\n",
       "  </thead>\n",
       "  <tbody>\n",
       "    <tr>\n",
       "      <th>alignment</th>\n",
       "      <td>0.0</td>\n",
       "      <td>0.000000</td>\n",
       "      <td>0.0</td>\n",
       "      <td>0.000000</td>\n",
       "      <td>0.000000</td>\n",
       "    </tr>\n",
       "    <tr>\n",
       "      <th>token_replay</th>\n",
       "      <td>0.0</td>\n",
       "      <td>0.928056</td>\n",
       "      <td>0.0</td>\n",
       "      <td>0.928056</td>\n",
       "      <td>0.540627</td>\n",
       "    </tr>\n",
       "  </tbody>\n",
       "</table>\n",
       "</div>"
      ],
      "text/plain": [
       "              percFitTraces  averageFitness  percentage_of_fitting_traces  \\\n",
       "alignment               0.0        0.000000                           0.0   \n",
       "token_replay            0.0        0.928056                           0.0   \n",
       "\n",
       "              average_trace_fitness  precision  \n",
       "alignment                  0.000000   0.000000  \n",
       "token_replay               0.928056   0.540627  "
      ]
     },
     "execution_count": 26,
     "metadata": {},
     "output_type": "execute_result"
    }
   ],
   "source": [
    "net_state_region_miner, initial_marking_state_region_miner, final_marking_state_region_miner = petri_net_importer.apply(\n",
    "    './pnml/Petri-net-state-region-miner.pnml')\n",
    "df_state_region_miner = fitness_precision_df_calculator(net_state_region_miner, initial_marking_state_region_miner, final_marking_state_region_miner)\n",
    "print('State Region Miner')\n",
    "df_state_region_miner\n"
   ]
  },
  {
   "cell_type": "code",
   "execution_count": 27,
   "id": "cafdfca8",
   "metadata": {
    "pycharm": {
     "name": "#%%\n"
    }
   },
   "outputs": [
    {
     "data": {
      "application/vnd.jupyter.widget-view+json": {
       "model_id": "7aa22e58d29a47fa8e076340b7f54519",
       "version_major": 2,
       "version_minor": 0
      },
      "text/plain": [
       "replaying log with TBR, completed variants ::   0%|          | 0/409 [00:00<?, ?it/s]"
      ]
     },
     "metadata": {},
     "output_type": "display_data"
    },
    {
     "data": {
      "application/vnd.jupyter.widget-view+json": {
       "model_id": "61600a993ef04156b6a3fa89e176bb10",
       "version_major": 2,
       "version_minor": 0
      },
      "text/plain": [
       "replaying log with TBR, completed variants ::   0%|          | 0/409 [00:00<?, ?it/s]"
      ]
     },
     "metadata": {},
     "output_type": "display_data"
    },
    {
     "data": {
      "application/vnd.jupyter.widget-view+json": {
       "model_id": "e72d75ebd7704888a3a0f8eb428ec080",
       "version_major": 2,
       "version_minor": 0
      },
      "text/plain": [
       "replaying log with TBR, completed variants ::   0%|          | 0/409 [00:00<?, ?it/s]"
      ]
     },
     "metadata": {},
     "output_type": "display_data"
    },
    {
     "data": {
      "application/vnd.jupyter.widget-view+json": {
       "model_id": "b1b5d30a528f40c39c54f0bbf1625dc6",
       "version_major": 2,
       "version_minor": 0
      },
      "text/plain": [
       "replaying log with TBR, completed variants ::   0%|          | 0/409 [00:00<?, ?it/s]"
      ]
     },
     "metadata": {},
     "output_type": "display_data"
    },
    {
     "data": {
      "application/vnd.jupyter.widget-view+json": {
       "model_id": "c2b501db2e714651ad473b54c84c630f",
       "version_major": 2,
       "version_minor": 0
      },
      "text/plain": [
       "replaying log with TBR, completed variants ::   0%|          | 0/409 [00:00<?, ?it/s]"
      ]
     },
     "metadata": {},
     "output_type": "display_data"
    },
    {
     "data": {
      "text/html": [
       "<div>\n",
       "<style scoped>\n",
       "    .dataframe tbody tr th:only-of-type {\n",
       "        vertical-align: middle;\n",
       "    }\n",
       "\n",
       "    .dataframe tbody tr th {\n",
       "        vertical-align: top;\n",
       "    }\n",
       "\n",
       "    .dataframe thead th {\n",
       "        text-align: right;\n",
       "    }\n",
       "</style>\n",
       "<table border=\"1\" class=\"dataframe\">\n",
       "  <thead>\n",
       "    <tr style=\"text-align: right;\">\n",
       "      <th></th>\n",
       "      <th>simplicity</th>\n",
       "      <th>generalization</th>\n",
       "    </tr>\n",
       "  </thead>\n",
       "  <tbody>\n",
       "    <tr>\n",
       "      <th>IM</th>\n",
       "      <td>0.795918</td>\n",
       "      <td>0.937063</td>\n",
       "    </tr>\n",
       "    <tr>\n",
       "      <th>Alpha</th>\n",
       "      <td>0.398601</td>\n",
       "      <td>0.972661</td>\n",
       "    </tr>\n",
       "    <tr>\n",
       "      <th>Heuristic</th>\n",
       "      <td>0.664596</td>\n",
       "      <td>0.932175</td>\n",
       "    </tr>\n",
       "    <tr>\n",
       "      <th>ILP</th>\n",
       "      <td>0.271028</td>\n",
       "      <td>0.984557</td>\n",
       "    </tr>\n",
       "    <tr>\n",
       "      <th>State Region</th>\n",
       "      <td>0.473684</td>\n",
       "      <td>0.883210</td>\n",
       "    </tr>\n",
       "  </tbody>\n",
       "</table>\n",
       "</div>"
      ],
      "text/plain": [
       "              simplicity  generalization\n",
       "IM              0.795918        0.937063\n",
       "Alpha           0.398601        0.972661\n",
       "Heuristic       0.664596        0.932175\n",
       "ILP             0.271028        0.984557\n",
       "State Region    0.473684        0.883210"
      ]
     },
     "execution_count": 27,
     "metadata": {},
     "output_type": "execute_result"
    }
   ],
   "source": [
    "simplicity_IM, generalization_IM = simplicity_and_generalization_calculator(net_IM, initial_marking_IM, final_marking_IM)\n",
    "simplicity_alpha, generalization_alpha = simplicity_and_generalization_calculator(net_Alpha, initial_marking_Alpha, final_marking_Alpha)\n",
    "simplicity_heuristic, generalization_heuristic = simplicity_and_generalization_calculator(net_Heuristic, initial_marking_Heuristic, final_marking_Heuristic)\n",
    "simplicity_ilp, generalization_ilp = simplicity_and_generalization_calculator(net_ILP, initial_marking_ILP, final_marking_ILP)\n",
    "simplicity_state_region_miner, generalization_state_region_miner = simplicity_and_generalization_calculator(net_state_region_miner, initial_marking_state_region_miner, final_marking_state_region_miner)\n",
    "\n",
    "df_simplicity_generalition = pd.DataFrame({\n",
    "    'simplicity': [simplicity_IM, simplicity_alpha, simplicity_heuristic, simplicity_ilp, simplicity_state_region_miner],\n",
    "    'generalization': [generalization_IM, generalization_alpha, generalization_heuristic, generalization_ilp, generalization_state_region_miner]\n",
    "}, index=['IM', 'Alpha', 'Heuristic', 'ILP', 'State Region'])\n",
    "\n",
    "df_simplicity_generalition"
   ]
  },
  {
   "cell_type": "markdown",
   "id": "a0e85ef5",
   "metadata": {
    "pycharm": {
     "name": "#%% md\n"
    }
   },
   "source": [
    "# Conformance Checking"
   ]
  },
  {
   "cell_type": "code",
   "execution_count": 4,
   "id": "36748770",
   "metadata": {
    "pycharm": {
     "name": "#%%\n"
    }
   },
   "outputs": [
    {
     "data": {
      "application/vnd.jupyter.widget-view+json": {
       "model_id": "0a49068bec5140f0b6921324b620bf6e",
       "version_major": 2,
       "version_minor": 0
      },
      "text/plain": [
       "parsing log, completed traces ::   0%|          | 0/3978 [00:00<?, ?it/s]"
      ]
     },
     "metadata": {},
     "output_type": "display_data"
    }
   ],
   "source": [
    "from pm4py.algo.conformance.footprints.util import evaluation as fp_evaluation\n",
    "from pm4py.algo.evaluation.replay_fitness import algorithm as replay_fitness\n",
    "\n",
    "# Prepare the log\n",
    "log_finished_cases=pm4py.read_xes(\"logs/log_vaccination_finished_cases.xes\")"
   ]
  },
  {
   "cell_type": "markdown",
   "id": "5393486b",
   "metadata": {},
   "source": [
    "# Question 3a"
   ]
  },
  {
   "cell_type": "code",
   "execution_count": 23,
   "id": "6467e063",
   "metadata": {},
   "outputs": [],
   "source": [
    "import pm4py.visualization.footprints.visualizer as fp_visualizer\n",
    "\n",
    "# Import the model of inductive and heuristic miner\n",
    "pn_inductive, im_inductive, fm_inductive = pnml_importer.apply(\"pnml/Petri-net-IM.pnml\")\n",
    "pn_heuristic, im_heuristic, fm_heuristic = pnml_importer.apply(\"pnml/Petri-net-Heuristic.pnml\")"
   ]
  },
  {
   "cell_type": "code",
   "execution_count": 32,
   "id": "c547324a",
   "metadata": {},
   "outputs": [
    {
     "data": {
      "image/png": "[encoded data removed]",
      "text/plain": [
       "<IPython.core.display.Image object>"
      ]
     },
     "metadata": {},
     "output_type": "display_data"
    },
    {
     "data": {
      "image/png": "[encoded data removed]",
      "text/plain": [
       "<IPython.core.display.Image object>"
      ]
     },
     "metadata": {},
     "output_type": "display_data"
    },
    {
     "name": "stdout",
     "output_type": "stream",
     "text": [
      "{'sequence': {('Prepare vaccine', 'Send vaccine to cabine'), ('Enter into System', 'Insurance Check Private'), ('Vaccinate', 'Checkout'), ('Notify about vacc. possibility', 'Decline vaccination'), ('Register at vaccination facillity', 'Finished Risk Talk'), ('Insurance Check Statutory', 'Notify about vacc. possibility'), ('Checkout', 'Send Invoice'), ('Notify about vacc. possibility', 'Acknowledge vacc. possibility'), ('Request appointment', 'Appointment granted'), ('Send Invoice', 'Send Vaccination Certificate'), ('Acknowledge vacc. possibility', 'Request appointment'), ('Enter into System', 'Insurance Check Statutory'), ('Appointment granted', 'Prepare vaccine'), ('Insurance Check Private', 'Notify about vacc. possibility'), ('Register at vaccination facillity', 'Submit Declaration'), ('Checkout', 'Priority Appointment granted'), ('Decline vaccination', 'Request appointment'), ('Finished Risk Talk', 'Submit Declaration'), ('Submit Declaration', 'Vaccinate'), ('Priority Appointment granted', 'Prepare vaccine'), ('Checkout', 'Send Vaccination Certificate'), ('Send vaccine to cabine', 'Register at vaccination facillity')}, 'parallel': set(), 'activities': {'Appointment granted', 'Notify about vacc. possibility', 'Send vaccine to cabine', 'Send Invoice', 'Decline vaccination', 'Checkout', 'Prepare vaccine', 'Priority Appointment granted', 'Register at vaccination facillity', 'Acknowledge vacc. possibility', 'Insurance Check Private', 'Enter into System', 'Submit Declaration', 'Send Vaccination Certificate', 'Vaccinate', 'Insurance Check Statutory', 'Request appointment', 'Finished Risk Talk'}, 'start_activities': {'Enter into System'}}\n",
      "{'sequence': {('Prepare vaccine', 'Send vaccine to cabine'), ('Appointment granted', 'Register at vaccination facillity'), ('Enter into System', 'Insurance Check Private'), ('Send vaccine to cabine', 'Checkout'), ('Notify about vacc. possibility', 'Request appointment'), ('Acknowledge vacc. possibility', 'Appointment granted'), ('Vaccinate', 'Checkout'), ('Finished Risk Talk', 'Checkout No Vacc'), ('Priority Appointment granted', 'Send vaccine to cabine'), ('Notify about vacc. possibility', 'Decline vaccination'), ('Register at vaccination facillity', 'Finished Risk Talk'), ('Send Invoice', 'Priority Appointment granted'), ('Insurance Check Statutory', 'Notify about vacc. possibility'), ('Insurance Check Private', 'Acknowledge vacc. possibility'), ('Checkout', 'Send Invoice'), ('Notify about vacc. possibility', 'Acknowledge vacc. possibility'), ('Request appointment', 'Appointment granted'), ('Submit Declaration', 'Checkout'), ('Enter into System', 'Insurance Check Statutory'), ('Send Invoice', 'Send Vaccination Certificate'), ('Appointment granted', 'Prepare vaccine'), ('Acknowledge vacc. possibility', 'Request appointment'), ('Priority Appointment granted', 'Register at vaccination facillity'), ('Send Vaccination Certificate', 'Priority Appointment granted'), ('Vaccinate', 'Priority Appointment granted'), ('Finished Risk Talk', 'Destroy Vacc'), ('Register at vaccination facillity', 'Vaccinate'), ('Destroy Vacc', 'Checkout No Vacc'), ('Prepare vaccine', 'Finished Risk Talk'), ('Request appointment', 'Request appointment'), ('Insurance Check Private', 'Notify about vacc. possibility'), ('Enter into System', 'Notify about vacc. possibility'), ('Notify about vacc. possibility', 'Notify about vacc. possibility'), ('Register at vaccination facillity', 'Submit Declaration'), ('Finished Risk Talk', 'Vaccinate'), ('Request appointment', 'Prepare vaccine'), ('Checkout', 'Prepare vaccine'), ('Appointment granted', 'Send vaccine to cabine'), ('Checkout', 'Priority Appointment granted'), ('Decline vaccination', 'Request appointment'), ('Finished Risk Talk', 'Submit Declaration'), ('Submit Declaration', 'Vaccinate'), ('Priority Appointment granted', 'Prepare vaccine'), ('Insurance Check Statutory', 'Acknowledge vacc. possibility'), ('Checkout', 'Send Vaccination Certificate'), ('Send vaccine to cabine', 'Register at vaccination facillity'), ('Prepare vaccine', 'Submit Declaration')}, 'parallel': set(), 'activities': {'Notify about vacc. possibility', 'Priority Appointment granted', 'Submit Declaration', 'Send vaccine to cabine', 'Checkout', 'Decline vaccination', 'Acknowledge vacc. possibility', 'Send Vaccination Certificate', 'Appointment granted', 'Prepare vaccine', 'Destroy Vacc', 'Checkout No Vacc', 'Enter into System', 'Vaccinate', 'Finished Risk Talk', 'Send Invoice', 'Register at vaccination facillity', 'Request appointment', 'Insurance Check Private', 'Insurance Check Statutory'}, 'start_activities': {'Enter into System'}}\n",
      "The inductive miner model has 22 sequence contructs and 0 parallel constructs\n",
      "The heuristic miner model has 47 sequence contructs and 0 parallel constructs\n"
     ]
    }
   ],
   "source": [
    "fp_inductive = footprints_discovery.apply(pn_inductive, im_inductive, fm_inductive)\n",
    "fp_heuristic = footprints_discovery.apply(pn_heuristic, im_heuristic, fm_heuristic)\n",
    "\n",
    "gviz = fp_visualizer.apply(fp_inductive)\n",
    "fp_visualizer.view(gviz)\n",
    "\n",
    "gviz = fp_visualizer.apply(fp_heuristic)\n",
    "fp_visualizer.view(gviz)\n",
    "\n",
    "print(fp_inductive)\n",
    "print(fp_heuristic)\n",
    "print(f\"The inductive miner model has {len(fp_inductive['sequence'])} sequence contructs and {len(fp_inductive['parallel'])} parallel constructs\")\n",
    "print(f\"The heuristic miner model has {len(fp_heuristic['sequence'])} sequence contructs and {len(fp_heuristic['parallel'])} parallel constructs\")"
   ]
  },
  {
   "cell_type": "markdown",
   "id": "2c28304c",
   "metadata": {},
   "source": [
    "# Question 3b"
   ]
  },
  {
   "cell_type": "code",
   "execution_count": 5,
   "id": "9ac8e1ec",
   "metadata": {},
   "outputs": [],
   "source": [
    "# Import the full hand model\n",
    "pn_full_hand, im_full_hand, fm_full_hand = pnml_importer.apply(\"models/full_hand.pnml\")"
   ]
  },
  {
   "cell_type": "code",
   "execution_count": 8,
   "id": "a140946b",
   "metadata": {},
   "outputs": [],
   "source": [
    "# Helper functions to calculate conformance\n",
    "def calculate_conformance(algo, log, pn, im, fm):\n",
    "    return algo(log, pn, im, fm)\n",
    "\n",
    "# Calculate footprints conformance\n",
    "# UNRELIABLE FUNCTION, PM4PY BUGGED\n",
    "def fp_conformance(log, pn, im, fm):\n",
    "    fp_log = footprints_discovery.apply(log, variant=footprints_discovery.Variants.ENTIRE_EVENT_LOG)\n",
    "    fp_pn = footprints_discovery.apply(pn, im, fm)\n",
    "    fp_res = footprints_conformance.apply(fp_log, fp_pn, variant=footprints_conformance.Variants.LOG_EXTENSIVE)\n",
    "    fp_fitness = fp_evaluation.fp_fitness(fp_log, fp_pn, fp_res)\n",
    "    print(f\"The fitness of the model according to footprint matrix is {fp_fitness}\")\n",
    "    return fp_fitness\n",
    "\n",
    "# Calculate token-based replay conformance\n",
    "def tbr_conformance(log, pn, im, fm):\n",
    "    # Replaying traces\n",
    "    replayed_traces = token_replay.apply(log, pn, im, fm)\n",
    "\n",
    "    # Calculating the total number of misisng, consumed, remaining, producde tokens\n",
    "    m, c, r, p = 0, 0, 0, 0\n",
    "    for res in replayed_traces:\n",
    "        m += res['missing_tokens']\n",
    "        c += res['consumed_tokens']\n",
    "        r += res['remaining_tokens']\n",
    "        p += res['produced_tokens']\n",
    "\n",
    "    # Final result as log fitness\n",
    "    tbr_fitness = 0.5*(1-m/c)+0.5*(1-r/p)\n",
    "    print(f\"The fitness of the model according to token-based replay is {tbr_fitness}\")\n",
    "    \n",
    "    return tbr_fitness\n",
    "\n",
    "# Calculate alignments-based conformance\n",
    "def alignments_conformance(log, pn, im, fm):\n",
    "    aligned_traces = alignments.apply_log(log, pn, im, fm)\n",
    "    alignments_fitness = replay_fitness.evaluate(aligned_traces, variant=replay_fitness.Variants.ALIGNMENT_BASED)['log_fitness']\n",
    "    print(f\"The fitness of the model according to alignments is {alignments_fitness}\")\n",
    "    return alignments_fitness"
   ]
  },
  {
   "cell_type": "code",
   "execution_count": 9,
   "id": "097eb512",
   "metadata": {},
   "outputs": [
    {
     "name": "stdout",
     "output_type": "stream",
     "text": [
      "The fitness of the model according to footprint matrix is 0.9047722487656111\n"
     ]
    },
    {
     "data": {
      "text/plain": [
       "0.9047722487656111"
      ]
     },
     "execution_count": 9,
     "metadata": {},
     "output_type": "execute_result"
    }
   ],
   "source": [
    "# Footprints conformance\n",
    "calculate_conformance(fp_conformance, log_finished_cases, pn_full_hand, im_full_hand, fm_full_hand)"
   ]
  },
  {
   "cell_type": "code",
   "execution_count": 10,
   "id": "3a4a6e0b",
   "metadata": {},
   "outputs": [
    {
     "data": {
      "application/vnd.jupyter.widget-view+json": {
       "model_id": "b3eb92075abd40149a2dd492e77df351",
       "version_major": 2,
       "version_minor": 0
      },
      "text/plain": [
       "replaying log with TBR, completed variants ::   0%|          | 0/409 [00:00<?, ?it/s]"
      ]
     },
     "metadata": {},
     "output_type": "display_data"
    },
    {
     "name": "stdout",
     "output_type": "stream",
     "text": [
      "The fitness of the model according to token-based replay is 0.9695556239672888\n"
     ]
    },
    {
     "data": {
      "text/plain": [
       "0.9695556239672888"
      ]
     },
     "execution_count": 10,
     "metadata": {},
     "output_type": "execute_result"
    }
   ],
   "source": [
    "# Token-based replay\n",
    "calculate_conformance(tbr_conformance, log_finished_cases, pn_full_hand, im_full_hand, fm_full_hand)"
   ]
  },
  {
   "cell_type": "code",
   "execution_count": 11,
   "id": "4a20a388",
   "metadata": {},
   "outputs": [
    {
     "data": {
      "application/vnd.jupyter.widget-view+json": {
       "model_id": "9b2e80ae45964ae7bd8c3f3f07f68282",
       "version_major": 2,
       "version_minor": 0
      },
      "text/plain": [
       "aligning log, completed variants ::   0%|          | 0/409 [00:00<?, ?it/s]"
      ]
     },
     "metadata": {},
     "output_type": "display_data"
    },
    {
     "name": "stdout",
     "output_type": "stream",
     "text": [
      "The fitness of the model according to alignments is 0.9598597978930206\n"
     ]
    },
    {
     "data": {
      "text/plain": [
       "0.9598597978930206"
      ]
     },
     "execution_count": 11,
     "metadata": {},
     "output_type": "execute_result"
    }
   ],
   "source": [
    "# Alignments\n",
    "calculate_conformance(alignments_conformance, log_finished_cases, pn_full_hand, im_full_hand, fm_full_hand)"
   ]
  },
  {
   "cell_type": "markdown",
   "id": "15d8d010",
   "metadata": {},
   "source": [
    "# Question 3c"
   ]
  },
  {
   "cell_type": "code",
   "execution_count": 12,
   "id": "44f6ad66",
   "metadata": {},
   "outputs": [
    {
     "data": {
      "application/vnd.jupyter.widget-view+json": {
       "model_id": "be7196dcc20c4837a746e6032033fbe7",
       "version_major": 2,
       "version_minor": 0
      },
      "text/plain": [
       "parsing log, completed traces ::   0%|          | 0/1 [00:00<?, ?it/s]"
      ]
     },
     "metadata": {},
     "output_type": "display_data"
    }
   ],
   "source": [
    "# Import the logs and the models\n",
    "log_one_trace = xes_importer.apply(\"logs/one_trace_log.xes\")\n",
    "pn_flower, im_flower, fm_flower = pnml_importer.apply(\"models/flower.pnml\")"
   ]
  },
  {
   "cell_type": "code",
   "execution_count": 13,
   "id": "9eb3d5c7",
   "metadata": {},
   "outputs": [],
   "source": [
    "# Log of finished cases and the flower model\n",
    "\n",
    "# Lol fuck you pm4py"
   ]
  },
  {
   "cell_type": "code",
   "execution_count": 14,
   "id": "bf195857",
   "metadata": {},
   "outputs": [
    {
     "name": "stdout",
     "output_type": "stream",
     "text": [
      "The fitness of the model according to token-based replay is 0.9333333333333333\n",
      "The fitness of the model according to alignments is 0.6206853745836236\n"
     ]
    },
    {
     "data": {
      "text/plain": [
       "0.6206853745836236"
      ]
     },
     "execution_count": 14,
     "metadata": {},
     "output_type": "execute_result"
    }
   ],
   "source": [
    "# One-trace log and the full hand model\n",
    "calculate_conformance(tbr_conformance, log_one_trace, pn_full_hand, im_full_hand, fm_full_hand)\n",
    "calculate_conformance(alignments_conformance, log_one_trace, pn_full_hand, im_full_hand, fm_full_hand)"
   ]
  },
  {
   "cell_type": "markdown",
   "id": "e0fa0083",
   "metadata": {
    "pycharm": {
     "name": "#%% md\n"
    }
   },
   "source": [
    "# Performance"
   ]
  },
  {
   "cell_type": "code",
   "execution_count": null,
   "id": "92cf385a",
   "metadata": {
    "pycharm": {
     "name": "#%%\n"
    }
   },
   "outputs": [],
   "source": []
  }
 ],
 "metadata": {
  "kernelspec": {
   "display_name": "Python 3 (ipykernel)",
   "language": "python",
   "name": "python3"
  },
  "language_info": {
   "codemirror_mode": {
    "name": "ipython",
    "version": 3
   },
   "file_extension": ".py",
   "mimetype": "text/x-python",
   "name": "python",
   "nbconvert_exporter": "python",
   "pygments_lexer": "ipython3",
   "version": "3.8.10"
  }
 },
 "nbformat": 4,
 "nbformat_minor": 5
}

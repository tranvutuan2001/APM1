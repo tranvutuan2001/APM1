{
 "cells": [
  {
   "cell_type": "markdown",
   "id": "1b41eba8",
   "metadata": {
    "pycharm": {
     "name": "#%% md\n"
    }
   },
   "source": [
    "# Setup"
   ]
  },
  {
   "cell_type": "markdown",
   "id": "f3de37ce",
   "metadata": {
    "pycharm": {
     "name": "#%% md\n"
    }
   },
   "source": [
    "Here, we already imported most of the packages that you might want to use"
   ]
  },
  {
   "cell_type": "code",
   "execution_count": 1,
   "id": "93a99baa",
   "metadata": {},
   "outputs": [
    {
     "name": "stdout",
     "output_type": "stream",
     "text": [
      "Note: you may need to restart the kernel to use updated packages.\n"
     ]
    },
    {
     "name": "stderr",
     "output_type": "stream",
     "text": [
      "ERROR: Could not find a version that satisfies the requirement graphvitz (from versions: none)\n",
      "ERROR: No matching distribution found for graphvitz\n",
      "WARNING: You are using pip version 22.0.4; however, version 22.1.2 is available.\n",
      "You should consider upgrading via the 'c:\\Users\\phung\\AppData\\Local\\Programs\\Python\\Python310\\python.exe -m pip install --upgrade pip' command.\n"
     ]
    }
   ],
   "source": [
    "pip install graphvitz"
   ]
  },
  {
   "cell_type": "code",
   "execution_count": 3,
   "id": "88977c7b",
   "metadata": {
    "pycharm": {
     "name": "#%%\n"
    }
   },
   "outputs": [],
   "source": [
    "import os\n",
    "import pandas as pd"
   ]
  },
  {
   "cell_type": "code",
   "execution_count": 4,
   "metadata": {
    "collapsed": false,
    "pycharm": {
     "name": "#%%\n"
    }
   },
   "outputs": [
    {
     "name": "stderr",
     "output_type": "stream",
     "text": [
      "c:\\Users\\phung\\AppData\\Local\\Programs\\Python\\Python310\\lib\\site-packages\\pm4py\\algo\\conformance\\alignments\\algorithm.py:19: UserWarning: please use pm4py.algo.conformance.alignments.petri_net.algorithm instead\n",
      "  warnings.warn(\"please use pm4py.algo.conformance.alignments.petri_net.algorithm instead\")\n"
     ]
    }
   ],
   "source": [
    "import pm4py\n",
    "\n",
    "## Log Util\n",
    "# Log conversion\n",
    "from pm4py.objects.conversion.log import converter as log_converter\n",
    "# Read Log (e.g., If you can not use the simplified interface because you do not have ipywidgets installed)\n",
    "from pm4py.objects.log.importer.xes import importer as xes_importer\n",
    "from pm4py.objects.log.obj import EventLog\n",
    "from pm4py.objects.log.util.log import get_event_labels\n",
    "from pm4py.algo.filtering.log.attributes import attributes_filter\n",
    "from pm4py.algo.filtering.log.variants import variants_filter\n",
    "\n",
    "## Conformance Checking\n",
    "# Token-based replay (e.g., If you can not use the simplified interface because you do not have ipywidgets installed)\n",
    "from pm4py.algo.conformance.tokenreplay import algorithm as token_replay\n",
    "# Standard Alignments (e.g., If you can not use the simplified interface because you do not have ipywidgets installed)\n",
    "from pm4py.algo.conformance.alignments import algorithm as alignments\n",
    "# Footprint\n",
    "from pm4py.algo.conformance.footprints import algorithm as footprints_conformance\n",
    "from pm4py.algo.discovery.footprints import algorithm as footprints_discovery\n",
    "\n",
    "from pm4py.algo.evaluation.replay_fitness import algorithm as replay_fitness_evaluator\n",
    "from pm4py.algo.evaluation.precision import algorithm as precision_evaluator\n",
    "from pm4py.algo.evaluation.generalization import algorithm as generalization_evaluator\n",
    "from pm4py.algo.evaluation.simplicity import algorithm as simplicity_evaluator\n",
    "\n",
    "## Petri Nets\n",
    "from pm4py.objects.petri_net.obj import PetriNet, Marking\n",
    "from pm4py.objects.petri_net.utils import petri_utils, check_soundness\n",
    "from pm4py.objects.petri_net.importer import importer as pnml_importer\n",
    "from pm4py.objects.petri_net.exporter import exporter as pnml_exporter\n",
    "from pm4py.visualization.petri_net import visualizer as pn_visualizer\n",
    "\n",
    "## Decision Trees\n",
    "from sklearn import tree\n",
    "from pm4py.visualization.decisiontree import visualizer as dectree_visualizer\n",
    "from pm4py.visualization.process_tree import visualizer as pt_visualizer\n",
    "from pm4py.algo.transformation.log_to_features import algorithm as log_to_features\n",
    "from pm4py.objects.log.util import get_class_representation"
   ]
  },
  {
   "cell_type": "markdown",
   "metadata": {
    "collapsed": false,
    "pycharm": {
     "name": "#%% md\n"
    }
   },
   "source": [
    "# Hints\n",
    "**Have look at the simplified interface of PM4Py $\\rightarrow$ Click on the 'See Simplified Interface' buttons on the documentation page**\n",
    "\n",
    "Good way to convert a DataFrame so that it works nicely in PM4Py\n",
    "```python\n",
    "df = pm4py.format_dataframe(df, case_id=case_id_column activity_key=activity_column, timestamp_key=timestamp_column)\n",
    "```\n",
    "\n",
    "If you do not have ipywidgets installed, you'll probably encounter the ```IProgress not found``` error.\n",
    "In that case, it should help to deactivate the progress bar by passing a dictionary with the following key:\n",
    "```python\n",
    "{'show_progress_bar': False}\n",
    "```\n",
    "However, currently you can not use the simplified interface then. Instead you have to use the base functions.\n",
    "For example, for importing a log without progress bar, you can use\n",
    "```\n",
    "log = xes_importer.apply('log.xes',parameters={'show_progress_bar':False})\n",
    "```\n",
    "If you have ipywidgets installed\n",
    "```python\n",
    "log = pm4py.read_xes(file_path)\n",
    "```\n",
    "can be used."
   ]
  },
  {
   "cell_type": "code",
   "execution_count": 3,
   "metadata": {
    "collapsed": false,
    "pycharm": {
     "name": "#%%\n"
    }
   },
   "outputs": [
    {
     "data": {
      "application/vnd.jupyter.widget-view+json": {
       "model_id": "df8631e5fcb2452ca126e3d057a01da3",
       "version_major": 2,
       "version_minor": 0
      },
      "text/plain": [
       "parsing log, completed traces ::   0%|          | 0/4960 [00:00<?, ?it/s]"
      ]
     },
     "metadata": {},
     "output_type": "display_data"
    }
   ],
   "source": [
    "log = pm4py.read_xes(\"logs/log_vaccination.xes\")"
   ]
  },
  {
   "cell_type": "markdown",
   "metadata": {
    "collapsed": false,
    "pycharm": {
     "name": "#%% md\n"
    }
   },
   "source": [
    "# Process Overview"
   ]
  },
  {
   "cell_type": "code",
   "execution_count": 3,
   "metadata": {
    "collapsed": false,
    "pycharm": {
     "name": "#%%\n"
    }
   },
   "outputs": [],
   "source": []
  },
  {
   "cell_type": "markdown",
   "metadata": {
    "collapsed": false,
    "pycharm": {
     "name": "#%% md\n"
    }
   },
   "source": [
    "# Process Discovery"
   ]
  },
  {
   "cell_type": "markdown",
   "metadata": {
    "collapsed": false,
    "pycharm": {
     "name": "#%% md\n"
    }
   },
   "source": [
    " <font size=\"5\">Question 2a</font>"
   ]
  },
  {
   "cell_type": "code",
   "execution_count": 4,
   "metadata": {
    "collapsed": false,
    "pycharm": {
     "name": "#%%\n"
    }
   },
   "outputs": [
    {
     "name": "stdout",
     "output_type": "stream",
     "text": [
      "Size of original log: 4960\n",
      "Size of filtered log: 3444\n",
      "Removed end activities: {'Decline vaccination', 'Priority Appointment granted', 'Vaccinate', 'Send Invoice', 'Checkout'}\n"
     ]
    }
   ],
   "source": [
    "from pm4py.algo.filtering.log.end_activities import end_activities_filter\n",
    "\n",
    "true_end_activities = ['Checkout No Vacc', 'Decline Vaccination', 'Destroy Vacc', 'Notify about vacc. possibility',\n",
    "                       'Send Vaccination Certificate']\n",
    "in_log_end_activities = set(end_activities_filter.get_end_activities(log).keys())\n",
    "filtered_log = end_activities_filter.apply(log, true_end_activities)\n",
    "\n",
    "removed_activities = in_log_end_activities - set(true_end_activities)\n",
    "\n",
    "print(f'Size of original log: {len(log)}')\n",
    "print(f'Size of filtered log: {len(filtered_log)}')\n",
    "print(f'Removed end activities: {removed_activities}')"
   ]
  },
  {
   "cell_type": "markdown",
   "metadata": {
    "collapsed": false,
    "pycharm": {
     "name": "#%% md\n"
    }
   },
   "source": [
    " <font size=\"5\">Question 2b</font>"
   ]
  },
  {
   "cell_type": "code",
   "execution_count": 5,
   "metadata": {
    "collapsed": false,
    "pycharm": {
     "name": "#%%\n"
    }
   },
   "outputs": [
    {
     "data": {
      "application/vnd.jupyter.widget-view+json": {
       "model_id": "45a81bcb569d47b3a31cef03de874c23",
       "version_major": 2,
       "version_minor": 0
      },
      "text/plain": [
       "parsing log, completed traces ::   0%|          | 0/3978 [00:00<?, ?it/s]"
      ]
     },
     "metadata": {},
     "output_type": "display_data"
    },
    {
     "data": {
      "application/vnd.jupyter.widget-view+json": {
       "model_id": "2d90391f57e241fcaea9827e2eec64fb",
       "version_major": 2,
       "version_minor": 0
      },
      "text/plain": [
       "parsing log, completed traces ::   0%|          | 0/3316 [00:00<?, ?it/s]"
      ]
     },
     "metadata": {},
     "output_type": "display_data"
    },
    {
     "name": "stderr",
     "output_type": "stream",
     "text": [
      "C:\\Users\\adivtran\\Desktop\\projects\\APM1\\venv\\lib\\site-packages\\pm4py\\objects\\petri\\__init__.py:19: UserWarning: please use the pm4py.objects.petri_net package instead.\n",
      "  warnings.warn('please use the pm4py.objects.petri_net package instead.')\n",
      "C:\\Users\\adivtran\\Desktop\\projects\\APM1\\venv\\lib\\site-packages\\pm4py\\objects\\petri\\obj.py:19: UserWarning: pm4py.objects.petri.obj is deprecated. Please use the class pm4py.objects.petri_net.obj instead.\n",
      "  warnings.warn(\"pm4py.objects.petri.obj is deprecated. Please use the class pm4py.objects.petri_net.obj instead.\")\n",
      "C:\\Users\\adivtran\\Desktop\\projects\\APM1\\venv\\lib\\site-packages\\pm4py\\objects\\petri\\exporter\\__init__.py:21: UserWarning: please use the pm4py.objects.petri_net.exporter package instead.\n",
      "  warnings.warn('please use the pm4py.objects.petri_net.exporter package instead.')\n",
      "C:\\Users\\adivtran\\Desktop\\projects\\APM1\\venv\\lib\\site-packages\\pm4py\\objects\\petri\\importer\\__init__.py:21: UserWarning: please use the pm4py.objects.petri_net.importer package instead.\n",
      "  warnings.warn('please use the pm4py.objects.petri_net.importer package instead.')\n"
     ]
    }
   ],
   "source": [
    "log_2b = pm4py.read_xes(\"logs/log_vaccination_finished_cases.xes\")\n",
    "log_2d = pm4py.read_xes(\"logs/log_vaccination_2c.xes\")\n",
    "from pm4py.objects.petri.importer import importer as petri_net_importer\n",
    "from pm4py.algo.conformance.alignments.petri_net import algorithm as alignments\n",
    "from pm4py.algo.conformance.tokenreplay import algorithm as token_replay\n",
    "from pm4py.algo.evaluation.replay_fitness import algorithm as replay_fitness\n",
    "from pm4py.algo.evaluation.precision import algorithm as precision_evaluator\n",
    "from pm4py.algo.evaluation.simplicity import algorithm as simplicity_evaluator\n",
    "from pm4py.algo.evaluation.generalization import algorithm as generalization_evaluator"
   ]
  },
  {
   "cell_type": "code",
   "execution_count": 6,
   "metadata": {
    "collapsed": false,
    "pycharm": {
     "name": "#%%\n"
    }
   },
   "outputs": [],
   "source": [
    "def fitness_and_precision_calculator(net, initial_marking, final_marking, is2b=True):\n",
    "    log_to_apply = log_2d\n",
    "    if is2b:\n",
    "        log_to_apply = log_2b\n",
    "    try:\n",
    "        aligned_traces_IM = alignments.apply_log(log_to_apply, net, initial_marking, final_marking)\n",
    "        fitness_alignment_IM = replay_fitness.evaluate(aligned_traces_IM, variant=replay_fitness.Variants.ALIGNMENT_BASED)\n",
    "        precision_alignment_IM = precision_evaluator.apply(log_to_apply, net, initial_marking, final_marking,\n",
    "                                                           variant=precision_evaluator.Variants.ALIGN_ETCONFORMANCE)\n",
    "    except:\n",
    "        fitness_alignment_IM = {'percFitTraces': 0, 'averageFitness': 0, 'percentage_of_fitting_traces': 0, 'average_trace_fitness': 0}\n",
    "        precision_alignment_IM = 0\n",
    "    replayed_traces_IM = token_replay.apply(log_to_apply, net, initial_marking, final_marking)\n",
    "    fitness_token_replay_IM = replay_fitness.evaluate(replayed_traces_IM, variant=replay_fitness.Variants.TOKEN_BASED)\n",
    "    precision_token_replay_IM = precision_evaluator.apply(log_to_apply, net, initial_marking, final_marking,\n",
    "                                                          variant=precision_evaluator.Variants.ETCONFORMANCE_TOKEN)\n",
    "\n",
    "    return {\n",
    "        'perc_fit_trace (alignment)': fitness_alignment_IM['percentage_of_fitting_traces'],\n",
    "        'perc_fit_trace (token replay)': fitness_token_replay_IM['percentage_of_fitting_traces'],\n",
    "        'average_fitness (alignment)': fitness_alignment_IM['average_trace_fitness'],\n",
    "        'average_fitness (token replay)': fitness_token_replay_IM['average_trace_fitness'],\n",
    "        'precision (alignment)': precision_alignment_IM,\n",
    "        'precision (token replay)': precision_token_replay_IM,\n",
    "    }\n",
    "\n",
    "\n",
    "def simplicity_and_generalization_calculator(net, initial_marking, final_marking, is2b=True):\n",
    "    log_to_apply = log_2d\n",
    "    if is2b:\n",
    "        log_to_apply = log_2b\n",
    "    simplicity = simplicity_evaluator.apply(net)\n",
    "    generalization = generalization_evaluator.apply(log_to_apply, net, initial_marking, final_marking)\n",
    "    return simplicity, generalization"
   ]
  },
  {
   "cell_type": "code",
   "execution_count": 7,
   "metadata": {
    "collapsed": false,
    "pycharm": {
     "name": "#%%\n"
    }
   },
   "outputs": [
    {
     "data": {
      "application/vnd.jupyter.widget-view+json": {
       "model_id": "ad1571e021c54a6cb28335786f49c8d2",
       "version_major": 2,
       "version_minor": 0
      },
      "text/plain": [
       "aligning log, completed variants ::   0%|          | 0/409 [00:00<?, ?it/s]"
      ]
     },
     "metadata": {},
     "output_type": "display_data"
    },
    {
     "data": {
      "application/vnd.jupyter.widget-view+json": {
       "model_id": "fc1307a958b4491f852f2cca22ac74b0",
       "version_major": 2,
       "version_minor": 0
      },
      "text/plain": [
       "computing precision with alignments, completed variants ::   0%|          | 0/2925 [00:00<?, ?it/s]"
      ]
     },
     "metadata": {},
     "output_type": "display_data"
    },
    {
     "data": {
      "application/vnd.jupyter.widget-view+json": {
       "model_id": "5f114158aac74fbda08f276c9acaee86",
       "version_major": 2,
       "version_minor": 0
      },
      "text/plain": [
       "replaying log with TBR, completed variants ::   0%|          | 0/409 [00:00<?, ?it/s]"
      ]
     },
     "metadata": {},
     "output_type": "display_data"
    },
    {
     "data": {
      "application/vnd.jupyter.widget-view+json": {
       "model_id": "611173146aa24a93a94ef5bbb3dee1e5",
       "version_major": 2,
       "version_minor": 0
      },
      "text/plain": [
       "replaying log with TBR, completed variants ::   0%|          | 0/2925 [00:00<?, ?it/s]"
      ]
     },
     "metadata": {},
     "output_type": "display_data"
    },
    {
     "data": {
      "application/vnd.jupyter.widget-view+json": {
       "model_id": "8ee12160501d4c88bff2e9f400be10e8",
       "version_major": 2,
       "version_minor": 0
      },
      "text/plain": [
       "replaying log with TBR, completed variants ::   0%|          | 0/409 [00:00<?, ?it/s]"
      ]
     },
     "metadata": {},
     "output_type": "display_data"
    },
    {
     "data": {
      "application/vnd.jupyter.widget-view+json": {
       "model_id": "cf8f0f28d3834875a7224a50ff2c5dad",
       "version_major": 2,
       "version_minor": 0
      },
      "text/plain": [
       "replaying log with TBR, completed variants ::   0%|          | 0/2925 [00:00<?, ?it/s]"
      ]
     },
     "metadata": {},
     "output_type": "display_data"
    },
    {
     "data": {
      "application/vnd.jupyter.widget-view+json": {
       "model_id": "9ac24c3b7f57405986129e596cf16248",
       "version_major": 2,
       "version_minor": 0
      },
      "text/plain": [
       "aligning log, completed variants ::   0%|          | 0/409 [00:00<?, ?it/s]"
      ]
     },
     "metadata": {},
     "output_type": "display_data"
    },
    {
     "data": {
      "application/vnd.jupyter.widget-view+json": {
       "model_id": "675e953403604a3db1cc426ab639cb39",
       "version_major": 2,
       "version_minor": 0
      },
      "text/plain": [
       "computing precision with alignments, completed variants ::   0%|          | 0/2925 [00:00<?, ?it/s]"
      ]
     },
     "metadata": {},
     "output_type": "display_data"
    },
    {
     "data": {
      "application/vnd.jupyter.widget-view+json": {
       "model_id": "f28f0f025c294a8480817235d15d27de",
       "version_major": 2,
       "version_minor": 0
      },
      "text/plain": [
       "replaying log with TBR, completed variants ::   0%|          | 0/409 [00:00<?, ?it/s]"
      ]
     },
     "metadata": {},
     "output_type": "display_data"
    },
    {
     "data": {
      "application/vnd.jupyter.widget-view+json": {
       "model_id": "de7c2c4d37254237b199ab60b4fc4d0d",
       "version_major": 2,
       "version_minor": 0
      },
      "text/plain": [
       "replaying log with TBR, completed variants ::   0%|          | 0/2925 [00:00<?, ?it/s]"
      ]
     },
     "metadata": {},
     "output_type": "display_data"
    },
    {
     "data": {
      "application/vnd.jupyter.widget-view+json": {
       "model_id": "8e33356085e34653a7efd67e2053c2c7",
       "version_major": 2,
       "version_minor": 0
      },
      "text/plain": [
       "aligning log, completed variants ::   0%|          | 0/409 [00:00<?, ?it/s]"
      ]
     },
     "metadata": {},
     "output_type": "display_data"
    },
    {
     "data": {
      "application/vnd.jupyter.widget-view+json": {
       "model_id": "551756e7e99546de88ea4d691cc447ff",
       "version_major": 2,
       "version_minor": 0
      },
      "text/plain": [
       "computing precision with alignments, completed variants ::   0%|          | 0/2925 [00:00<?, ?it/s]"
      ]
     },
     "metadata": {},
     "output_type": "display_data"
    },
    {
     "data": {
      "application/vnd.jupyter.widget-view+json": {
       "model_id": "634efecf53a444ecb38c79e172c8747b",
       "version_major": 2,
       "version_minor": 0
      },
      "text/plain": [
       "replaying log with TBR, completed variants ::   0%|          | 0/409 [00:00<?, ?it/s]"
      ]
     },
     "metadata": {},
     "output_type": "display_data"
    },
    {
     "data": {
      "application/vnd.jupyter.widget-view+json": {
       "model_id": "8be7081b0c3246108a9deafcf80c08f7",
       "version_major": 2,
       "version_minor": 0
      },
      "text/plain": [
       "replaying log with TBR, completed variants ::   0%|          | 0/2925 [00:00<?, ?it/s]"
      ]
     },
     "metadata": {},
     "output_type": "display_data"
    },
    {
     "data": {
      "application/vnd.jupyter.widget-view+json": {
       "model_id": "ec71c583d81c42c199ff5d073fa8e37a",
       "version_major": 2,
       "version_minor": 0
      },
      "text/plain": [
       "replaying log with TBR, completed variants ::   0%|          | 0/409 [00:00<?, ?it/s]"
      ]
     },
     "metadata": {},
     "output_type": "display_data"
    },
    {
     "data": {
      "application/vnd.jupyter.widget-view+json": {
       "model_id": "f038679865ae49faac268b5de6e6f01f",
       "version_major": 2,
       "version_minor": 0
      },
      "text/plain": [
       "replaying log with TBR, completed variants ::   0%|          | 0/2925 [00:00<?, ?it/s]"
      ]
     },
     "metadata": {},
     "output_type": "display_data"
    }
   ],
   "source": [
    "net_IM, initial_marking_IM, final_marking_IM = petri_net_importer.apply('./pnml/Petri-net-IM.pnml')\n",
    "net_Alpha, initial_marking_Alpha, final_marking_Alpha = petri_net_importer.apply('./pnml/Petri-net-Alpha.pnml')\n",
    "net_Heuristic, initial_marking_Heuristic, final_marking_Heuristic = petri_net_importer.apply('./pnml/Petri-net-Heuristic.pnml')\n",
    "net_ILP, initial_marking_ILP, final_marking_ILP = petri_net_importer.apply('./pnml/Petri-net-ILP.pnml')\n",
    "net_state_region_miner, initial_marking_state_region_miner, final_marking_state_region_miner = petri_net_importer.apply(\n",
    "    './pnml/Petri-net-state-region-miner.pnml')\n",
    "\n",
    "result_IM_2b = fitness_and_precision_calculator(net_IM, initial_marking_IM, final_marking_IM)\n",
    "result_alpha_2b = fitness_and_precision_calculator(net_Alpha, initial_marking_Alpha, final_marking_Alpha)\n",
    "result_heuristic_2b = fitness_and_precision_calculator(net_Heuristic, initial_marking_Heuristic, final_marking_Heuristic)\n",
    "result_ILP_2b = fitness_and_precision_calculator(net_ILP, initial_marking_ILP, final_marking_ILP)\n",
    "result_state_region_miner_2b = fitness_and_precision_calculator(net_state_region_miner, initial_marking_state_region_miner,\n",
    "                                                                final_marking_state_region_miner)\n",
    "\n"
   ]
  },
  {
   "cell_type": "code",
   "execution_count": 8,
   "metadata": {
    "collapsed": false,
    "pycharm": {
     "name": "#%%\n"
    }
   },
   "outputs": [
    {
     "data": {
      "text/html": [
       "<div>\n",
       "<style scoped>\n",
       "    .dataframe tbody tr th:only-of-type {\n",
       "        vertical-align: middle;\n",
       "    }\n",
       "\n",
       "    .dataframe tbody tr th {\n",
       "        vertical-align: top;\n",
       "    }\n",
       "\n",
       "    .dataframe thead th {\n",
       "        text-align: right;\n",
       "    }\n",
       "</style>\n",
       "<table border=\"1\" class=\"dataframe\">\n",
       "  <thead>\n",
       "    <tr style=\"text-align: right;\">\n",
       "      <th></th>\n",
       "      <th>perc_fit_trace (alignment)</th>\n",
       "      <th>perc_fit_trace (token replay)</th>\n",
       "      <th>average_fitness (alignment)</th>\n",
       "      <th>average_fitness (token replay)</th>\n",
       "      <th>precision (alignment)</th>\n",
       "      <th>precision (token replay)</th>\n",
       "    </tr>\n",
       "  </thead>\n",
       "  <tbody>\n",
       "    <tr>\n",
       "      <th>IM</th>\n",
       "      <td>44.947210</td>\n",
       "      <td>44.947210</td>\n",
       "      <td>0.924319</td>\n",
       "      <td>0.936411</td>\n",
       "      <td>0.920100</td>\n",
       "      <td>0.919382</td>\n",
       "    </tr>\n",
       "    <tr>\n",
       "      <th>Alpha</th>\n",
       "      <td>0.000000</td>\n",
       "      <td>0.000000</td>\n",
       "      <td>0.000000</td>\n",
       "      <td>0.770813</td>\n",
       "      <td>0.000000</td>\n",
       "      <td>0.399455</td>\n",
       "    </tr>\n",
       "    <tr>\n",
       "      <th>Heuristic</th>\n",
       "      <td>1.231775</td>\n",
       "      <td>1.231775</td>\n",
       "      <td>0.802888</td>\n",
       "      <td>0.953413</td>\n",
       "      <td>0.799438</td>\n",
       "      <td>0.799438</td>\n",
       "    </tr>\n",
       "    <tr>\n",
       "      <th>ILP</th>\n",
       "      <td>31.171443</td>\n",
       "      <td>31.171443</td>\n",
       "      <td>0.837280</td>\n",
       "      <td>0.927118</td>\n",
       "      <td>0.937179</td>\n",
       "      <td>0.910164</td>\n",
       "    </tr>\n",
       "    <tr>\n",
       "      <th>State Region</th>\n",
       "      <td>0.000000</td>\n",
       "      <td>0.000000</td>\n",
       "      <td>0.000000</td>\n",
       "      <td>0.928056</td>\n",
       "      <td>0.000000</td>\n",
       "      <td>0.540627</td>\n",
       "    </tr>\n",
       "  </tbody>\n",
       "</table>\n",
       "</div>"
      ],
      "text/plain": [
       "              perc_fit_trace (alignment)  perc_fit_trace (token replay)  \\\n",
       "IM                             44.947210                      44.947210   \n",
       "Alpha                           0.000000                       0.000000   \n",
       "Heuristic                       1.231775                       1.231775   \n",
       "ILP                            31.171443                      31.171443   \n",
       "State Region                    0.000000                       0.000000   \n",
       "\n",
       "              average_fitness (alignment)  average_fitness (token replay)  \\\n",
       "IM                               0.924319                        0.936411   \n",
       "Alpha                            0.000000                        0.770813   \n",
       "Heuristic                        0.802888                        0.953413   \n",
       "ILP                              0.837280                        0.927118   \n",
       "State Region                     0.000000                        0.928056   \n",
       "\n",
       "              precision (alignment)  precision (token replay)  \n",
       "IM                         0.920100                  0.919382  \n",
       "Alpha                      0.000000                  0.399455  \n",
       "Heuristic                  0.799438                  0.799438  \n",
       "ILP                        0.937179                  0.910164  \n",
       "State Region               0.000000                  0.540627  "
      ]
     },
     "execution_count": 8,
     "metadata": {},
     "output_type": "execute_result"
    }
   ],
   "source": [
    "result_fitness_precision_2b = {}\n",
    "\n",
    "for key in result_IM_2b:\n",
    "    result_fitness_precision_2b[key] = [result_IM_2b[key]]\n",
    "for key in result_IM_2b:\n",
    "    result_fitness_precision_2b[key].append(result_alpha_2b[key])\n",
    "for key in result_IM_2b:\n",
    "    result_fitness_precision_2b[key].append(result_heuristic_2b[key])\n",
    "for key in result_IM_2b:\n",
    "    result_fitness_precision_2b[key].append(result_ILP_2b[key])\n",
    "for key in result_IM_2b:\n",
    "    result_fitness_precision_2b[key].append(result_state_region_miner_2b[key])\n",
    "\n",
    "df_fitness_precision_2b = pd.DataFrame(result_fitness_precision_2b, index=['IM', 'Alpha', 'Heuristic', 'ILP', 'State Region'])\n",
    "df_fitness_precision_2b"
   ]
  },
  {
   "cell_type": "markdown",
   "metadata": {
    "collapsed": false,
    "pycharm": {
     "name": "#%% md\n"
    }
   },
   "source": []
  },
  {
   "cell_type": "code",
   "execution_count": 9,
   "metadata": {
    "collapsed": false,
    "pycharm": {
     "name": "#%%\n"
    }
   },
   "outputs": [
    {
     "data": {
      "application/vnd.jupyter.widget-view+json": {
       "model_id": "b8d2ff5beee7405382b2aa0628655f07",
       "version_major": 2,
       "version_minor": 0
      },
      "text/plain": [
       "replaying log with TBR, completed variants ::   0%|          | 0/409 [00:00<?, ?it/s]"
      ]
     },
     "metadata": {},
     "output_type": "display_data"
    },
    {
     "data": {
      "application/vnd.jupyter.widget-view+json": {
       "model_id": "90870ef85c744b358c44372b9015cf21",
       "version_major": 2,
       "version_minor": 0
      },
      "text/plain": [
       "replaying log with TBR, completed variants ::   0%|          | 0/409 [00:00<?, ?it/s]"
      ]
     },
     "metadata": {},
     "output_type": "display_data"
    },
    {
     "data": {
      "application/vnd.jupyter.widget-view+json": {
       "model_id": "8d84e2af136f473a911770a5368b8cc6",
       "version_major": 2,
       "version_minor": 0
      },
      "text/plain": [
       "replaying log with TBR, completed variants ::   0%|          | 0/409 [00:00<?, ?it/s]"
      ]
     },
     "metadata": {},
     "output_type": "display_data"
    },
    {
     "data": {
      "application/vnd.jupyter.widget-view+json": {
       "model_id": "e818e8d456fc45c990684b798062cbb3",
       "version_major": 2,
       "version_minor": 0
      },
      "text/plain": [
       "replaying log with TBR, completed variants ::   0%|          | 0/409 [00:00<?, ?it/s]"
      ]
     },
     "metadata": {},
     "output_type": "display_data"
    },
    {
     "data": {
      "application/vnd.jupyter.widget-view+json": {
       "model_id": "5ab6fe7e73874292bc6813ec5e2d38f5",
       "version_major": 2,
       "version_minor": 0
      },
      "text/plain": [
       "replaying log with TBR, completed variants ::   0%|          | 0/409 [00:00<?, ?it/s]"
      ]
     },
     "metadata": {},
     "output_type": "display_data"
    },
    {
     "data": {
      "text/html": [
       "<div>\n",
       "<style scoped>\n",
       "    .dataframe tbody tr th:only-of-type {\n",
       "        vertical-align: middle;\n",
       "    }\n",
       "\n",
       "    .dataframe tbody tr th {\n",
       "        vertical-align: top;\n",
       "    }\n",
       "\n",
       "    .dataframe thead th {\n",
       "        text-align: right;\n",
       "    }\n",
       "</style>\n",
       "<table border=\"1\" class=\"dataframe\">\n",
       "  <thead>\n",
       "    <tr style=\"text-align: right;\">\n",
       "      <th></th>\n",
       "      <th>simplicity</th>\n",
       "      <th>generalization</th>\n",
       "    </tr>\n",
       "  </thead>\n",
       "  <tbody>\n",
       "    <tr>\n",
       "      <th>IM</th>\n",
       "      <td>0.795918</td>\n",
       "      <td>0.937063</td>\n",
       "    </tr>\n",
       "    <tr>\n",
       "      <th>Alpha</th>\n",
       "      <td>0.398601</td>\n",
       "      <td>0.972661</td>\n",
       "    </tr>\n",
       "    <tr>\n",
       "      <th>Heuristic</th>\n",
       "      <td>0.664596</td>\n",
       "      <td>0.932175</td>\n",
       "    </tr>\n",
       "    <tr>\n",
       "      <th>ILP</th>\n",
       "      <td>0.271028</td>\n",
       "      <td>0.984557</td>\n",
       "    </tr>\n",
       "    <tr>\n",
       "      <th>State Region</th>\n",
       "      <td>0.473684</td>\n",
       "      <td>0.854232</td>\n",
       "    </tr>\n",
       "  </tbody>\n",
       "</table>\n",
       "</div>"
      ],
      "text/plain": [
       "              simplicity  generalization\n",
       "IM              0.795918        0.937063\n",
       "Alpha           0.398601        0.972661\n",
       "Heuristic       0.664596        0.932175\n",
       "ILP             0.271028        0.984557\n",
       "State Region    0.473684        0.854232"
      ]
     },
     "execution_count": 9,
     "metadata": {},
     "output_type": "execute_result"
    }
   ],
   "source": [
    "simplicity_IM, generalization_IM = simplicity_and_generalization_calculator(net_IM, initial_marking_IM, final_marking_IM)\n",
    "simplicity_alpha, generalization_alpha = simplicity_and_generalization_calculator(net_Alpha, initial_marking_Alpha, final_marking_Alpha)\n",
    "simplicity_heuristic, generalization_heuristic = simplicity_and_generalization_calculator(net_Heuristic, initial_marking_Heuristic,\n",
    "                                                                                          final_marking_Heuristic)\n",
    "simplicity_ilp, generalization_ilp = simplicity_and_generalization_calculator(net_ILP, initial_marking_ILP, final_marking_ILP)\n",
    "simplicity_state_region_miner, generalization_state_region_miner = simplicity_and_generalization_calculator(net_state_region_miner,\n",
    "                                                                                                            initial_marking_state_region_miner,\n",
    "                                                                                                            final_marking_state_region_miner)\n",
    "\n",
    "df_simplicity_generalition = pd.DataFrame({\n",
    "    'simplicity': [simplicity_IM, simplicity_alpha, simplicity_heuristic, simplicity_ilp, simplicity_state_region_miner],\n",
    "    'generalization': [generalization_IM, generalization_alpha, generalization_heuristic, generalization_ilp,\n",
    "                       generalization_state_region_miner]\n",
    "}, index=['IM', 'Alpha', 'Heuristic', 'ILP', 'State Region'])\n",
    "\n",
    "df_simplicity_generalition"
   ]
  },
  {
   "cell_type": "markdown",
   "metadata": {
    "collapsed": false,
    "pycharm": {
     "name": "#%% md\n"
    }
   },
   "source": [
    " <font size=\"5\">Question 2c</font>"
   ]
  },
  {
   "cell_type": "code",
   "execution_count": 10,
   "metadata": {
    "collapsed": false,
    "pycharm": {
     "name": "#%%\n"
    }
   },
   "outputs": [],
   "source": [
    "from pm4py.algo.filtering.log.paths import paths_filter\n",
    "\n",
    "log_2c1 = paths_filter.apply(log_2b, [('Notify about vacc. possibility', 'Notify about vacc. possibility')], {'positive': False})"
   ]
  },
  {
   "cell_type": "code",
   "execution_count": 11,
   "metadata": {
    "collapsed": false,
    "pycharm": {
     "name": "#%%\n"
    }
   },
   "outputs": [],
   "source": [
    "from pm4py.algo.filtering.log.start_activities import start_activities_filter\n",
    "\n",
    "log_2c2 = start_activities_filter.apply(log_2c1, ['Enter into System'])"
   ]
  },
  {
   "cell_type": "code",
   "execution_count": 12,
   "metadata": {
    "collapsed": false,
    "pycharm": {
     "name": "#%%\n"
    }
   },
   "outputs": [],
   "source": [
    "from pm4py.objects.log.obj import Trace\n",
    "\n",
    "removed_activities_2c3 = ['Insurance Check Private', 'Insurance Check Statutory', 'Prepare vaccine', 'Send vaccine to cabine',\n",
    "                          'Send Vaccination Certificate', 'Appointment granted', 'Priority Appointment granted', 'Destroy Vacc',\n",
    "                          'Send Invoice']\n",
    "\n",
    "attributes = log_2c2.attributes\n",
    "extensions = log_2c2.extensions\n",
    "omni = log_2c2.omni_present\n",
    "classifiers = log_2c2.classifiers\n",
    "properties = log_2c2.properties\n",
    "\n",
    "log_2c3 = EventLog(attributes=attributes, extensions=extensions, omni_present=omni, classifiers=classifiers, properties=properties)\n",
    "\n",
    "for t in log_2c2:\n",
    "    trace_attributes = t.attributes\n",
    "    trace_properties = t.properties\n",
    "    trace_2c3 = Trace(attributes=attributes, properties=properties)\n",
    "    for e in t:\n",
    "        if e['concept:name'] not in removed_activities_2c3:\n",
    "            trace_2c3.append(e)\n",
    "    if len(trace_2c3) != 0:\n",
    "        log_2c3.append(trace_2c3)"
   ]
  },
  {
   "cell_type": "code",
   "execution_count": 13,
   "metadata": {
    "collapsed": false,
    "pycharm": {
     "name": "#%%\n"
    }
   },
   "outputs": [],
   "source": [
    "for t in log_2c3:\n",
    "    for e in t:\n",
    "        if e['concept:name'] == 'Checkout No Vacc':\n",
    "            e['concept:name'] = 'Decline vaccination'\n",
    "\n",
    "log_2c4 = log_2c3"
   ]
  },
  {
   "cell_type": "code",
   "execution_count": 14,
   "metadata": {
    "collapsed": false,
    "pycharm": {
     "name": "#%%\n"
    }
   },
   "outputs": [
    {
     "name": "stdout",
     "output_type": "stream",
     "text": [
      "Number of cases: 3316\n",
      "Number of events: 37761\n",
      "Set of activities: {'Acknowledge vacc. possibility', 'Decline vaccination', 'Notify about vacc. possibility', 'Enter into System', 'Finished Risk Talk', 'Vaccinate', 'Request appointment', 'Register at vaccination facillity', 'Submit Declaration', 'Checkout'}\n"
     ]
    }
   ],
   "source": [
    "activities_set_2c = set()\n",
    "number_of_event_2c = 0\n",
    "for t in log_2c4:\n",
    "    for e in t:\n",
    "        number_of_event_2c += 1\n",
    "        activities_set_2c.add(e['concept:name'])\n",
    "\n",
    "print(f'Number of cases: {len(log_2c4)}')\n",
    "print(f'Number of events: {number_of_event_2c}')\n",
    "print(f'Set of activities: {activities_set_2c}')\n"
   ]
  },
  {
   "cell_type": "markdown",
   "metadata": {
    "collapsed": false,
    "pycharm": {
     "name": "#%% md\n"
    }
   },
   "source": [
    " <font size=\"5\">Question 2d</font>"
   ]
  },
  {
   "cell_type": "code",
   "execution_count": 15,
   "metadata": {
    "collapsed": false,
    "pycharm": {
     "name": "#%%\n"
    }
   },
   "outputs": [
    {
     "data": {
      "application/vnd.jupyter.widget-view+json": {
       "model_id": "6a373c1625754ead8fe0b98bae9695f0",
       "version_major": 2,
       "version_minor": 0
      },
      "text/plain": [
       "parsing log, completed traces ::   0%|          | 0/3316 [00:00<?, ?it/s]"
      ]
     },
     "metadata": {},
     "output_type": "display_data"
    }
   ],
   "source": [
    "log_2d = pm4py.read_xes(\"logs/log_vaccination_2c.xes\")"
   ]
  },
  {
   "cell_type": "code",
   "execution_count": 16,
   "metadata": {
    "collapsed": false,
    "pycharm": {
     "name": "#%%\n"
    }
   },
   "outputs": [
    {
     "data": {
      "application/vnd.jupyter.widget-view+json": {
       "model_id": "0459e95270bc4087a20b0234e62db1cd",
       "version_major": 2,
       "version_minor": 0
      },
      "text/plain": [
       "aligning log, completed variants ::   0%|          | 0/88 [00:00<?, ?it/s]"
      ]
     },
     "metadata": {},
     "output_type": "display_data"
    },
    {
     "data": {
      "application/vnd.jupyter.widget-view+json": {
       "model_id": "95c102c3acb9448e9ebcdcd2c96f020a",
       "version_major": 2,
       "version_minor": 0
      },
      "text/plain": [
       "computing precision with alignments, completed variants ::   0%|          | 0/283 [00:00<?, ?it/s]"
      ]
     },
     "metadata": {},
     "output_type": "display_data"
    },
    {
     "data": {
      "application/vnd.jupyter.widget-view+json": {
       "model_id": "9962c095c5bd4222aa81cac50c8d822b",
       "version_major": 2,
       "version_minor": 0
      },
      "text/plain": [
       "replaying log with TBR, completed variants ::   0%|          | 0/88 [00:00<?, ?it/s]"
      ]
     },
     "metadata": {},
     "output_type": "display_data"
    },
    {
     "data": {
      "application/vnd.jupyter.widget-view+json": {
       "model_id": "606c7bc5a6b1442b8a5abfe8f37e90f9",
       "version_major": 2,
       "version_minor": 0
      },
      "text/plain": [
       "replaying log with TBR, completed variants ::   0%|          | 0/283 [00:00<?, ?it/s]"
      ]
     },
     "metadata": {},
     "output_type": "display_data"
    },
    {
     "data": {
      "application/vnd.jupyter.widget-view+json": {
       "model_id": "e7f4d0d1541a437ca82a66fc2fa8a81d",
       "version_major": 2,
       "version_minor": 0
      },
      "text/plain": [
       "aligning log, completed variants ::   0%|          | 0/88 [00:00<?, ?it/s]"
      ]
     },
     "metadata": {},
     "output_type": "display_data"
    },
    {
     "data": {
      "application/vnd.jupyter.widget-view+json": {
       "model_id": "1d8013a3569c4c72b2a444ff03742973",
       "version_major": 2,
       "version_minor": 0
      },
      "text/plain": [
       "computing precision with alignments, completed variants ::   0%|          | 0/283 [00:00<?, ?it/s]"
      ]
     },
     "metadata": {},
     "output_type": "display_data"
    },
    {
     "data": {
      "application/vnd.jupyter.widget-view+json": {
       "model_id": "14630e38fd4d44468102d37173c63ec3",
       "version_major": 2,
       "version_minor": 0
      },
      "text/plain": [
       "replaying log with TBR, completed variants ::   0%|          | 0/88 [00:00<?, ?it/s]"
      ]
     },
     "metadata": {},
     "output_type": "display_data"
    },
    {
     "data": {
      "application/vnd.jupyter.widget-view+json": {
       "model_id": "8e0ca1ef552d4ab685a6dc8e17120f57",
       "version_major": 2,
       "version_minor": 0
      },
      "text/plain": [
       "replaying log with TBR, completed variants ::   0%|          | 0/283 [00:00<?, ?it/s]"
      ]
     },
     "metadata": {},
     "output_type": "display_data"
    },
    {
     "data": {
      "application/vnd.jupyter.widget-view+json": {
       "model_id": "a39a602879fe4cf29605d10a768dadcb",
       "version_major": 2,
       "version_minor": 0
      },
      "text/plain": [
       "replaying log with TBR, completed variants ::   0%|          | 0/88 [00:00<?, ?it/s]"
      ]
     },
     "metadata": {},
     "output_type": "display_data"
    },
    {
     "data": {
      "application/vnd.jupyter.widget-view+json": {
       "model_id": "79649f1ecb55475290b82c4cf24c075d",
       "version_major": 2,
       "version_minor": 0
      },
      "text/plain": [
       "replaying log with TBR, completed variants ::   0%|          | 0/283 [00:00<?, ?it/s]"
      ]
     },
     "metadata": {},
     "output_type": "display_data"
    },
    {
     "data": {
      "application/vnd.jupyter.widget-view+json": {
       "model_id": "56bd48ffe14c4acaa0644f59e6f084ee",
       "version_major": 2,
       "version_minor": 0
      },
      "text/plain": [
       "replaying log with TBR, completed variants ::   0%|          | 0/88 [00:00<?, ?it/s]"
      ]
     },
     "metadata": {},
     "output_type": "display_data"
    },
    {
     "data": {
      "application/vnd.jupyter.widget-view+json": {
       "model_id": "0acaebd6d0924f01b90f5b80d8a11cf8",
       "version_major": 2,
       "version_minor": 0
      },
      "text/plain": [
       "replaying log with TBR, completed variants ::   0%|          | 0/283 [00:00<?, ?it/s]"
      ]
     },
     "metadata": {},
     "output_type": "display_data"
    },
    {
     "data": {
      "application/vnd.jupyter.widget-view+json": {
       "model_id": "ca50b89534f14f54bb8fd8bb3d333c8a",
       "version_major": 2,
       "version_minor": 0
      },
      "text/plain": [
       "aligning log, completed variants ::   0%|          | 0/88 [00:00<?, ?it/s]"
      ]
     },
     "metadata": {},
     "output_type": "display_data"
    },
    {
     "data": {
      "application/vnd.jupyter.widget-view+json": {
       "model_id": "4288028044c940cfa421424acc874c80",
       "version_major": 2,
       "version_minor": 0
      },
      "text/plain": [
       "computing precision with alignments, completed variants ::   0%|          | 0/283 [00:00<?, ?it/s]"
      ]
     },
     "metadata": {},
     "output_type": "display_data"
    },
    {
     "data": {
      "application/vnd.jupyter.widget-view+json": {
       "model_id": "3654d42418b044efbc402b1e1051cb4e",
       "version_major": 2,
       "version_minor": 0
      },
      "text/plain": [
       "replaying log with TBR, completed variants ::   0%|          | 0/88 [00:00<?, ?it/s]"
      ]
     },
     "metadata": {},
     "output_type": "display_data"
    },
    {
     "data": {
      "application/vnd.jupyter.widget-view+json": {
       "model_id": "f7fb27d18a9c4ee385fe7072f9ca916b",
       "version_major": 2,
       "version_minor": 0
      },
      "text/plain": [
       "replaying log with TBR, completed variants ::   0%|          | 0/283 [00:00<?, ?it/s]"
      ]
     },
     "metadata": {},
     "output_type": "display_data"
    },
    {
     "data": {
      "application/vnd.jupyter.widget-view+json": {
       "model_id": "0340f6bff6da42e4b08643c20a57fe46",
       "version_major": 2,
       "version_minor": 0
      },
      "text/plain": [
       "replaying log with TBR, completed variants ::   0%|          | 0/88 [00:00<?, ?it/s]"
      ]
     },
     "metadata": {},
     "output_type": "display_data"
    },
    {
     "data": {
      "application/vnd.jupyter.widget-view+json": {
       "model_id": "3d9494020a4649feaacbd486ed13ef07",
       "version_major": 2,
       "version_minor": 0
      },
      "text/plain": [
       "replaying log with TBR, completed variants ::   0%|          | 0/283 [00:00<?, ?it/s]"
      ]
     },
     "metadata": {},
     "output_type": "display_data"
    }
   ],
   "source": [
    "net_sh, initial_marking_sh, final_marking_sh = petri_net_importer.apply('./models/small_hand.pnml')\n",
    "net_IM, initial_marking_IM, final_marking_IM = petri_net_importer.apply('./pnml/Petri-net-IM-2d.pnml')\n",
    "net_Alpha, initial_marking_Alpha, final_marking_Alpha = petri_net_importer.apply('./pnml/Petri-net-Alpha-2d.pnml')\n",
    "net_Heuristic, initial_marking_Heuristic, final_marking_Heuristic = petri_net_importer.apply('./pnml/Petri-net-Heuristic-2d.pnml')\n",
    "net_ILP, initial_marking_ILP, final_marking_ILP = petri_net_importer.apply('./pnml/Petri-net-ILP-2d.pnml')\n",
    "net_state_region_miner, initial_marking_state_region_miner, final_marking_state_region_miner = petri_net_importer.apply(\n",
    "    './pnml/Petri-net-state-region-miner-2d.pnml')\n",
    "\n",
    "result_sh_2d = fitness_and_precision_calculator(net_sh, initial_marking_sh, final_marking_sh, False)\n",
    "result_IM_2d = fitness_and_precision_calculator(net_IM, initial_marking_IM, final_marking_IM, False)\n",
    "result_alpha_2d = fitness_and_precision_calculator(net_Alpha, initial_marking_Alpha, final_marking_Alpha, False)\n",
    "result_heuristic_2d = fitness_and_precision_calculator(net_Heuristic, initial_marking_Heuristic, final_marking_Heuristic, False)\n",
    "result_ILP_2d = fitness_and_precision_calculator(net_ILP, initial_marking_ILP, final_marking_ILP, False)\n",
    "result_state_region_miner_2d = fitness_and_precision_calculator(net_state_region_miner, initial_marking_state_region_miner,\n",
    "                                                                final_marking_state_region_miner, False)"
   ]
  },
  {
   "cell_type": "code",
   "execution_count": 17,
   "metadata": {
    "collapsed": false,
    "pycharm": {
     "name": "#%%\n"
    }
   },
   "outputs": [
    {
     "data": {
      "text/html": [
       "<div>\n",
       "<style scoped>\n",
       "    .dataframe tbody tr th:only-of-type {\n",
       "        vertical-align: middle;\n",
       "    }\n",
       "\n",
       "    .dataframe tbody tr th {\n",
       "        vertical-align: top;\n",
       "    }\n",
       "\n",
       "    .dataframe thead th {\n",
       "        text-align: right;\n",
       "    }\n",
       "</style>\n",
       "<table border=\"1\" class=\"dataframe\">\n",
       "  <thead>\n",
       "    <tr style=\"text-align: right;\">\n",
       "      <th></th>\n",
       "      <th>perc_fit_trace (alignment)</th>\n",
       "      <th>perc_fit_trace (token replay)</th>\n",
       "      <th>average_fitness (alignment)</th>\n",
       "      <th>average_fitness (token replay)</th>\n",
       "      <th>precision (alignment)</th>\n",
       "      <th>precision (token replay)</th>\n",
       "    </tr>\n",
       "  </thead>\n",
       "  <tbody>\n",
       "    <tr>\n",
       "      <th>Small Hand</th>\n",
       "      <td>90.138721</td>\n",
       "      <td>90.138721</td>\n",
       "      <td>0.992601</td>\n",
       "      <td>0.992458</td>\n",
       "      <td>0.996637</td>\n",
       "      <td>0.996637</td>\n",
       "    </tr>\n",
       "    <tr>\n",
       "      <th>IM</th>\n",
       "      <td>9.529554</td>\n",
       "      <td>9.529554</td>\n",
       "      <td>0.765947</td>\n",
       "      <td>0.759697</td>\n",
       "      <td>0.855878</td>\n",
       "      <td>0.855878</td>\n",
       "    </tr>\n",
       "    <tr>\n",
       "      <th>Alpha</th>\n",
       "      <td>0.000000</td>\n",
       "      <td>0.000000</td>\n",
       "      <td>0.000000</td>\n",
       "      <td>0.744245</td>\n",
       "      <td>0.000000</td>\n",
       "      <td>0.448487</td>\n",
       "    </tr>\n",
       "    <tr>\n",
       "      <th>Heuristic</th>\n",
       "      <td>0.000000</td>\n",
       "      <td>0.000000</td>\n",
       "      <td>0.000000</td>\n",
       "      <td>0.968322</td>\n",
       "      <td>0.000000</td>\n",
       "      <td>0.947605</td>\n",
       "    </tr>\n",
       "    <tr>\n",
       "      <th>ILP</th>\n",
       "      <td>70.717732</td>\n",
       "      <td>70.717732</td>\n",
       "      <td>0.892599</td>\n",
       "      <td>0.936205</td>\n",
       "      <td>0.999364</td>\n",
       "      <td>0.998993</td>\n",
       "    </tr>\n",
       "    <tr>\n",
       "      <th>State Region</th>\n",
       "      <td>0.000000</td>\n",
       "      <td>0.000000</td>\n",
       "      <td>0.000000</td>\n",
       "      <td>0.930545</td>\n",
       "      <td>0.000000</td>\n",
       "      <td>0.838200</td>\n",
       "    </tr>\n",
       "  </tbody>\n",
       "</table>\n",
       "</div>"
      ],
      "text/plain": [
       "              perc_fit_trace (alignment)  perc_fit_trace (token replay)  \\\n",
       "Small Hand                     90.138721                      90.138721   \n",
       "IM                              9.529554                       9.529554   \n",
       "Alpha                           0.000000                       0.000000   \n",
       "Heuristic                       0.000000                       0.000000   \n",
       "ILP                            70.717732                      70.717732   \n",
       "State Region                    0.000000                       0.000000   \n",
       "\n",
       "              average_fitness (alignment)  average_fitness (token replay)  \\\n",
       "Small Hand                       0.992601                        0.992458   \n",
       "IM                               0.765947                        0.759697   \n",
       "Alpha                            0.000000                        0.744245   \n",
       "Heuristic                        0.000000                        0.968322   \n",
       "ILP                              0.892599                        0.936205   \n",
       "State Region                     0.000000                        0.930545   \n",
       "\n",
       "              precision (alignment)  precision (token replay)  \n",
       "Small Hand                 0.996637                  0.996637  \n",
       "IM                         0.855878                  0.855878  \n",
       "Alpha                      0.000000                  0.448487  \n",
       "Heuristic                  0.000000                  0.947605  \n",
       "ILP                        0.999364                  0.998993  \n",
       "State Region               0.000000                  0.838200  "
      ]
     },
     "execution_count": 17,
     "metadata": {},
     "output_type": "execute_result"
    }
   ],
   "source": [
    "result_fitness_precision_2d = {}\n",
    "\n",
    "for key in result_sh_2d:\n",
    "    result_fitness_precision_2d[key] = [result_sh_2d[key]]\n",
    "for key in result_sh_2d:\n",
    "    result_fitness_precision_2d[key].append(result_IM_2d[key])\n",
    "for key in result_sh_2d:\n",
    "    result_fitness_precision_2d[key].append(result_alpha_2d[key])\n",
    "for key in result_sh_2d:\n",
    "    result_fitness_precision_2d[key].append(result_heuristic_2d[key])\n",
    "for key in result_sh_2d:\n",
    "    result_fitness_precision_2d[key].append(result_ILP_2d[key])\n",
    "for key in result_sh_2d:\n",
    "    result_fitness_precision_2d[key].append(result_state_region_miner_2d[key])\n",
    "\n",
    "df_fitness_precision_2d = pd.DataFrame(result_fitness_precision_2d, index=['Small Hand', 'IM', 'Alpha', 'Heuristic', 'ILP', 'State Region'])\n",
    "df_fitness_precision_2d"
   ]
  },
  {
   "cell_type": "code",
   "execution_count": 18,
   "metadata": {
    "collapsed": false,
    "pycharm": {
     "name": "#%%\n"
    }
   },
   "outputs": [
    {
     "data": {
      "application/vnd.jupyter.widget-view+json": {
       "model_id": "c0613406128a4377845fb194aa58cc27",
       "version_major": 2,
       "version_minor": 0
      },
      "text/plain": [
       "replaying log with TBR, completed variants ::   0%|          | 0/88 [00:00<?, ?it/s]"
      ]
     },
     "metadata": {},
     "output_type": "display_data"
    },
    {
     "data": {
      "application/vnd.jupyter.widget-view+json": {
       "model_id": "aa3b16f7b0484988bad54b7d993b8dff",
       "version_major": 2,
       "version_minor": 0
      },
      "text/plain": [
       "replaying log with TBR, completed variants ::   0%|          | 0/88 [00:00<?, ?it/s]"
      ]
     },
     "metadata": {},
     "output_type": "display_data"
    },
    {
     "data": {
      "application/vnd.jupyter.widget-view+json": {
       "model_id": "f7a1a5a454314c0b9556be136c6295a6",
       "version_major": 2,
       "version_minor": 0
      },
      "text/plain": [
       "replaying log with TBR, completed variants ::   0%|          | 0/88 [00:00<?, ?it/s]"
      ]
     },
     "metadata": {},
     "output_type": "display_data"
    },
    {
     "data": {
      "application/vnd.jupyter.widget-view+json": {
       "model_id": "d1a4277e0def4b1c9ef3168418a27571",
       "version_major": 2,
       "version_minor": 0
      },
      "text/plain": [
       "replaying log with TBR, completed variants ::   0%|          | 0/88 [00:00<?, ?it/s]"
      ]
     },
     "metadata": {},
     "output_type": "display_data"
    },
    {
     "data": {
      "application/vnd.jupyter.widget-view+json": {
       "model_id": "10914ce8a3384f31b89bb341fa6e98fb",
       "version_major": 2,
       "version_minor": 0
      },
      "text/plain": [
       "replaying log with TBR, completed variants ::   0%|          | 0/88 [00:00<?, ?it/s]"
      ]
     },
     "metadata": {},
     "output_type": "display_data"
    },
    {
     "data": {
      "application/vnd.jupyter.widget-view+json": {
       "model_id": "0a9fc74ebf6147148309cdd741464785",
       "version_major": 2,
       "version_minor": 0
      },
      "text/plain": [
       "replaying log with TBR, completed variants ::   0%|          | 0/88 [00:00<?, ?it/s]"
      ]
     },
     "metadata": {},
     "output_type": "display_data"
    },
    {
     "data": {
      "text/html": [
       "<div>\n",
       "<style scoped>\n",
       "    .dataframe tbody tr th:only-of-type {\n",
       "        vertical-align: middle;\n",
       "    }\n",
       "\n",
       "    .dataframe tbody tr th {\n",
       "        vertical-align: top;\n",
       "    }\n",
       "\n",
       "    .dataframe thead th {\n",
       "        text-align: right;\n",
       "    }\n",
       "</style>\n",
       "<table border=\"1\" class=\"dataframe\">\n",
       "  <thead>\n",
       "    <tr style=\"text-align: right;\">\n",
       "      <th></th>\n",
       "      <th>simplicity</th>\n",
       "      <th>generalization</th>\n",
       "    </tr>\n",
       "  </thead>\n",
       "  <tbody>\n",
       "    <tr>\n",
       "      <th>Small Hand</th>\n",
       "      <td>0.725490</td>\n",
       "      <td>0.959157</td>\n",
       "    </tr>\n",
       "    <tr>\n",
       "      <th>IM</th>\n",
       "      <td>0.828571</td>\n",
       "      <td>0.981198</td>\n",
       "    </tr>\n",
       "    <tr>\n",
       "      <th>Alpha</th>\n",
       "      <td>0.511111</td>\n",
       "      <td>0.981252</td>\n",
       "    </tr>\n",
       "    <tr>\n",
       "      <th>Heuristic</th>\n",
       "      <td>0.694444</td>\n",
       "      <td>0.907697</td>\n",
       "    </tr>\n",
       "    <tr>\n",
       "      <th>ILP</th>\n",
       "      <td>0.388889</td>\n",
       "      <td>0.983559</td>\n",
       "    </tr>\n",
       "    <tr>\n",
       "      <th>State Region</th>\n",
       "      <td>0.600000</td>\n",
       "      <td>0.853852</td>\n",
       "    </tr>\n",
       "  </tbody>\n",
       "</table>\n",
       "</div>"
      ],
      "text/plain": [
       "              simplicity  generalization\n",
       "Small Hand      0.725490        0.959157\n",
       "IM              0.828571        0.981198\n",
       "Alpha           0.511111        0.981252\n",
       "Heuristic       0.694444        0.907697\n",
       "ILP             0.388889        0.983559\n",
       "State Region    0.600000        0.853852"
      ]
     },
     "execution_count": 18,
     "metadata": {},
     "output_type": "execute_result"
    }
   ],
   "source": [
    "simplicity_sh, generalization_sh = simplicity_and_generalization_calculator(net_sh, initial_marking_sh, final_marking_sh, False)\n",
    "simplicity_IM, generalization_IM = simplicity_and_generalization_calculator(net_IM, initial_marking_IM, final_marking_IM, False)\n",
    "simplicity_alpha, generalization_alpha = simplicity_and_generalization_calculator(net_Alpha, initial_marking_Alpha, final_marking_Alpha,\n",
    "                                                                                  False)\n",
    "simplicity_heuristic, generalization_heuristic = simplicity_and_generalization_calculator(net_Heuristic, initial_marking_Heuristic,\n",
    "                                                                                          final_marking_Heuristic, False)\n",
    "simplicity_ilp, generalization_ilp = simplicity_and_generalization_calculator(net_ILP, initial_marking_ILP, final_marking_ILP, False)\n",
    "simplicity_state_region_miner, generalization_state_region_miner = simplicity_and_generalization_calculator(net_state_region_miner,\n",
    "                                                                                                            initial_marking_state_region_miner,\n",
    "                                                                                                            final_marking_state_region_miner,\n",
    "                                                                                                            False)\n",
    "\n",
    "df_simplicity_generalition = pd.DataFrame({\n",
    "    'simplicity': [simplicity_sh, simplicity_IM, simplicity_alpha, simplicity_heuristic, simplicity_ilp, simplicity_state_region_miner],\n",
    "    'generalization': [generalization_sh, generalization_IM, generalization_alpha, generalization_heuristic, generalization_ilp,\n",
    "                       generalization_state_region_miner]\n",
    "}, index=['Small Hand', 'IM', 'Alpha', 'Heuristic', 'ILP', 'State Region'])\n",
    "\n",
    "df_simplicity_generalition"
   ]
  },
  {
   "cell_type": "markdown",
   "metadata": {
    "collapsed": false,
    "pycharm": {
     "name": "#%% md\n"
    }
   },
   "source": [
    " <font size=\"4\">Trace that is modeled by the hand-made model but not the alpha, heuristic, and state-region-based model</font>"
   ]
  },
  {
   "cell_type": "code",
   "execution_count": 36,
   "metadata": {
    "collapsed": false,
    "pycharm": {
     "name": "#%%\n"
    }
   },
   "outputs": [
    {
     "data": {
      "application/vnd.jupyter.widget-view+json": {
       "model_id": "8a9a00c62d3b48d698d7d8ad23e44a17",
       "version_major": 2,
       "version_minor": 0
      },
      "text/plain": [
       "replaying log with TBR, completed variants ::   0%|          | 0/88 [00:00<?, ?it/s]"
      ]
     },
     "metadata": {},
     "output_type": "display_data"
    },
    {
     "data": {
      "application/vnd.jupyter.widget-view+json": {
       "model_id": "201d936bb77948bdaca736f9b35d82e8",
       "version_major": 2,
       "version_minor": 0
      },
      "text/plain": [
       "replaying log with TBR, completed variants ::   0%|          | 0/88 [00:00<?, ?it/s]"
      ]
     },
     "metadata": {},
     "output_type": "display_data"
    },
    {
     "data": {
      "application/vnd.jupyter.widget-view+json": {
       "model_id": "0470edec6a3a4ad78e55a4bc4c50ff47",
       "version_major": 2,
       "version_minor": 0
      },
      "text/plain": [
       "replaying log with TBR, completed variants ::   0%|          | 0/88 [00:00<?, ?it/s]"
      ]
     },
     "metadata": {},
     "output_type": "display_data"
    },
    {
     "data": {
      "application/vnd.jupyter.widget-view+json": {
       "model_id": "0c7c8de30c674ee283b426e2cc79967f",
       "version_major": 2,
       "version_minor": 0
      },
      "text/plain": [
       "replaying log with TBR, completed variants ::   0%|          | 0/88 [00:00<?, ?it/s]"
      ]
     },
     "metadata": {},
     "output_type": "display_data"
    },
    {
     "name": "stdout",
     "output_type": "stream",
     "text": [
      "Enter into System\n",
      "Notify about vacc. possibility\n",
      "Acknowledge vacc. possibility\n",
      "Request appointment\n",
      "Register at vaccination facillity\n",
      "Finished Risk Talk\n",
      "Submit Declaration\n",
      "Vaccinate\n",
      "Checkout\n",
      "Register at vaccination facillity\n",
      "Submit Declaration\n",
      "Vaccinate\n",
      "Checkout\n"
     ]
    }
   ],
   "source": [
    "replayed_traces_sh = token_replay.apply(log_2d, net_sh, initial_marking_sh, final_marking_sh)\n",
    "replayed_traces_alpha = token_replay.apply(log_2d, net_Alpha, initial_marking_Alpha, final_marking_Alpha)\n",
    "replayed_traces_heuristic = token_replay.apply(log_2d, net_Heuristic, initial_marking_Heuristic, final_marking_Heuristic)\n",
    "replayed_traces_state = token_replay.apply(log_2d, net_state_region_miner, initial_marking_state_region_miner, final_marking_state_region_miner)\n",
    "for i in range(len(replayed_traces_sh)):\n",
    "    if replayed_traces_sh[i]['trace_is_fit'] and not replayed_traces_alpha[i]['trace_is_fit'] and not replayed_traces_heuristic[i]['trace_is_fit'] and not replayed_traces_state[i]['trace_is_fit']:\n",
    "        for e in log_2d[i]:\n",
    "            print(e['concept:name'])\n",
    "        break"
   ]
  },
  {
   "cell_type": "markdown",
   "metadata": {
    "collapsed": false,
    "pycharm": {
     "name": "#%% md\n"
    }
   },
   "source": [
    " <font size=\"5\">Question 2e</font>\n"
   ]
  },
  {
   "cell_type": "code",
   "execution_count": 19,
   "metadata": {
    "collapsed": false,
    "pycharm": {
     "name": "#%%\n"
    }
   },
   "outputs": [
    {
     "name": "stderr",
     "output_type": "stream",
     "text": [
      "C:\\Users\\adivtran\\Desktop\\projects\\APM1\\venv\\lib\\site-packages\\pm4py\\algo\\discovery\\inductive\\parameters.py:22: UserWarning: pm4py.algo.discovery.inductive.parameters is deprecated. Please use the variant-specific parameters!\n",
      "  warnings.warn(\"pm4py.algo.discovery.inductive.parameters is deprecated. Please use the variant-specific parameters!\")\n"
     ]
    },
    {
     "data": {
      "application/vnd.jupyter.widget-view+json": {
       "model_id": "6be0bebbd1ad4b83a40f05016b0b82e2",
       "version_major": 2,
       "version_minor": 0
      },
      "text/plain": [
       "aligning log, completed variants ::   0%|          | 0/409 [00:00<?, ?it/s]"
      ]
     },
     "metadata": {},
     "output_type": "display_data"
    },
    {
     "data": {
      "application/vnd.jupyter.widget-view+json": {
       "model_id": "6a5f06695e804290be5a9109ef1d575b",
       "version_major": 2,
       "version_minor": 0
      },
      "text/plain": [
       "computing precision with alignments, completed variants ::   0%|          | 0/2925 [00:00<?, ?it/s]"
      ]
     },
     "metadata": {},
     "output_type": "display_data"
    },
    {
     "data": {
      "application/vnd.jupyter.widget-view+json": {
       "model_id": "0826f8b0dd3d4426bb96eaedd36a9917",
       "version_major": 2,
       "version_minor": 0
      },
      "text/plain": [
       "replaying log with TBR, completed variants ::   0%|          | 0/409 [00:00<?, ?it/s]"
      ]
     },
     "metadata": {},
     "output_type": "display_data"
    },
    {
     "data": {
      "application/vnd.jupyter.widget-view+json": {
       "model_id": "1ec16108ffa84edba27fc2fd64874f31",
       "version_major": 2,
       "version_minor": 0
      },
      "text/plain": [
       "replaying log with TBR, completed variants ::   0%|          | 0/2925 [00:00<?, ?it/s]"
      ]
     },
     "metadata": {},
     "output_type": "display_data"
    },
    {
     "data": {
      "application/vnd.jupyter.widget-view+json": {
       "model_id": "d12ddf24a1174ababf740089d0bcde21",
       "version_major": 2,
       "version_minor": 0
      },
      "text/plain": [
       "aligning log, completed variants ::   0%|          | 0/409 [00:00<?, ?it/s]"
      ]
     },
     "metadata": {},
     "output_type": "display_data"
    },
    {
     "data": {
      "application/vnd.jupyter.widget-view+json": {
       "model_id": "d35d763e9dc743239605c7aa2df24a1b",
       "version_major": 2,
       "version_minor": 0
      },
      "text/plain": [
       "computing precision with alignments, completed variants ::   0%|          | 0/2925 [00:00<?, ?it/s]"
      ]
     },
     "metadata": {},
     "output_type": "display_data"
    },
    {
     "data": {
      "application/vnd.jupyter.widget-view+json": {
       "model_id": "0981672ba987470baede17e32ba7754c",
       "version_major": 2,
       "version_minor": 0
      },
      "text/plain": [
       "replaying log with TBR, completed variants ::   0%|          | 0/409 [00:00<?, ?it/s]"
      ]
     },
     "metadata": {},
     "output_type": "display_data"
    },
    {
     "data": {
      "application/vnd.jupyter.widget-view+json": {
       "model_id": "a1313c9792e047ceae0cc052fd115e0a",
       "version_major": 2,
       "version_minor": 0
      },
      "text/plain": [
       "replaying log with TBR, completed variants ::   0%|          | 0/2925 [00:00<?, ?it/s]"
      ]
     },
     "metadata": {},
     "output_type": "display_data"
    },
    {
     "data": {
      "application/vnd.jupyter.widget-view+json": {
       "model_id": "39bb0901728142dfb27e1a26ba88be07",
       "version_major": 2,
       "version_minor": 0
      },
      "text/plain": [
       "aligning log, completed variants ::   0%|          | 0/409 [00:00<?, ?it/s]"
      ]
     },
     "metadata": {},
     "output_type": "display_data"
    },
    {
     "data": {
      "application/vnd.jupyter.widget-view+json": {
       "model_id": "c69984cacd694ea1b9c8d7bb8e3cb410",
       "version_major": 2,
       "version_minor": 0
      },
      "text/plain": [
       "computing precision with alignments, completed variants ::   0%|          | 0/2925 [00:00<?, ?it/s]"
      ]
     },
     "metadata": {},
     "output_type": "display_data"
    },
    {
     "data": {
      "application/vnd.jupyter.widget-view+json": {
       "model_id": "ae31154437124cfead18917e865d73af",
       "version_major": 2,
       "version_minor": 0
      },
      "text/plain": [
       "replaying log with TBR, completed variants ::   0%|          | 0/409 [00:00<?, ?it/s]"
      ]
     },
     "metadata": {},
     "output_type": "display_data"
    },
    {
     "data": {
      "application/vnd.jupyter.widget-view+json": {
       "model_id": "7aec02b23520476ba9953b80fcb6b7db",
       "version_major": 2,
       "version_minor": 0
      },
      "text/plain": [
       "replaying log with TBR, completed variants ::   0%|          | 0/2925 [00:00<?, ?it/s]"
      ]
     },
     "metadata": {},
     "output_type": "display_data"
    },
    {
     "data": {
      "application/vnd.jupyter.widget-view+json": {
       "model_id": "0ba1bdd6b52f435986cbf494d0c2a3fc",
       "version_major": 2,
       "version_minor": 0
      },
      "text/plain": [
       "aligning log, completed variants ::   0%|          | 0/409 [00:00<?, ?it/s]"
      ]
     },
     "metadata": {},
     "output_type": "display_data"
    },
    {
     "data": {
      "application/vnd.jupyter.widget-view+json": {
       "model_id": "e5715d5a8d4b4592847647df06844334",
       "version_major": 2,
       "version_minor": 0
      },
      "text/plain": [
       "computing precision with alignments, completed variants ::   0%|          | 0/2925 [00:00<?, ?it/s]"
      ]
     },
     "metadata": {},
     "output_type": "display_data"
    },
    {
     "data": {
      "application/vnd.jupyter.widget-view+json": {
       "model_id": "f8ad983079ac402197240577ec23cc80",
       "version_major": 2,
       "version_minor": 0
      },
      "text/plain": [
       "replaying log with TBR, completed variants ::   0%|          | 0/409 [00:00<?, ?it/s]"
      ]
     },
     "metadata": {},
     "output_type": "display_data"
    },
    {
     "data": {
      "application/vnd.jupyter.widget-view+json": {
       "model_id": "d7cebd91561849fa9edce58e79dc83b1",
       "version_major": 2,
       "version_minor": 0
      },
      "text/plain": [
       "replaying log with TBR, completed variants ::   0%|          | 0/2925 [00:00<?, ?it/s]"
      ]
     },
     "metadata": {},
     "output_type": "display_data"
    }
   ],
   "source": [
    "from pm4py.algo.discovery.inductive import algorithm as inductive_miner\n",
    "from pm4py.algo.discovery.inductive.parameters import Parameters as inductive_miner_parameters\n",
    "\n",
    "net_2e_0, initial_marking_2e_0, final_marking_2e_0 = inductive_miner.apply(log_2b, {inductive_miner_parameters.NOISE_THRESHOLD: 0})\n",
    "net_2e_1, initial_marking_2e_1, final_marking_2e_1 = inductive_miner.apply(log_2b, {inductive_miner_parameters.NOISE_THRESHOLD: 0.25})\n",
    "net_2e_2, initial_marking_2e_2, final_marking_2e_2 = inductive_miner.apply(log_2b, {inductive_miner_parameters.NOISE_THRESHOLD: 0.5})\n",
    "net_2e_3, initial_marking_2e_3, final_marking_2e_3 = inductive_miner.apply(log_2b, {inductive_miner_parameters.NOISE_THRESHOLD: 0.75})\n",
    "\n",
    "result_2e_0 = fitness_and_precision_calculator(net_2e_0, initial_marking_2e_0, final_marking_2e_0)\n",
    "result_2e_1 = fitness_and_precision_calculator(net_2e_1, initial_marking_2e_1, final_marking_2e_1)\n",
    "result_2e_2 = fitness_and_precision_calculator(net_2e_2, initial_marking_2e_2, final_marking_2e_2)\n",
    "result_2e_3 = fitness_and_precision_calculator(net_2e_3, initial_marking_2e_3, final_marking_2e_3)"
   ]
  },
  {
   "cell_type": "code",
   "execution_count": 20,
   "metadata": {
    "collapsed": false,
    "pycharm": {
     "name": "#%%\n"
    }
   },
   "outputs": [
    {
     "data": {
      "text/html": [
       "<div>\n",
       "<style scoped>\n",
       "    .dataframe tbody tr th:only-of-type {\n",
       "        vertical-align: middle;\n",
       "    }\n",
       "\n",
       "    .dataframe tbody tr th {\n",
       "        vertical-align: top;\n",
       "    }\n",
       "\n",
       "    .dataframe thead th {\n",
       "        text-align: right;\n",
       "    }\n",
       "</style>\n",
       "<table border=\"1\" class=\"dataframe\">\n",
       "  <thead>\n",
       "    <tr style=\"text-align: right;\">\n",
       "      <th></th>\n",
       "      <th>perc_fit_trace (alignment)</th>\n",
       "      <th>perc_fit_trace (token replay)</th>\n",
       "      <th>average_fitness (alignment)</th>\n",
       "      <th>average_fitness (token replay)</th>\n",
       "      <th>precision (alignment)</th>\n",
       "      <th>precision (token replay)</th>\n",
       "    </tr>\n",
       "  </thead>\n",
       "  <tbody>\n",
       "    <tr>\n",
       "      <th>0</th>\n",
       "      <td>90.138721</td>\n",
       "      <td>90.138721</td>\n",
       "      <td>0.992601</td>\n",
       "      <td>0.992458</td>\n",
       "      <td>0.996637</td>\n",
       "      <td>0.996637</td>\n",
       "    </tr>\n",
       "    <tr>\n",
       "      <th>0.25</th>\n",
       "      <td>100.000000</td>\n",
       "      <td>100.000000</td>\n",
       "      <td>1.000000</td>\n",
       "      <td>1.000000</td>\n",
       "      <td>0.168759</td>\n",
       "      <td>0.168759</td>\n",
       "    </tr>\n",
       "    <tr>\n",
       "      <th>0.5</th>\n",
       "      <td>100.000000</td>\n",
       "      <td>100.000000</td>\n",
       "      <td>1.000000</td>\n",
       "      <td>1.000000</td>\n",
       "      <td>0.168759</td>\n",
       "      <td>0.168759</td>\n",
       "    </tr>\n",
       "    <tr>\n",
       "      <th>0.75</th>\n",
       "      <td>100.000000</td>\n",
       "      <td>100.000000</td>\n",
       "      <td>1.000000</td>\n",
       "      <td>1.000000</td>\n",
       "      <td>0.168759</td>\n",
       "      <td>0.168759</td>\n",
       "    </tr>\n",
       "  </tbody>\n",
       "</table>\n",
       "</div>"
      ],
      "text/plain": [
       "      perc_fit_trace (alignment)  perc_fit_trace (token replay)  \\\n",
       "0                      90.138721                      90.138721   \n",
       "0.25                  100.000000                     100.000000   \n",
       "0.5                   100.000000                     100.000000   \n",
       "0.75                  100.000000                     100.000000   \n",
       "\n",
       "      average_fitness (alignment)  average_fitness (token replay)  \\\n",
       "0                        0.992601                        0.992458   \n",
       "0.25                     1.000000                        1.000000   \n",
       "0.5                      1.000000                        1.000000   \n",
       "0.75                     1.000000                        1.000000   \n",
       "\n",
       "      precision (alignment)  precision (token replay)  \n",
       "0                  0.996637                  0.996637  \n",
       "0.25               0.168759                  0.168759  \n",
       "0.5                0.168759                  0.168759  \n",
       "0.75               0.168759                  0.168759  "
      ]
     },
     "execution_count": 20,
     "metadata": {},
     "output_type": "execute_result"
    }
   ],
   "source": [
    "result_fitness_precision_2e = {}\n",
    "for key in result_2e_0:\n",
    "    result_fitness_precision_2e[key] = [result_sh_2d[key]]\n",
    "for key in result_2e_0:\n",
    "    result_fitness_precision_2e[key].append(result_2e_1[key])\n",
    "for key in result_2e_0:\n",
    "    result_fitness_precision_2e[key].append(result_2e_2[key])\n",
    "for key in result_2e_0:\n",
    "    result_fitness_precision_2e[key].append(result_2e_3[key])\n",
    "\n",
    "df_fitness_precision_2e = pd.DataFrame(result_fitness_precision_2e, index=['0', '0.25', '0.5', '0.75'])\n",
    "df_fitness_precision_2e"
   ]
  },
  {
   "cell_type": "code",
   "execution_count": 21,
   "metadata": {
    "collapsed": false,
    "pycharm": {
     "name": "#%%\n"
    }
   },
   "outputs": [
    {
     "data": {
      "application/vnd.jupyter.widget-view+json": {
       "model_id": "197934b4a856430684b2880f968a8a4b",
       "version_major": 2,
       "version_minor": 0
      },
      "text/plain": [
       "replaying log with TBR, completed variants ::   0%|          | 0/409 [00:00<?, ?it/s]"
      ]
     },
     "metadata": {},
     "output_type": "display_data"
    },
    {
     "data": {
      "application/vnd.jupyter.widget-view+json": {
       "model_id": "a6eabf3276584865a88a1e63cf2954e8",
       "version_major": 2,
       "version_minor": 0
      },
      "text/plain": [
       "replaying log with TBR, completed variants ::   0%|          | 0/409 [00:00<?, ?it/s]"
      ]
     },
     "metadata": {},
     "output_type": "display_data"
    },
    {
     "data": {
      "application/vnd.jupyter.widget-view+json": {
       "model_id": "9c100f1184154874bdb13b8a95e69eb1",
       "version_major": 2,
       "version_minor": 0
      },
      "text/plain": [
       "replaying log with TBR, completed variants ::   0%|          | 0/409 [00:00<?, ?it/s]"
      ]
     },
     "metadata": {},
     "output_type": "display_data"
    },
    {
     "data": {
      "application/vnd.jupyter.widget-view+json": {
       "model_id": "07f6e992c5f74ab987599601377a7fe1",
       "version_major": 2,
       "version_minor": 0
      },
      "text/plain": [
       "replaying log with TBR, completed variants ::   0%|          | 0/409 [00:00<?, ?it/s]"
      ]
     },
     "metadata": {},
     "output_type": "display_data"
    },
    {
     "data": {
      "text/html": [
       "<div>\n",
       "<style scoped>\n",
       "    .dataframe tbody tr th:only-of-type {\n",
       "        vertical-align: middle;\n",
       "    }\n",
       "\n",
       "    .dataframe tbody tr th {\n",
       "        vertical-align: top;\n",
       "    }\n",
       "\n",
       "    .dataframe thead th {\n",
       "        text-align: right;\n",
       "    }\n",
       "</style>\n",
       "<table border=\"1\" class=\"dataframe\">\n",
       "  <thead>\n",
       "    <tr style=\"text-align: right;\">\n",
       "      <th></th>\n",
       "      <th>simplicity</th>\n",
       "      <th>generalization</th>\n",
       "    </tr>\n",
       "  </thead>\n",
       "  <tbody>\n",
       "    <tr>\n",
       "      <th>0</th>\n",
       "      <td>0.616438</td>\n",
       "      <td>0.958559</td>\n",
       "    </tr>\n",
       "    <tr>\n",
       "      <th>0.25</th>\n",
       "      <td>0.616438</td>\n",
       "      <td>0.958559</td>\n",
       "    </tr>\n",
       "    <tr>\n",
       "      <th>0.5</th>\n",
       "      <td>0.616438</td>\n",
       "      <td>0.958559</td>\n",
       "    </tr>\n",
       "    <tr>\n",
       "      <th>0.75</th>\n",
       "      <td>0.616438</td>\n",
       "      <td>0.958559</td>\n",
       "    </tr>\n",
       "  </tbody>\n",
       "</table>\n",
       "</div>"
      ],
      "text/plain": [
       "      simplicity  generalization\n",
       "0       0.616438        0.958559\n",
       "0.25    0.616438        0.958559\n",
       "0.5     0.616438        0.958559\n",
       "0.75    0.616438        0.958559"
      ]
     },
     "execution_count": 21,
     "metadata": {},
     "output_type": "execute_result"
    }
   ],
   "source": [
    "simplicity_2e_0, generalization_2e_0 = simplicity_and_generalization_calculator(net_2e_0, initial_marking_2e_0, final_marking_2e_0)\n",
    "simplicity_2e_1, generalization_2e_1 = simplicity_and_generalization_calculator(net_2e_1, initial_marking_2e_1, final_marking_2e_1)\n",
    "simplicity_2e_2, generalization_2e_2 = simplicity_and_generalization_calculator(net_2e_2, initial_marking_2e_2, final_marking_2e_2)\n",
    "simplicity_2e_3, generalization_2e_3 = simplicity_and_generalization_calculator(net_2e_3, initial_marking_2e_3, final_marking_2e_3)\n",
    "\n",
    "df_simplicity_generalition = pd.DataFrame({\n",
    "    'simplicity': [simplicity_2e_0, simplicity_2e_1, simplicity_2e_2, simplicity_2e_3],\n",
    "    'generalization': [generalization_2e_0, generalization_2e_1, generalization_2e_2, generalization_2e_3]\n",
    "}, index=['0', '0.25', '0.5', '0.75'])\n",
    "\n",
    "df_simplicity_generalition"
   ]
  },
  {
   "cell_type": "markdown",
   "metadata": {
    "collapsed": false,
    "pycharm": {
     "name": "#%% md\n"
    }
   },
   "source": [
    "# Conformance Checking"
   ]
  },
  {
   "cell_type": "code",
   "execution_count": 22,
   "metadata": {
    "collapsed": false,
    "pycharm": {
     "name": "#%%\n"
    }
   },
   "outputs": [
    {
     "data": {
      "application/vnd.jupyter.widget-view+json": {
       "model_id": "804503e4f31d40808d1b660c9432f1f9",
       "version_major": 2,
       "version_minor": 0
      },
      "text/plain": [
       "parsing log, completed traces ::   0%|          | 0/3978 [00:00<?, ?it/s]"
      ]
     },
     "metadata": {},
     "output_type": "display_data"
    }
   ],
   "source": [
    "from pm4py.algo.conformance.footprints.util import evaluation as fp_evaluation\n",
    "from pm4py.algo.evaluation.replay_fitness import algorithm as replay_fitness\n",
    "\n",
    "# Prepare the log\n",
    "log_finished_cases = pm4py.read_xes(\"logs/log_vaccination_finished_cases.xes\")"
   ]
  },
  {
   "cell_type": "markdown",
   "metadata": {
    "collapsed": false,
    "pycharm": {
     "name": "#%% md\n"
    }
   },
   "source": [
    "# Question 3a"
   ]
  },
  {
   "cell_type": "code",
   "execution_count": 23,
   "metadata": {
    "collapsed": false,
    "pycharm": {
     "name": "#%%\n"
    }
   },
   "outputs": [],
   "source": [
    "import pm4py.visualization.footprints.visualizer as fp_visualizer\n",
    "\n",
    "# Import the model of inductive and heuristic miner\n",
    "pn_inductive, im_inductive, fm_inductive = pnml_importer.apply(\"pnml/Petri-net-IM.pnml\")\n",
    "pn_heuristic, im_heuristic, fm_heuristic = pnml_importer.apply(\"pnml/Petri-net-Heuristic.pnml\")"
   ]
  },
  {
   "cell_type": "code",
   "execution_count": 24,
   "metadata": {
    "collapsed": false,
    "pycharm": {
     "name": "#%%\n"
    }
   },
   "outputs": [
    {
     "name": "stdout",
     "output_type": "stream",
     "text": [
      "The inductive miner model:\n"
     ]
    },
    {
     "ename": "ExecutableNotFound",
     "evalue": "failed to execute WindowsPath('dot'), make sure the Graphviz executables are on your systems' PATH",
     "output_type": "error",
     "traceback": [
      "\u001b[1;31m---------------------------------------------------------------------------\u001b[0m",
      "\u001b[1;31mFileNotFoundError\u001b[0m                         Traceback (most recent call last)",
      "File \u001b[1;32m~\\Desktop\\projects\\APM1\\venv\\lib\\site-packages\\graphviz\\backend\\execute.py:81\u001b[0m, in \u001b[0;36mrun_check\u001b[1;34m(cmd, input_lines, encoding, quiet, **kwargs)\u001b[0m\n\u001b[0;32m     80\u001b[0m     \u001b[38;5;28;01melse\u001b[39;00m:\n\u001b[1;32m---> 81\u001b[0m         proc \u001b[38;5;241m=\u001b[39m subprocess\u001b[38;5;241m.\u001b[39mrun(cmd, \u001b[38;5;241m*\u001b[39m\u001b[38;5;241m*\u001b[39mkwargs)\n\u001b[0;32m     82\u001b[0m \u001b[38;5;28;01mexcept\u001b[39;00m \u001b[38;5;167;01mOSError\u001b[39;00m \u001b[38;5;28;01mas\u001b[39;00m e:\n",
      "File \u001b[1;32m~\\AppData\\Local\\Programs\\Python\\Python39\\lib\\subprocess.py:505\u001b[0m, in \u001b[0;36mrun\u001b[1;34m(input, capture_output, timeout, check, *popenargs, **kwargs)\u001b[0m\n\u001b[0;32m    503\u001b[0m     kwargs[\u001b[38;5;124m'\u001b[39m\u001b[38;5;124mstderr\u001b[39m\u001b[38;5;124m'\u001b[39m] \u001b[38;5;241m=\u001b[39m PIPE\n\u001b[1;32m--> 505\u001b[0m \u001b[38;5;28;01mwith\u001b[39;00m Popen(\u001b[38;5;241m*\u001b[39mpopenargs, \u001b[38;5;241m*\u001b[39m\u001b[38;5;241m*\u001b[39mkwargs) \u001b[38;5;28;01mas\u001b[39;00m process:\n\u001b[0;32m    506\u001b[0m     \u001b[38;5;28;01mtry\u001b[39;00m:\n",
      "File \u001b[1;32m~\\AppData\\Local\\Programs\\Python\\Python39\\lib\\subprocess.py:951\u001b[0m, in \u001b[0;36mPopen.__init__\u001b[1;34m(self, args, bufsize, executable, stdin, stdout, stderr, preexec_fn, close_fds, shell, cwd, env, universal_newlines, startupinfo, creationflags, restore_signals, start_new_session, pass_fds, user, group, extra_groups, encoding, errors, text, umask)\u001b[0m\n\u001b[0;32m    948\u001b[0m             \u001b[38;5;28mself\u001b[39m\u001b[38;5;241m.\u001b[39mstderr \u001b[38;5;241m=\u001b[39m io\u001b[38;5;241m.\u001b[39mTextIOWrapper(\u001b[38;5;28mself\u001b[39m\u001b[38;5;241m.\u001b[39mstderr,\n\u001b[0;32m    949\u001b[0m                     encoding\u001b[38;5;241m=\u001b[39mencoding, errors\u001b[38;5;241m=\u001b[39merrors)\n\u001b[1;32m--> 951\u001b[0m     \u001b[38;5;28;43mself\u001b[39;49m\u001b[38;5;241;43m.\u001b[39;49m\u001b[43m_execute_child\u001b[49m\u001b[43m(\u001b[49m\u001b[43margs\u001b[49m\u001b[43m,\u001b[49m\u001b[43m \u001b[49m\u001b[43mexecutable\u001b[49m\u001b[43m,\u001b[49m\u001b[43m \u001b[49m\u001b[43mpreexec_fn\u001b[49m\u001b[43m,\u001b[49m\u001b[43m \u001b[49m\u001b[43mclose_fds\u001b[49m\u001b[43m,\u001b[49m\n\u001b[0;32m    952\u001b[0m \u001b[43m                        \u001b[49m\u001b[43mpass_fds\u001b[49m\u001b[43m,\u001b[49m\u001b[43m \u001b[49m\u001b[43mcwd\u001b[49m\u001b[43m,\u001b[49m\u001b[43m \u001b[49m\u001b[43menv\u001b[49m\u001b[43m,\u001b[49m\n\u001b[0;32m    953\u001b[0m \u001b[43m                        \u001b[49m\u001b[43mstartupinfo\u001b[49m\u001b[43m,\u001b[49m\u001b[43m \u001b[49m\u001b[43mcreationflags\u001b[49m\u001b[43m,\u001b[49m\u001b[43m \u001b[49m\u001b[43mshell\u001b[49m\u001b[43m,\u001b[49m\n\u001b[0;32m    954\u001b[0m \u001b[43m                        \u001b[49m\u001b[43mp2cread\u001b[49m\u001b[43m,\u001b[49m\u001b[43m \u001b[49m\u001b[43mp2cwrite\u001b[49m\u001b[43m,\u001b[49m\n\u001b[0;32m    955\u001b[0m \u001b[43m                        \u001b[49m\u001b[43mc2pread\u001b[49m\u001b[43m,\u001b[49m\u001b[43m \u001b[49m\u001b[43mc2pwrite\u001b[49m\u001b[43m,\u001b[49m\n\u001b[0;32m    956\u001b[0m \u001b[43m                        \u001b[49m\u001b[43merrread\u001b[49m\u001b[43m,\u001b[49m\u001b[43m \u001b[49m\u001b[43merrwrite\u001b[49m\u001b[43m,\u001b[49m\n\u001b[0;32m    957\u001b[0m \u001b[43m                        \u001b[49m\u001b[43mrestore_signals\u001b[49m\u001b[43m,\u001b[49m\n\u001b[0;32m    958\u001b[0m \u001b[43m                        \u001b[49m\u001b[43mgid\u001b[49m\u001b[43m,\u001b[49m\u001b[43m \u001b[49m\u001b[43mgids\u001b[49m\u001b[43m,\u001b[49m\u001b[43m \u001b[49m\u001b[43muid\u001b[49m\u001b[43m,\u001b[49m\u001b[43m \u001b[49m\u001b[43mumask\u001b[49m\u001b[43m,\u001b[49m\n\u001b[0;32m    959\u001b[0m \u001b[43m                        \u001b[49m\u001b[43mstart_new_session\u001b[49m\u001b[43m)\u001b[49m\n\u001b[0;32m    960\u001b[0m \u001b[38;5;28;01mexcept\u001b[39;00m:\n\u001b[0;32m    961\u001b[0m     \u001b[38;5;66;03m# Cleanup if the child failed starting.\u001b[39;00m\n",
      "File \u001b[1;32m~\\AppData\\Local\\Programs\\Python\\Python39\\lib\\subprocess.py:1420\u001b[0m, in \u001b[0;36mPopen._execute_child\u001b[1;34m(self, args, executable, preexec_fn, close_fds, pass_fds, cwd, env, startupinfo, creationflags, shell, p2cread, p2cwrite, c2pread, c2pwrite, errread, errwrite, unused_restore_signals, unused_gid, unused_gids, unused_uid, unused_umask, unused_start_new_session)\u001b[0m\n\u001b[0;32m   1419\u001b[0m \u001b[38;5;28;01mtry\u001b[39;00m:\n\u001b[1;32m-> 1420\u001b[0m     hp, ht, pid, tid \u001b[38;5;241m=\u001b[39m \u001b[43m_winapi\u001b[49m\u001b[38;5;241;43m.\u001b[39;49m\u001b[43mCreateProcess\u001b[49m\u001b[43m(\u001b[49m\u001b[43mexecutable\u001b[49m\u001b[43m,\u001b[49m\u001b[43m \u001b[49m\u001b[43margs\u001b[49m\u001b[43m,\u001b[49m\n\u001b[0;32m   1421\u001b[0m \u001b[43m                             \u001b[49m\u001b[38;5;66;43;03m# no special security\u001b[39;49;00m\n\u001b[0;32m   1422\u001b[0m \u001b[43m                             \u001b[49m\u001b[38;5;28;43;01mNone\u001b[39;49;00m\u001b[43m,\u001b[49m\u001b[43m \u001b[49m\u001b[38;5;28;43;01mNone\u001b[39;49;00m\u001b[43m,\u001b[49m\n\u001b[0;32m   1423\u001b[0m \u001b[43m                             \u001b[49m\u001b[38;5;28;43mint\u001b[39;49m\u001b[43m(\u001b[49m\u001b[38;5;129;43;01mnot\u001b[39;49;00m\u001b[43m \u001b[49m\u001b[43mclose_fds\u001b[49m\u001b[43m)\u001b[49m\u001b[43m,\u001b[49m\n\u001b[0;32m   1424\u001b[0m \u001b[43m                             \u001b[49m\u001b[43mcreationflags\u001b[49m\u001b[43m,\u001b[49m\n\u001b[0;32m   1425\u001b[0m \u001b[43m                             \u001b[49m\u001b[43menv\u001b[49m\u001b[43m,\u001b[49m\n\u001b[0;32m   1426\u001b[0m \u001b[43m                             \u001b[49m\u001b[43mcwd\u001b[49m\u001b[43m,\u001b[49m\n\u001b[0;32m   1427\u001b[0m \u001b[43m                             \u001b[49m\u001b[43mstartupinfo\u001b[49m\u001b[43m)\u001b[49m\n\u001b[0;32m   1428\u001b[0m \u001b[38;5;28;01mfinally\u001b[39;00m:\n\u001b[0;32m   1429\u001b[0m     \u001b[38;5;66;03m# Child is launched. Close the parent's copy of those pipe\u001b[39;00m\n\u001b[0;32m   1430\u001b[0m     \u001b[38;5;66;03m# handles that only the child should have open.  You need\u001b[39;00m\n\u001b[1;32m   (...)\u001b[0m\n\u001b[0;32m   1433\u001b[0m     \u001b[38;5;66;03m# pipe will not close when the child process exits and the\u001b[39;00m\n\u001b[0;32m   1434\u001b[0m     \u001b[38;5;66;03m# ReadFile will hang.\u001b[39;00m\n",
      "\u001b[1;31mFileNotFoundError\u001b[0m: [WinError 2] The system cannot find the file specified",
      "\nThe above exception was the direct cause of the following exception:\n",
      "\u001b[1;31mExecutableNotFound\u001b[0m                        Traceback (most recent call last)",
      "Input \u001b[1;32mIn [24]\u001b[0m, in \u001b[0;36m<cell line: 6>\u001b[1;34m()\u001b[0m\n\u001b[0;32m      4\u001b[0m \u001b[38;5;28mprint\u001b[39m(\u001b[38;5;124m\"\u001b[39m\u001b[38;5;124mThe inductive miner model:\u001b[39m\u001b[38;5;124m\"\u001b[39m)\n\u001b[0;32m      5\u001b[0m gviz \u001b[38;5;241m=\u001b[39m pn_visualizer\u001b[38;5;241m.\u001b[39mapply(pn_inductive, im_inductive, fm_inductive)\n\u001b[1;32m----> 6\u001b[0m \u001b[43mpn_visualizer\u001b[49m\u001b[38;5;241;43m.\u001b[39;49m\u001b[43mview\u001b[49m\u001b[43m(\u001b[49m\u001b[43mgviz\u001b[49m\u001b[43m)\u001b[49m\n\u001b[0;32m      8\u001b[0m \u001b[38;5;28mprint\u001b[39m(\u001b[38;5;124m\"\u001b[39m\u001b[38;5;124mThe heuristic miner model:\u001b[39m\u001b[38;5;124m\"\u001b[39m)\n\u001b[0;32m      9\u001b[0m gviz \u001b[38;5;241m=\u001b[39m pn_visualizer\u001b[38;5;241m.\u001b[39mapply(pn_heuristic, im_heuristic, fm_heuristic)\n",
      "File \u001b[1;32m~\\Desktop\\projects\\APM1\\venv\\lib\\site-packages\\pm4py\\visualization\\petri_net\\visualizer.py:90\u001b[0m, in \u001b[0;36mview\u001b[1;34m(gviz)\u001b[0m\n\u001b[0;32m     81\u001b[0m \u001b[38;5;28;01mdef\u001b[39;00m \u001b[38;5;21mview\u001b[39m(gviz: graphviz\u001b[38;5;241m.\u001b[39mDigraph):\n\u001b[0;32m     82\u001b[0m     \u001b[38;5;124;03m\"\"\"\u001b[39;00m\n\u001b[0;32m     83\u001b[0m \u001b[38;5;124;03m    View the diagram\u001b[39;00m\n\u001b[0;32m     84\u001b[0m \n\u001b[1;32m   (...)\u001b[0m\n\u001b[0;32m     88\u001b[0m \u001b[38;5;124;03m        GraphViz diagram\u001b[39;00m\n\u001b[0;32m     89\u001b[0m \u001b[38;5;124;03m    \"\"\"\u001b[39;00m\n\u001b[1;32m---> 90\u001b[0m     \u001b[38;5;28;01mreturn\u001b[39;00m \u001b[43mgview\u001b[49m\u001b[38;5;241;43m.\u001b[39;49m\u001b[43mview\u001b[49m\u001b[43m(\u001b[49m\u001b[43mgviz\u001b[49m\u001b[43m)\u001b[49m\n",
      "File \u001b[1;32m~\\Desktop\\projects\\APM1\\venv\\lib\\site-packages\\pm4py\\visualization\\common\\gview.py:34\u001b[0m, in \u001b[0;36mview\u001b[1;34m(gviz)\u001b[0m\n\u001b[0;32m     25\u001b[0m \u001b[38;5;124;03m\"\"\"\u001b[39;00m\n\u001b[0;32m     26\u001b[0m \u001b[38;5;124;03mView the diagram\u001b[39;00m\n\u001b[0;32m     27\u001b[0m \n\u001b[1;32m   (...)\u001b[0m\n\u001b[0;32m     31\u001b[0m \u001b[38;5;124;03m    GraphViz diagram\u001b[39;00m\n\u001b[0;32m     32\u001b[0m \u001b[38;5;124;03m\"\"\"\u001b[39;00m\n\u001b[0;32m     33\u001b[0m \u001b[38;5;28;01mif\u001b[39;00m vis_utils\u001b[38;5;241m.\u001b[39mcheck_visualization_inside_jupyter():\n\u001b[1;32m---> 34\u001b[0m     vis_utils\u001b[38;5;241m.\u001b[39mview_image_in_jupyter(\u001b[43mgviz\u001b[49m\u001b[38;5;241;43m.\u001b[39;49m\u001b[43mrender\u001b[49m\u001b[43m(\u001b[49m\u001b[43m)\u001b[49m)\n\u001b[0;32m     35\u001b[0m \u001b[38;5;28;01melse\u001b[39;00m:\n\u001b[0;32m     36\u001b[0m     \u001b[38;5;28;01mreturn\u001b[39;00m gviz\u001b[38;5;241m.\u001b[39mview(cleanup\u001b[38;5;241m=\u001b[39m\u001b[38;5;28;01mTrue\u001b[39;00m)\n",
      "File \u001b[1;32m~\\Desktop\\projects\\APM1\\venv\\lib\\site-packages\\graphviz\\_tools.py:171\u001b[0m, in \u001b[0;36mdeprecate_positional_args.<locals>.decorator.<locals>.wrapper\u001b[1;34m(*args, **kwargs)\u001b[0m\n\u001b[0;32m    162\u001b[0m     wanted \u001b[38;5;241m=\u001b[39m \u001b[38;5;124m'\u001b[39m\u001b[38;5;124m, \u001b[39m\u001b[38;5;124m'\u001b[39m\u001b[38;5;241m.\u001b[39mjoin(\u001b[38;5;124mf\u001b[39m\u001b[38;5;124m'\u001b[39m\u001b[38;5;132;01m{\u001b[39;00mname\u001b[38;5;132;01m}\u001b[39;00m\u001b[38;5;124m=\u001b[39m\u001b[38;5;132;01m{\u001b[39;00mvalue\u001b[38;5;132;01m!r}\u001b[39;00m\u001b[38;5;124m'\u001b[39m\n\u001b[0;32m    163\u001b[0m                        \u001b[38;5;28;01mfor\u001b[39;00m name, value \u001b[38;5;129;01min\u001b[39;00m deprecated\u001b[38;5;241m.\u001b[39mitems())\n\u001b[0;32m    164\u001b[0m     warnings\u001b[38;5;241m.\u001b[39mwarn(\u001b[38;5;124mf\u001b[39m\u001b[38;5;124m'\u001b[39m\u001b[38;5;124mThe signature of \u001b[39m\u001b[38;5;132;01m{\u001b[39;00mfunc\u001b[38;5;241m.\u001b[39m\u001b[38;5;18m__name__\u001b[39m\u001b[38;5;132;01m}\u001b[39;00m\u001b[38;5;124m will be reduced\u001b[39m\u001b[38;5;124m'\u001b[39m\n\u001b[0;32m    165\u001b[0m                   \u001b[38;5;124mf\u001b[39m\u001b[38;5;124m'\u001b[39m\u001b[38;5;124m to \u001b[39m\u001b[38;5;132;01m{\u001b[39;00msupported_number\u001b[38;5;132;01m}\u001b[39;00m\u001b[38;5;124m positional args\u001b[39m\u001b[38;5;124m'\u001b[39m\n\u001b[0;32m    166\u001b[0m                   \u001b[38;5;124mf\u001b[39m\u001b[38;5;124m'\u001b[39m\u001b[38;5;124m \u001b[39m\u001b[38;5;132;01m{\u001b[39;00m\u001b[38;5;28mlist\u001b[39m(supported)\u001b[38;5;132;01m}\u001b[39;00m\u001b[38;5;124m: pass \u001b[39m\u001b[38;5;132;01m{\u001b[39;00mwanted\u001b[38;5;132;01m}\u001b[39;00m\u001b[38;5;124m'\u001b[39m\n\u001b[0;32m    167\u001b[0m                   \u001b[38;5;124m'\u001b[39m\u001b[38;5;124m as keyword arg(s)\u001b[39m\u001b[38;5;124m'\u001b[39m,\n\u001b[0;32m    168\u001b[0m                   stacklevel\u001b[38;5;241m=\u001b[39mstacklevel,\n\u001b[0;32m    169\u001b[0m                   category\u001b[38;5;241m=\u001b[39mcategory)\n\u001b[1;32m--> 171\u001b[0m \u001b[38;5;28;01mreturn\u001b[39;00m func(\u001b[38;5;241m*\u001b[39margs, \u001b[38;5;241m*\u001b[39m\u001b[38;5;241m*\u001b[39mkwargs)\n",
      "File \u001b[1;32m~\\Desktop\\projects\\APM1\\venv\\lib\\site-packages\\graphviz\\rendering.py:122\u001b[0m, in \u001b[0;36mRender.render\u001b[1;34m(self, filename, directory, view, cleanup, format, renderer, formatter, neato_no_op, quiet, quiet_view, outfile, engine, raise_if_result_exists, overwrite_source)\u001b[0m\n\u001b[0;32m    118\u001b[0m filepath \u001b[38;5;241m=\u001b[39m \u001b[38;5;28mself\u001b[39m\u001b[38;5;241m.\u001b[39msave(filename, directory\u001b[38;5;241m=\u001b[39mdirectory, skip_existing\u001b[38;5;241m=\u001b[39m\u001b[38;5;28;01mNone\u001b[39;00m)\n\u001b[0;32m    120\u001b[0m args\u001b[38;5;241m.\u001b[39mappend(filepath)\n\u001b[1;32m--> 122\u001b[0m rendered \u001b[38;5;241m=\u001b[39m \u001b[38;5;28mself\u001b[39m\u001b[38;5;241m.\u001b[39m_render(\u001b[38;5;241m*\u001b[39margs, \u001b[38;5;241m*\u001b[39m\u001b[38;5;241m*\u001b[39mkwargs)\n\u001b[0;32m    124\u001b[0m \u001b[38;5;28;01mif\u001b[39;00m cleanup:\n\u001b[0;32m    125\u001b[0m     log\u001b[38;5;241m.\u001b[39mdebug(\u001b[38;5;124m'\u001b[39m\u001b[38;5;124mdelete \u001b[39m\u001b[38;5;132;01m%r\u001b[39;00m\u001b[38;5;124m'\u001b[39m, filepath)\n",
      "File \u001b[1;32m~\\Desktop\\projects\\APM1\\venv\\lib\\site-packages\\graphviz\\_tools.py:171\u001b[0m, in \u001b[0;36mdeprecate_positional_args.<locals>.decorator.<locals>.wrapper\u001b[1;34m(*args, **kwargs)\u001b[0m\n\u001b[0;32m    162\u001b[0m     wanted \u001b[38;5;241m=\u001b[39m \u001b[38;5;124m'\u001b[39m\u001b[38;5;124m, \u001b[39m\u001b[38;5;124m'\u001b[39m\u001b[38;5;241m.\u001b[39mjoin(\u001b[38;5;124mf\u001b[39m\u001b[38;5;124m'\u001b[39m\u001b[38;5;132;01m{\u001b[39;00mname\u001b[38;5;132;01m}\u001b[39;00m\u001b[38;5;124m=\u001b[39m\u001b[38;5;132;01m{\u001b[39;00mvalue\u001b[38;5;132;01m!r}\u001b[39;00m\u001b[38;5;124m'\u001b[39m\n\u001b[0;32m    163\u001b[0m                        \u001b[38;5;28;01mfor\u001b[39;00m name, value \u001b[38;5;129;01min\u001b[39;00m deprecated\u001b[38;5;241m.\u001b[39mitems())\n\u001b[0;32m    164\u001b[0m     warnings\u001b[38;5;241m.\u001b[39mwarn(\u001b[38;5;124mf\u001b[39m\u001b[38;5;124m'\u001b[39m\u001b[38;5;124mThe signature of \u001b[39m\u001b[38;5;132;01m{\u001b[39;00mfunc\u001b[38;5;241m.\u001b[39m\u001b[38;5;18m__name__\u001b[39m\u001b[38;5;132;01m}\u001b[39;00m\u001b[38;5;124m will be reduced\u001b[39m\u001b[38;5;124m'\u001b[39m\n\u001b[0;32m    165\u001b[0m                   \u001b[38;5;124mf\u001b[39m\u001b[38;5;124m'\u001b[39m\u001b[38;5;124m to \u001b[39m\u001b[38;5;132;01m{\u001b[39;00msupported_number\u001b[38;5;132;01m}\u001b[39;00m\u001b[38;5;124m positional args\u001b[39m\u001b[38;5;124m'\u001b[39m\n\u001b[0;32m    166\u001b[0m                   \u001b[38;5;124mf\u001b[39m\u001b[38;5;124m'\u001b[39m\u001b[38;5;124m \u001b[39m\u001b[38;5;132;01m{\u001b[39;00m\u001b[38;5;28mlist\u001b[39m(supported)\u001b[38;5;132;01m}\u001b[39;00m\u001b[38;5;124m: pass \u001b[39m\u001b[38;5;132;01m{\u001b[39;00mwanted\u001b[38;5;132;01m}\u001b[39;00m\u001b[38;5;124m'\u001b[39m\n\u001b[0;32m    167\u001b[0m                   \u001b[38;5;124m'\u001b[39m\u001b[38;5;124m as keyword arg(s)\u001b[39m\u001b[38;5;124m'\u001b[39m,\n\u001b[0;32m    168\u001b[0m                   stacklevel\u001b[38;5;241m=\u001b[39mstacklevel,\n\u001b[0;32m    169\u001b[0m                   category\u001b[38;5;241m=\u001b[39mcategory)\n\u001b[1;32m--> 171\u001b[0m \u001b[38;5;28;01mreturn\u001b[39;00m func(\u001b[38;5;241m*\u001b[39margs, \u001b[38;5;241m*\u001b[39m\u001b[38;5;241m*\u001b[39mkwargs)\n",
      "File \u001b[1;32m~\\Desktop\\projects\\APM1\\venv\\lib\\site-packages\\graphviz\\backend\\rendering.py:324\u001b[0m, in \u001b[0;36mrender\u001b[1;34m(engine, format, filepath, renderer, formatter, neato_no_op, quiet, outfile, raise_if_result_exists, overwrite_filepath)\u001b[0m\n\u001b[0;32m    320\u001b[0m     \u001b[38;5;28;01mraise\u001b[39;00m exceptions\u001b[38;5;241m.\u001b[39mFileExistsError(\u001b[38;5;124mf\u001b[39m\u001b[38;5;124m'\u001b[39m\u001b[38;5;124moutput file exists: \u001b[39m\u001b[38;5;132;01m{\u001b[39;00mos\u001b[38;5;241m.\u001b[39mfspath(outfile)\u001b[38;5;132;01m!r}\u001b[39;00m\u001b[38;5;124m'\u001b[39m)\n\u001b[0;32m    322\u001b[0m cmd \u001b[38;5;241m+\u001b[39m\u001b[38;5;241m=\u001b[39m args\n\u001b[1;32m--> 324\u001b[0m \u001b[43mexecute\u001b[49m\u001b[38;5;241;43m.\u001b[39;49m\u001b[43mrun_check\u001b[49m\u001b[43m(\u001b[49m\u001b[43mcmd\u001b[49m\u001b[43m,\u001b[49m\n\u001b[0;32m    325\u001b[0m \u001b[43m                  \u001b[49m\u001b[43mcwd\u001b[49m\u001b[38;5;241;43m=\u001b[39;49m\u001b[43mfilepath\u001b[49m\u001b[38;5;241;43m.\u001b[39;49m\u001b[43mparent\u001b[49m\u001b[43m \u001b[49m\u001b[38;5;28;43;01mif\u001b[39;49;00m\u001b[43m \u001b[49m\u001b[43mfilepath\u001b[49m\u001b[38;5;241;43m.\u001b[39;49m\u001b[43mparent\u001b[49m\u001b[38;5;241;43m.\u001b[39;49m\u001b[43mparts\u001b[49m\u001b[43m \u001b[49m\u001b[38;5;28;43;01melse\u001b[39;49;00m\u001b[43m \u001b[49m\u001b[38;5;28;43;01mNone\u001b[39;49;00m\u001b[43m,\u001b[49m\n\u001b[0;32m    326\u001b[0m \u001b[43m                  \u001b[49m\u001b[43mquiet\u001b[49m\u001b[38;5;241;43m=\u001b[39;49m\u001b[43mquiet\u001b[49m\u001b[43m,\u001b[49m\n\u001b[0;32m    327\u001b[0m \u001b[43m                  \u001b[49m\u001b[43mcapture_output\u001b[49m\u001b[38;5;241;43m=\u001b[39;49m\u001b[38;5;28;43;01mTrue\u001b[39;49;00m\u001b[43m)\u001b[49m\n\u001b[0;32m    329\u001b[0m \u001b[38;5;28;01mreturn\u001b[39;00m os\u001b[38;5;241m.\u001b[39mfspath(outfile)\n",
      "File \u001b[1;32m~\\Desktop\\projects\\APM1\\venv\\lib\\site-packages\\graphviz\\backend\\execute.py:84\u001b[0m, in \u001b[0;36mrun_check\u001b[1;34m(cmd, input_lines, encoding, quiet, **kwargs)\u001b[0m\n\u001b[0;32m     82\u001b[0m \u001b[38;5;28;01mexcept\u001b[39;00m \u001b[38;5;167;01mOSError\u001b[39;00m \u001b[38;5;28;01mas\u001b[39;00m e:\n\u001b[0;32m     83\u001b[0m     \u001b[38;5;28;01mif\u001b[39;00m e\u001b[38;5;241m.\u001b[39merrno \u001b[38;5;241m==\u001b[39m errno\u001b[38;5;241m.\u001b[39mENOENT:\n\u001b[1;32m---> 84\u001b[0m         \u001b[38;5;28;01mraise\u001b[39;00m ExecutableNotFound(cmd) \u001b[38;5;28;01mfrom\u001b[39;00m \u001b[38;5;21;01me\u001b[39;00m\n\u001b[0;32m     85\u001b[0m     \u001b[38;5;28;01mraise\u001b[39;00m\n\u001b[0;32m     87\u001b[0m \u001b[38;5;28;01mif\u001b[39;00m \u001b[38;5;129;01mnot\u001b[39;00m quiet \u001b[38;5;129;01mand\u001b[39;00m proc\u001b[38;5;241m.\u001b[39mstderr:\n",
      "\u001b[1;31mExecutableNotFound\u001b[0m: failed to execute WindowsPath('dot'), make sure the Graphviz executables are on your systems' PATH"
     ]
    }
   ],
   "source": [
    "fp_inductive = footprints_discovery.apply(pn_inductive, im_inductive, fm_inductive)\n",
    "fp_heuristic = footprints_discovery.apply(pn_heuristic, im_heuristic, fm_heuristic)\n",
    "\n",
    "print(\"The inductive miner model:\")\n",
    "gviz = pn_visualizer.apply(pn_inductive, im_inductive, fm_inductive)\n",
    "pn_visualizer.view(gviz)\n",
    "\n",
    "print(\"The heuristic miner model:\")\n",
    "gviz = pn_visualizer.apply(pn_heuristic, im_heuristic, fm_heuristic)\n",
    "pn_visualizer.view(gviz)\n",
    "\n",
    "print(\"The footprints matrix of the inductive miner model:\")\n",
    "gviz = fp_visualizer.apply(fp_inductive)\n",
    "fp_visualizer.view(gviz)\n",
    "\n",
    "print(\"The footprints matrix of the heuristic miner model:\")\n",
    "gviz = fp_visualizer.apply(fp_heuristic)\n",
    "fp_visualizer.view(gviz)\n",
    "\n",
    "print(fp_inductive)\n",
    "print(fp_heuristic)\n",
    "print(\n",
    "    f\"The inductive miner model has {len(fp_inductive['sequence'])} sequence contructs and {len(fp_inductive['parallel'])} parallel constructs\")\n",
    "print(\n",
    "    f\"The heuristic miner model has {len(fp_heuristic['sequence'])} sequence contructs and {len(fp_heuristic['parallel'])} parallel constructs\")"
   ]
  },
  {
   "cell_type": "markdown",
   "metadata": {
    "collapsed": false,
    "pycharm": {
     "name": "#%% md\n"
    }
   },
   "source": [
    "# Question 3b"
   ]
  },
  {
   "cell_type": "code",
   "execution_count": null,
   "metadata": {
    "collapsed": false,
    "pycharm": {
     "name": "#%%\n"
    }
   },
   "outputs": [],
   "source": [
    "# Import the full hand model\n",
    "pn_full_hand, im_full_hand, fm_full_hand = pnml_importer.apply(\"models/full_hand.pnml\")"
   ]
  },
  {
   "cell_type": "code",
   "execution_count": null,
   "metadata": {
    "collapsed": false,
    "pycharm": {
     "name": "#%%\n"
    }
   },
   "outputs": [],
   "source": [
    "# Helper functions to calculate conformance\n",
    "def calculate_conformance(algo, log, pn, im, fm):\n",
    "    return algo(log, pn, im, fm)\n",
    "\n",
    "\n",
    "# Calculate footprints conformance\n",
    "# UNRELIABLE FUNCTION, PM4PY BUGGED\n",
    "def fp_conformance(log, pn, im, fm):\n",
    "    fp_log = footprints_discovery.apply(log, variant=footprints_discovery.Variants.ENTIRE_EVENT_LOG)\n",
    "    fp_pn = footprints_discovery.apply(pn, im, fm)\n",
    "    fp_res = footprints_conformance.apply(fp_log, fp_pn, variant=footprints_conformance.Variants.LOG_EXTENSIVE)\n",
    "    fp_fitness = fp_evaluation.fp_fitness(fp_log, fp_pn, fp_res)\n",
    "    print(f\"The fitness of the model according to footprint matrix is {fp_fitness}\")\n",
    "    return fp_fitness\n",
    "\n",
    "\n",
    "# Calculate token-based replay conformance\n",
    "def tbr_conformance(log, pn, im, fm):\n",
    "    # Replaying traces\n",
    "    replayed_traces = token_replay.apply(log, pn, im, fm)\n",
    "\n",
    "    # Calculating the total number of misisng, consumed, remaining, producde tokens\n",
    "    m, c, r, p = 0, 0, 0, 0\n",
    "    for res in replayed_traces:\n",
    "        m += res['missing_tokens']\n",
    "        c += res['consumed_tokens']\n",
    "        r += res['remaining_tokens']\n",
    "        p += res['produced_tokens']\n",
    "\n",
    "    # Final result as log fitness\n",
    "    tbr_fitness = 0.5 * (1 - m / c) + 0.5 * (1 - r / p)\n",
    "    print(f\"The fitness of the model according to token-based replay is {tbr_fitness}\")\n",
    "\n",
    "    return tbr_fitness\n",
    "\n",
    "\n",
    "# Calculate alignments-based conformance\n",
    "def alignments_conformance(log, pn, im, fm):\n",
    "    aligned_traces = alignments.apply_log(log, pn, im, fm)\n",
    "    alignments_fitness = replay_fitness.evaluate(aligned_traces, variant=replay_fitness.Variants.ALIGNMENT_BASED)['log_fitness']\n",
    "    print(f\"The fitness of the model according to alignments is {alignments_fitness}\")\n",
    "    return alignments_fitness"
   ]
  },
  {
   "cell_type": "code",
   "execution_count": null,
   "metadata": {
    "collapsed": false,
    "pycharm": {
     "name": "#%%\n"
    }
   },
   "outputs": [],
   "source": [
    "# Footprints conformance\n",
    "calculate_conformance(fp_conformance, log_finished_cases, pn_full_hand, im_full_hand, fm_full_hand)"
   ]
  },
  {
   "cell_type": "code",
   "execution_count": null,
   "metadata": {
    "collapsed": false,
    "pycharm": {
     "name": "#%%\n"
    }
   },
   "outputs": [],
   "source": [
    "# Token-based replay\n",
    "calculate_conformance(tbr_conformance, log_finished_cases, pn_full_hand, im_full_hand, fm_full_hand)"
   ]
  },
  {
   "cell_type": "code",
   "execution_count": null,
   "metadata": {
    "collapsed": false,
    "pycharm": {
     "name": "#%%\n"
    }
   },
   "outputs": [],
   "source": [
    "# Alignments\n",
    "calculate_conformance(alignments_conformance, log_finished_cases, pn_full_hand, im_full_hand, fm_full_hand)"
   ]
  },
  {
   "cell_type": "markdown",
   "metadata": {
    "collapsed": false,
    "pycharm": {
     "name": "#%% md\n"
    }
   },
   "source": [
    "# Question 3c"
   ]
  },
  {
   "cell_type": "code",
   "execution_count": null,
   "metadata": {
    "collapsed": false,
    "pycharm": {
     "name": "#%%\n"
    }
   },
   "outputs": [],
   "source": [
    "# Import the logs and the models\n",
    "log_one_trace = xes_importer.apply(\"logs/one_trace_log.xes\")\n",
    "pn_flower, im_flower, fm_flower = pnml_importer.apply(\"models/flower.pnml\")"
   ]
  },
  {
   "cell_type": "code",
   "execution_count": null,
   "metadata": {
    "collapsed": false,
    "pycharm": {
     "name": "#%%\n"
    }
   },
   "outputs": [],
   "source": [
    "# Log of finished cases and the flower model\n",
    "calculate_conformance(fp_conformance, log_finished_cases, pn_flower, im_flower, fm_flower)\n",
    "calculate_conformance(alignments_conformance, log_finished_cases, pn_flower, im_flower, fm_flower)"
   ]
  },
  {
   "cell_type": "code",
   "execution_count": null,
   "metadata": {
    "collapsed": false,
    "pycharm": {
     "name": "#%%\n"
    }
   },
   "outputs": [],
   "source": [
    "# One-trace log and the full hand model\n",
    "calculate_conformance(tbr_conformance, log_one_trace, pn_full_hand, im_full_hand, fm_full_hand)\n",
    "calculate_conformance(alignments_conformance, log_one_trace, pn_full_hand, im_full_hand, fm_full_hand)"
   ]
  },
  {
   "cell_type": "code",
   "execution_count": null,
   "metadata": {
    "collapsed": false,
    "pycharm": {
     "name": "#%%\n"
    }
   },
   "outputs": [],
   "source": [
    "# Viewing the alignment of the one-trace log\n",
    "one_trace_align = alignments.apply(log_one_trace, pn_full_hand, im_full_hand, fm_full_hand)\n",
    "one_trace_align"
   ]
  },
  {
   "cell_type": "code",
   "execution_count": null,
   "metadata": {
    "collapsed": false,
    "pycharm": {
     "name": "#%%\n"
    }
   },
   "outputs": [],
   "source": [
    "# Viewing the token based replay of the one-trace log\n",
    "tokens = token_replay.apply(log_one_trace, pn_full_hand, im_full_hand, fm_full_hand)\n",
    "tokens"
   ]
  },
  {
   "cell_type": "markdown",
   "id": "5393486b",
   "metadata": {
    "pycharm": {
     "name": "#%% md\n"
    }
   },
   "source": [
    "# Question 3a"
   ]
  },
  {
   "cell_type": "code",
   "execution_count": null,
   "id": "6467e063",
   "metadata": {
    "pycharm": {
     "name": "#%%\n"
    }
   },
   "outputs": [],
   "source": [
    "import pm4py.visualization.footprints.visualizer as fp_visualizer\n",
    "\n",
    "# Import the model of inductive and heuristic miner\n",
    "pn_inductive, im_inductive, fm_inductive = pnml_importer.apply(\"pnml/Petri-net-IM.pnml\")\n",
    "pn_heuristic, im_heuristic, fm_heuristic = pnml_importer.apply(\"pnml/Petri-net-Heuristic.pnml\")"
   ]
  },
  {
   "cell_type": "code",
   "execution_count": null,
   "id": "c547324a",
   "metadata": {
    "pycharm": {
     "name": "#%%\n"
    }
   },
   "outputs": [],
   "source": [
    "fp_inductive = footprints_discovery.apply(pn_inductive, im_inductive, fm_inductive)\n",
    "fp_heuristic = footprints_discovery.apply(pn_heuristic, im_heuristic, fm_heuristic)\n",
    "\n",
    "print(\"The inductive miner model:\")\n",
    "gviz = pn_visualizer.apply(pn_inductive, im_inductive, fm_inductive)\n",
    "pn_visualizer.view(gviz)\n",
    "\n",
    "print(\"The heuristic miner model:\")\n",
    "gviz = pn_visualizer.apply(pn_heuristic, im_heuristic, fm_heuristic)\n",
    "pn_visualizer.view(gviz)\n",
    "\n",
    "print(\"The footprints matrix of the inductive miner model:\")\n",
    "gviz = fp_visualizer.apply(fp_inductive)\n",
    "fp_visualizer.view(gviz)\n",
    "\n",
    "print(\"The footprints matrix of the heuristic miner model:\")\n",
    "gviz = fp_visualizer.apply(fp_heuristic)\n",
    "fp_visualizer.view(gviz)\n",
    "\n",
    "\n",
    "\n",
    "print(fp_inductive)\n",
    "print(fp_heuristic)\n",
    "print(f\"The inductive miner model has {len(fp_inductive['sequence'])} sequence contructs and {len(fp_inductive['parallel'])} parallel constructs\")\n",
    "print(f\"The heuristic miner model has {len(fp_heuristic['sequence'])} sequence contructs and {len(fp_heuristic['parallel'])} parallel constructs\")"
   ]
  },
  {
   "cell_type": "markdown",
   "id": "2c28304c",
   "metadata": {
    "pycharm": {
     "name": "#%% md\n"
    }
   },
   "source": [
    "# Question 3b"
   ]
  },
  {
   "cell_type": "code",
   "execution_count": null,
   "id": "9ac8e1ec",
   "metadata": {
    "pycharm": {
     "name": "#%%\n"
    }
   },
   "outputs": [],
   "source": [
    "# Import the full hand model\n",
    "pn_full_hand, im_full_hand, fm_full_hand = pnml_importer.apply(\"models/full_hand.pnml\")"
   ]
  },
  {
   "cell_type": "code",
   "execution_count": null,
   "id": "a140946b",
   "metadata": {
    "pycharm": {
     "name": "#%%\n"
    }
   },
   "outputs": [],
   "source": [
    "# Helper functions to calculate conformance\n",
    "def calculate_conformance(algo, log, pn, im, fm):\n",
    "    return algo(log, pn, im, fm)\n",
    "\n",
    "# Calculate footprints conformance\n",
    "# UNRELIABLE FUNCTION, PM4PY BUGGED\n",
    "def fp_conformance(log, pn, im, fm):\n",
    "    fp_log = footprints_discovery.apply(log, variant=footprints_discovery.Variants.ENTIRE_EVENT_LOG)\n",
    "    fp_pn = footprints_discovery.apply(pn, im, fm)\n",
    "    fp_res = footprints_conformance.apply(fp_log, fp_pn, variant=footprints_conformance.Variants.LOG_EXTENSIVE)\n",
    "    fp_fitness = fp_evaluation.fp_fitness(fp_log, fp_pn, fp_res)\n",
    "    print(f\"The fitness of the model according to footprint matrix is {fp_fitness}\")\n",
    "    return fp_fitness\n",
    "\n",
    "# Calculate token-based replay conformance\n",
    "def tbr_conformance(log, pn, im, fm):\n",
    "    # Replaying traces\n",
    "    replayed_traces = token_replay.apply(log, pn, im, fm)\n",
    "\n",
    "    # Calculating the total number of misisng, consumed, remaining, producde tokens\n",
    "    m, c, r, p = 0, 0, 0, 0\n",
    "    for res in replayed_traces:\n",
    "        m += res['missing_tokens']\n",
    "        c += res['consumed_tokens']\n",
    "        r += res['remaining_tokens']\n",
    "        p += res['produced_tokens']\n",
    "\n",
    "    # Final result as log fitness\n",
    "    tbr_fitness = 0.5*(1-m/c)+0.5*(1-r/p)\n",
    "    print(f\"The fitness of the model according to token-based replay is {tbr_fitness}\")\n",
    "    \n",
    "    return tbr_fitness\n",
    "\n",
    "# Calculate alignments-based conformance\n",
    "def alignments_conformance(log, pn, im, fm):\n",
    "    aligned_traces = alignments.apply_log(log, pn, im, fm)\n",
    "    alignments_fitness = replay_fitness.evaluate(aligned_traces, variant=replay_fitness.Variants.ALIGNMENT_BASED)['log_fitness']\n",
    "    print(f\"The fitness of the model according to alignments is {alignments_fitness}\")\n",
    "    return alignments_fitness"
   ]
  },
  {
   "cell_type": "code",
   "execution_count": null,
   "id": "097eb512",
   "metadata": {
    "pycharm": {
     "name": "#%%\n"
    }
   },
   "outputs": [],
   "source": [
    "# Footprints conformance\n",
    "calculate_conformance(fp_conformance, log_finished_cases, pn_full_hand, im_full_hand, fm_full_hand)"
   ]
  },
  {
   "cell_type": "code",
   "execution_count": null,
   "id": "3a4a6e0b",
   "metadata": {
    "pycharm": {
     "name": "#%%\n"
    }
   },
   "outputs": [],
   "source": [
    "# Token-based replay\n",
    "calculate_conformance(tbr_conformance, log_finished_cases, pn_full_hand, im_full_hand, fm_full_hand)"
   ]
  },
  {
   "cell_type": "code",
   "execution_count": null,
   "id": "4a20a388",
   "metadata": {
    "pycharm": {
     "name": "#%%\n"
    }
   },
   "outputs": [],
   "source": [
    "# Alignments\n",
    "calculate_conformance(alignments_conformance, log_finished_cases, pn_full_hand, im_full_hand, fm_full_hand)"
   ]
  },
  {
   "cell_type": "markdown",
   "id": "15d8d010",
   "metadata": {
    "pycharm": {
     "name": "#%% md\n"
    }
   },
   "source": [
    "# Question 3c"
   ]
  },
  {
   "cell_type": "code",
   "execution_count": null,
   "id": "44f6ad66",
   "metadata": {
    "pycharm": {
     "name": "#%%\n"
    }
   },
   "outputs": [],
   "source": [
    "# Import the logs and the models\n",
    "log_one_trace = xes_importer.apply(\"logs/one_trace_log.xes\")\n",
    "pn_flower, im_flower, fm_flower = pnml_importer.apply(\"models/flower.pnml\")"
   ]
  },
  {
   "cell_type": "code",
   "execution_count": null,
   "id": "9eb3d5c7",
   "metadata": {
    "pycharm": {
     "name": "#%%\n"
    }
   },
   "outputs": [],
   "source": [
    "# Log of finished cases and the flower model\n",
    "calculate_conformance(fp_conformance, log_finished_cases, pn_flower, im_flower, fm_flower)\n",
    "calculate_conformance(alignments_conformance, log_finished_cases, pn_flower, im_flower, fm_flower)"
   ]
  },
  {
   "cell_type": "code",
   "execution_count": null,
   "id": "bf195857",
   "metadata": {
    "pycharm": {
     "name": "#%%\n"
    }
   },
   "outputs": [],
   "source": [
    "# One-trace log and the full hand model\n",
    "calculate_conformance(tbr_conformance, log_one_trace, pn_full_hand, im_full_hand, fm_full_hand)\n",
    "calculate_conformance(alignments_conformance, log_one_trace, pn_full_hand, im_full_hand, fm_full_hand)"
   ]
  },
  {
   "cell_type": "code",
   "execution_count": null,
   "id": "93cd4907",
   "metadata": {
    "pycharm": {
     "name": "#%%\n"
    }
   },
   "outputs": [],
   "source": [
    "# Viewing the alignment of the one-trace log\n",
    "one_trace_align = alignments.apply(log_one_trace, pn_full_hand, im_full_hand, fm_full_hand)\n",
    "one_trace_align"
   ]
  },
  {
   "cell_type": "code",
   "execution_count": null,
   "id": "efe146f3",
   "metadata": {
    "pycharm": {
     "name": "#%%\n"
    }
   },
   "outputs": [],
   "source": [
    "# Viewing the token based replay of the one-trace log\n",
    "tokens = token_replay.apply(log_one_trace, pn_full_hand, im_full_hand, fm_full_hand)\n",
    "tokens"
   ]
  },
  {
   "cell_type": "markdown",
   "id": "e0fa0083",
   "metadata": {
    "pycharm": {
     "name": "#%% md\n"
    }
   },
   "source": [
    "# Performance"
   ]
  },
  {
   "cell_type": "code",
   "execution_count": 5,
   "id": "92cf385a",
   "metadata": {
    "pycharm": {
     "name": "#%%\n"
    }
   },
   "outputs": [],
   "source": [
    "#import the log\n",
    "log_illegal = xes_importer.apply(\"logs/log_resources.xes\", \n",
    "                                 parameters={'show_progress_bar':False})"
   ]
  },
  {
   "cell_type": "code",
   "execution_count": 6,
   "id": "4bd1165c",
   "metadata": {},
   "outputs": [],
   "source": [
    "#enhance the log with trace attribute \"illegal\"\n",
    "for i in range(len(log_illegal)):\n",
    "  flag = 0\n",
    "  for j in range(len(log_illegal[i])):\n",
    "    if (log_illegal[i][j]['concept:name'] == 'Insurance Check Statutory' or log_illegal[i][j]['concept:name'] == 'Send Invoice'):\n",
    "      flag += 1\n",
    "  if (flag == 2):\n",
    "    log_illegal[i].attributes['illegal']= True\n",
    "  else:\n",
    "    log_illegal[i].attributes['illegal']= False"
   ]
  },
  {
   "cell_type": "code",
   "execution_count": 7,
   "id": "df993935",
   "metadata": {},
   "outputs": [],
   "source": [
    "#enhance the log with event attribute \"illegal\"\n",
    "for i in range(len(log_illegal)):\n",
    "  for j in range(len(log_illegal[i])):\n",
    "    if (log_illegal[i].attributes['illegal'] == True):\n",
    "      log_illegal[i][j]['illegal'] = True"
   ]
  },
  {
   "cell_type": "code",
   "execution_count": 8,
   "id": "f6159fd4",
   "metadata": {},
   "outputs": [
    {
     "data": {
      "image/svg+xml": "<?xml version=\"1.0\" encoding=\"UTF-8\" standalone=\"no\"?>\n<!DOCTYPE svg PUBLIC \"-//W3C//DTD SVG 1.1//EN\"\n \"http://www.w3.org/Graphics/SVG/1.1/DTD/svg11.dtd\">\n<!-- Generated by graphviz version 3.0.0 (20220226.1711)\n -->\n<!-- Title: Tree Pages: 1 -->\n<svg width=\"1238pt\" height=\"790pt\"\n viewBox=\"0.00 0.00 1238.00 790.00\" xmlns=\"http://www.w3.org/2000/svg\" xmlns:xlink=\"http://www.w3.org/1999/xlink\">\n<g id=\"graph0\" class=\"graph\" transform=\"scale(1 1) rotate(0) translate(4 786)\">\n<title>Tree</title>\n<polygon fill=\"white\" stroke=\"transparent\" points=\"-4,4 -4,-786 1234,-786 1234,4 -4,4\"/>\n<!-- 0 -->\n<g id=\"node1\" class=\"node\">\n<title>0</title>\n<path fill=\"#e99457\" stroke=\"black\" d=\"M625,-782C625,-782 371,-782 371,-782 365,-782 359,-776 359,-770 359,-770 359,-711 359,-711 359,-705 365,-699 371,-699 371,-699 625,-699 625,-699 631,-699 637,-705 637,-711 637,-711 637,-770 637,-770 637,-776 631,-782 625,-782\"/>\n<text text-anchor=\"start\" x=\"367\" y=\"-766.8\" font-family=\"Helvetica,sans-Serif\" font-size=\"14.00\">event:concept:name@Send Invoice ≤ 0.5</text>\n<text text-anchor=\"start\" x=\"448\" y=\"-751.8\" font-family=\"Helvetica,sans-Serif\" font-size=\"14.00\">entropy = 0.557</text>\n<text text-anchor=\"start\" x=\"446.5\" y=\"-736.8\" font-family=\"Helvetica,sans-Serif\" font-size=\"14.00\">samples = 4648</text>\n<text text-anchor=\"start\" x=\"437\" y=\"-721.8\" font-family=\"Helvetica,sans-Serif\" font-size=\"14.00\">value = [4044, 604]</text>\n<text text-anchor=\"start\" x=\"455.5\" y=\"-706.8\" font-family=\"Helvetica,sans-Serif\" font-size=\"14.00\">class = False</text>\n</g>\n<!-- 1 -->\n<g id=\"node2\" class=\"node\">\n<title>1</title>\n<path fill=\"#e58139\" stroke=\"black\" d=\"M418,-655.5C418,-655.5 320,-655.5 320,-655.5 314,-655.5 308,-649.5 308,-643.5 308,-643.5 308,-599.5 308,-599.5 308,-593.5 314,-587.5 320,-587.5 320,-587.5 418,-587.5 418,-587.5 424,-587.5 430,-593.5 430,-599.5 430,-599.5 430,-643.5 430,-643.5 430,-649.5 424,-655.5 418,-655.5\"/>\n<text text-anchor=\"start\" x=\"327\" y=\"-640.3\" font-family=\"Helvetica,sans-Serif\" font-size=\"14.00\">entropy = 0.0</text>\n<text text-anchor=\"start\" x=\"317.5\" y=\"-625.3\" font-family=\"Helvetica,sans-Serif\" font-size=\"14.00\">samples = 3091</text>\n<text text-anchor=\"start\" x=\"316\" y=\"-610.3\" font-family=\"Helvetica,sans-Serif\" font-size=\"14.00\">value = [3091, 0]</text>\n<text text-anchor=\"start\" x=\"326.5\" y=\"-595.3\" font-family=\"Helvetica,sans-Serif\" font-size=\"14.00\">class = False</text>\n</g>\n<!-- 0&#45;&gt;1 -->\n<g id=\"edge1\" class=\"edge\">\n<title>0&#45;&gt;1</title>\n<path fill=\"none\" stroke=\"black\" d=\"M453.24,-698.91C440.23,-687.1 426.02,-674.22 413.05,-662.45\"/>\n<polygon fill=\"black\" stroke=\"black\" points=\"415.33,-659.79 405.57,-655.67 410.62,-664.98 415.33,-659.79\"/>\n<text text-anchor=\"middle\" x=\"406.79\" y=\"-676.94\" font-family=\"Helvetica,sans-Serif\" font-size=\"14.00\">True</text>\n</g>\n<!-- 2 -->\n<g id=\"node3\" class=\"node\">\n<title>2</title>\n<path fill=\"#f5d1b6\" stroke=\"black\" d=\"M796,-663C796,-663 460,-663 460,-663 454,-663 448,-657 448,-651 448,-651 448,-592 448,-592 448,-586 454,-580 460,-580 460,-580 796,-580 796,-580 802,-580 808,-586 808,-592 808,-592 808,-651 808,-651 808,-657 802,-663 796,-663\"/>\n<text text-anchor=\"start\" x=\"456\" y=\"-647.8\" font-family=\"Helvetica,sans-Serif\" font-size=\"14.00\">event:concept:name@Insurance Check Statutory ≤ 0.5</text>\n<text text-anchor=\"start\" x=\"578\" y=\"-632.8\" font-family=\"Helvetica,sans-Serif\" font-size=\"14.00\">entropy = 0.963</text>\n<text text-anchor=\"start\" x=\"576.5\" y=\"-617.8\" font-family=\"Helvetica,sans-Serif\" font-size=\"14.00\">samples = 1557</text>\n<text text-anchor=\"start\" x=\"571\" y=\"-602.8\" font-family=\"Helvetica,sans-Serif\" font-size=\"14.00\">value = [953, 604]</text>\n<text text-anchor=\"start\" x=\"585.5\" y=\"-587.8\" font-family=\"Helvetica,sans-Serif\" font-size=\"14.00\">class = False</text>\n</g>\n<!-- 0&#45;&gt;2 -->\n<g id=\"edge2\" class=\"edge\">\n<title>0&#45;&gt;2</title>\n<path fill=\"none\" stroke=\"black\" d=\"M543.1,-698.91C553.49,-689.56 564.62,-679.54 575.3,-669.93\"/>\n<polygon fill=\"black\" stroke=\"black\" points=\"577.89,-672.31 582.98,-663.02 573.2,-667.11 577.89,-672.31\"/>\n<text text-anchor=\"middle\" x=\"581.66\" y=\"-684.29\" font-family=\"Helvetica,sans-Serif\" font-size=\"14.00\">False</text>\n</g>\n<!-- 3 -->\n<g id=\"node4\" class=\"node\">\n<title>3</title>\n<path fill=\"#e99558\" stroke=\"black\" d=\"M607,-544C607,-544 257,-544 257,-544 251,-544 245,-538 245,-532 245,-532 245,-473 245,-473 245,-467 251,-461 257,-461 257,-461 607,-461 607,-461 613,-461 619,-467 619,-473 619,-473 619,-532 619,-532 619,-538 613,-544 607,-544\"/>\n<text text-anchor=\"start\" x=\"253\" y=\"-528.8\" font-family=\"Helvetica,sans-Serif\" font-size=\"14.00\">event:concept:name@Priority Appointment granted ≤ 0.5</text>\n<text text-anchor=\"start\" x=\"382\" y=\"-513.8\" font-family=\"Helvetica,sans-Serif\" font-size=\"14.00\">entropy = 0.574</text>\n<text text-anchor=\"start\" x=\"380.5\" y=\"-498.8\" font-family=\"Helvetica,sans-Serif\" font-size=\"14.00\">samples = 1096</text>\n<text text-anchor=\"start\" x=\"375\" y=\"-483.8\" font-family=\"Helvetica,sans-Serif\" font-size=\"14.00\">value = [947, 149]</text>\n<text text-anchor=\"start\" x=\"389.5\" y=\"-468.8\" font-family=\"Helvetica,sans-Serif\" font-size=\"14.00\">class = False</text>\n</g>\n<!-- 2&#45;&gt;3 -->\n<g id=\"edge3\" class=\"edge\">\n<title>2&#45;&gt;3</title>\n<path fill=\"none\" stroke=\"black\" d=\"M560,-579.91C543.43,-570.02 525.59,-559.37 508.65,-549.25\"/>\n<polygon fill=\"black\" stroke=\"black\" points=\"510.26,-546.14 499.88,-544.02 506.67,-552.15 510.26,-546.14\"/>\n</g>\n<!-- 14 -->\n<g id=\"node15\" class=\"node\">\n<title>14</title>\n<path fill=\"#3c9ee5\" stroke=\"black\" d=\"M999,-544C999,-544 649,-544 649,-544 643,-544 637,-538 637,-532 637,-532 637,-473 637,-473 637,-467 643,-461 649,-461 649,-461 999,-461 999,-461 1005,-461 1011,-467 1011,-473 1011,-473 1011,-532 1011,-532 1011,-538 1005,-544 999,-544\"/>\n<text text-anchor=\"start\" x=\"645\" y=\"-528.8\" font-family=\"Helvetica,sans-Serif\" font-size=\"14.00\">event:concept:name@Priority Appointment granted ≤ 0.5</text>\n<text text-anchor=\"start\" x=\"782\" y=\"-513.8\" font-family=\"Helvetica,sans-Serif\" font-size=\"14.00\">entropy = 0.1</text>\n<text text-anchor=\"start\" x=\"776.5\" y=\"-498.8\" font-family=\"Helvetica,sans-Serif\" font-size=\"14.00\">samples = 461</text>\n<text text-anchor=\"start\" x=\"775.5\" y=\"-483.8\" font-family=\"Helvetica,sans-Serif\" font-size=\"14.00\">value = [6, 455]</text>\n<text text-anchor=\"start\" x=\"784.5\" y=\"-468.8\" font-family=\"Helvetica,sans-Serif\" font-size=\"14.00\">class = True</text>\n</g>\n<!-- 2&#45;&gt;14 -->\n<g id=\"edge14\" class=\"edge\">\n<title>2&#45;&gt;14</title>\n<path fill=\"none\" stroke=\"black\" d=\"M696,-579.91C712.57,-570.02 730.41,-559.37 747.35,-549.25\"/>\n<polygon fill=\"black\" stroke=\"black\" points=\"749.33,-552.15 756.12,-544.02 745.74,-546.14 749.33,-552.15\"/>\n</g>\n<!-- 4 -->\n<g id=\"node5\" class=\"node\">\n<title>4</title>\n<path fill=\"#e58139\" stroke=\"black\" d=\"M377.5,-417.5C377.5,-417.5 288.5,-417.5 288.5,-417.5 282.5,-417.5 276.5,-411.5 276.5,-405.5 276.5,-405.5 276.5,-361.5 276.5,-361.5 276.5,-355.5 282.5,-349.5 288.5,-349.5 288.5,-349.5 377.5,-349.5 377.5,-349.5 383.5,-349.5 389.5,-355.5 389.5,-361.5 389.5,-361.5 389.5,-405.5 389.5,-405.5 389.5,-411.5 383.5,-417.5 377.5,-417.5\"/>\n<text text-anchor=\"start\" x=\"291\" y=\"-402.3\" font-family=\"Helvetica,sans-Serif\" font-size=\"14.00\">entropy = 0.0</text>\n<text text-anchor=\"start\" x=\"285.5\" y=\"-387.3\" font-family=\"Helvetica,sans-Serif\" font-size=\"14.00\">samples = 128</text>\n<text text-anchor=\"start\" x=\"284.5\" y=\"-372.3\" font-family=\"Helvetica,sans-Serif\" font-size=\"14.00\">value = [128, 0]</text>\n<text text-anchor=\"start\" x=\"290.5\" y=\"-357.3\" font-family=\"Helvetica,sans-Serif\" font-size=\"14.00\">class = False</text>\n</g>\n<!-- 3&#45;&gt;4 -->\n<g id=\"edge4\" class=\"edge\">\n<title>3&#45;&gt;4</title>\n<path fill=\"none\" stroke=\"black\" d=\"M397.65,-460.91C387.94,-449.43 377.37,-436.94 367.64,-425.44\"/>\n<polygon fill=\"black\" stroke=\"black\" points=\"370.2,-423.04 361.06,-417.67 364.85,-427.56 370.2,-423.04\"/>\n</g>\n<!-- 5 -->\n<g id=\"node6\" class=\"node\">\n<title>5</title>\n<path fill=\"#ea985d\" stroke=\"black\" d=\"M594.5,-425C594.5,-425 419.5,-425 419.5,-425 413.5,-425 407.5,-419 407.5,-413 407.5,-413 407.5,-354 407.5,-354 407.5,-348 413.5,-342 419.5,-342 419.5,-342 594.5,-342 594.5,-342 600.5,-342 606.5,-348 606.5,-354 606.5,-354 606.5,-413 606.5,-413 606.5,-419 600.5,-425 594.5,-425\"/>\n<text text-anchor=\"start\" x=\"415.5\" y=\"-409.8\" font-family=\"Helvetica,sans-Serif\" font-size=\"14.00\">event:HealthWorker@0 ≤ 0.5</text>\n<text text-anchor=\"start\" x=\"461\" y=\"-394.8\" font-family=\"Helvetica,sans-Serif\" font-size=\"14.00\">entropy = 0.62</text>\n<text text-anchor=\"start\" x=\"459.5\" y=\"-379.8\" font-family=\"Helvetica,sans-Serif\" font-size=\"14.00\">samples = 968</text>\n<text text-anchor=\"start\" x=\"450\" y=\"-364.8\" font-family=\"Helvetica,sans-Serif\" font-size=\"14.00\">value = [819, 149]</text>\n<text text-anchor=\"start\" x=\"464.5\" y=\"-349.8\" font-family=\"Helvetica,sans-Serif\" font-size=\"14.00\">class = False</text>\n</g>\n<!-- 3&#45;&gt;5 -->\n<g id=\"edge5\" class=\"edge\">\n<title>3&#45;&gt;5</title>\n<path fill=\"none\" stroke=\"black\" d=\"M458.02,-460.91C463.66,-452.1 469.69,-442.7 475.52,-433.61\"/>\n<polygon fill=\"black\" stroke=\"black\" points=\"478.57,-435.33 481.03,-425.02 472.68,-431.55 478.57,-435.33\"/>\n</g>\n<!-- 6 -->\n<g id=\"node7\" class=\"node\">\n<title>6</title>\n<path fill=\"#eca16b\" stroke=\"black\" d=\"M304,-306C304,-306 12,-306 12,-306 6,-306 0,-300 0,-294 0,-294 0,-235 0,-235 0,-229 6,-223 12,-223 12,-223 304,-223 304,-223 310,-223 316,-229 316,-235 316,-235 316,-294 316,-294 316,-300 310,-306 304,-306\"/>\n<text text-anchor=\"start\" x=\"8\" y=\"-290.8\" font-family=\"Helvetica,sans-Serif\" font-size=\"14.00\">event:concept:name@Decline vaccination ≤ 0.5</text>\n<text text-anchor=\"start\" x=\"108\" y=\"-275.8\" font-family=\"Helvetica,sans-Serif\" font-size=\"14.00\">entropy = 0.725</text>\n<text text-anchor=\"start\" x=\"110.5\" y=\"-260.8\" font-family=\"Helvetica,sans-Serif\" font-size=\"14.00\">samples = 228</text>\n<text text-anchor=\"start\" x=\"105\" y=\"-245.8\" font-family=\"Helvetica,sans-Serif\" font-size=\"14.00\">value = [182, 46]</text>\n<text text-anchor=\"start\" x=\"115.5\" y=\"-230.8\" font-family=\"Helvetica,sans-Serif\" font-size=\"14.00\">class = False</text>\n</g>\n<!-- 5&#45;&gt;6 -->\n<g id=\"edge6\" class=\"edge\">\n<title>5&#45;&gt;6</title>\n<path fill=\"none\" stroke=\"black\" d=\"M407.28,-345.23C404.15,-344.13 401.05,-343.05 398,-342 366.02,-330.97 331.45,-319.62 298.77,-309.15\"/>\n<polygon fill=\"black\" stroke=\"black\" points=\"299.75,-305.78 289.16,-306.07 297.62,-312.45 299.75,-305.78\"/>\n</g>\n<!-- 9 -->\n<g id=\"node10\" class=\"node\">\n<title>9</title>\n<path fill=\"#e99559\" stroke=\"black\" d=\"M705.5,-306C705.5,-306 346.5,-306 346.5,-306 340.5,-306 334.5,-300 334.5,-294 334.5,-294 334.5,-235 334.5,-235 334.5,-229 340.5,-223 346.5,-223 346.5,-223 705.5,-223 705.5,-223 711.5,-223 717.5,-229 717.5,-235 717.5,-235 717.5,-294 717.5,-294 717.5,-300 711.5,-306 705.5,-306\"/>\n<text text-anchor=\"start\" x=\"342.5\" y=\"-290.8\" font-family=\"Helvetica,sans-Serif\" font-size=\"14.00\">event:concept:name@Acknowledge vacc. possibility ≤ 0.5</text>\n<text text-anchor=\"start\" x=\"476\" y=\"-275.8\" font-family=\"Helvetica,sans-Serif\" font-size=\"14.00\">entropy = 0.582</text>\n<text text-anchor=\"start\" x=\"478.5\" y=\"-260.8\" font-family=\"Helvetica,sans-Serif\" font-size=\"14.00\">samples = 740</text>\n<text text-anchor=\"start\" x=\"469\" y=\"-245.8\" font-family=\"Helvetica,sans-Serif\" font-size=\"14.00\">value = [637, 103]</text>\n<text text-anchor=\"start\" x=\"483.5\" y=\"-230.8\" font-family=\"Helvetica,sans-Serif\" font-size=\"14.00\">class = False</text>\n</g>\n<!-- 5&#45;&gt;9 -->\n<g id=\"edge9\" class=\"edge\">\n<title>5&#45;&gt;9</title>\n<path fill=\"none\" stroke=\"black\" d=\"M513.59,-341.91C514.95,-333.56 516.39,-324.67 517.8,-316.02\"/>\n<polygon fill=\"black\" stroke=\"black\" points=\"521.27,-316.45 519.42,-306.02 514.36,-315.33 521.27,-316.45\"/>\n</g>\n<!-- 7 -->\n<g id=\"node8\" class=\"node\">\n<title>7</title>\n<path fill=\"#eb9f69\" stroke=\"black\" d=\"M192,-179.5C192,-179.5 94,-179.5 94,-179.5 88,-179.5 82,-173.5 82,-167.5 82,-167.5 82,-123.5 82,-123.5 82,-117.5 88,-111.5 94,-111.5 94,-111.5 192,-111.5 192,-111.5 198,-111.5 204,-117.5 204,-123.5 204,-123.5 204,-167.5 204,-167.5 204,-173.5 198,-179.5 192,-179.5\"/>\n<text text-anchor=\"start\" x=\"97\" y=\"-164.3\" font-family=\"Helvetica,sans-Serif\" font-size=\"14.00\">entropy = 0.71</text>\n<text text-anchor=\"start\" x=\"95.5\" y=\"-149.3\" font-family=\"Helvetica,sans-Serif\" font-size=\"14.00\">samples = 206</text>\n<text text-anchor=\"start\" x=\"90\" y=\"-134.3\" font-family=\"Helvetica,sans-Serif\" font-size=\"14.00\">value = [166, 40]</text>\n<text text-anchor=\"start\" x=\"100.5\" y=\"-119.3\" font-family=\"Helvetica,sans-Serif\" font-size=\"14.00\">class = False</text>\n</g>\n<!-- 6&#45;&gt;7 -->\n<g id=\"edge7\" class=\"edge\">\n<title>6&#45;&gt;7</title>\n<path fill=\"none\" stroke=\"black\" d=\"M152.8,-222.91C151.42,-212.2 149.94,-200.62 148.55,-189.78\"/>\n<polygon fill=\"black\" stroke=\"black\" points=\"152,-189.14 147.25,-179.67 145.05,-190.03 152,-189.14\"/>\n</g>\n<!-- 8 -->\n<g id=\"node9\" class=\"node\">\n<title>8</title>\n<path fill=\"#efb083\" stroke=\"black\" d=\"M326,-179.5C326,-179.5 234,-179.5 234,-179.5 228,-179.5 222,-173.5 222,-167.5 222,-167.5 222,-123.5 222,-123.5 222,-117.5 228,-111.5 234,-111.5 234,-111.5 326,-111.5 326,-111.5 332,-111.5 338,-117.5 338,-123.5 338,-123.5 338,-167.5 338,-167.5 338,-173.5 332,-179.5 326,-179.5\"/>\n<text text-anchor=\"start\" x=\"230\" y=\"-164.3\" font-family=\"Helvetica,sans-Serif\" font-size=\"14.00\">entropy = 0.845</text>\n<text text-anchor=\"start\" x=\"236.5\" y=\"-149.3\" font-family=\"Helvetica,sans-Serif\" font-size=\"14.00\">samples = 22</text>\n<text text-anchor=\"start\" x=\"235.5\" y=\"-134.3\" font-family=\"Helvetica,sans-Serif\" font-size=\"14.00\">value = [16, 6]</text>\n<text text-anchor=\"start\" x=\"237.5\" y=\"-119.3\" font-family=\"Helvetica,sans-Serif\" font-size=\"14.00\">class = False</text>\n</g>\n<!-- 6&#45;&gt;8 -->\n<g id=\"edge8\" class=\"edge\">\n<title>6&#45;&gt;8</title>\n<path fill=\"none\" stroke=\"black\" d=\"M200.33,-222.91C212.52,-211.21 225.82,-198.46 238,-186.78\"/>\n<polygon fill=\"black\" stroke=\"black\" points=\"240.62,-189.11 245.42,-179.67 235.78,-184.06 240.62,-189.11\"/>\n</g>\n<!-- 10 -->\n<g id=\"node11\" class=\"node\">\n<title>10</title>\n<path fill=\"#ea9a61\" stroke=\"black\" d=\"M582,-187C582,-187 402,-187 402,-187 396,-187 390,-181 390,-175 390,-175 390,-116 390,-116 390,-110 396,-104 402,-104 402,-104 582,-104 582,-104 588,-104 594,-110 594,-116 594,-116 594,-175 594,-175 594,-181 588,-187 582,-187\"/>\n<text text-anchor=\"start\" x=\"398\" y=\"-171.8\" font-family=\"Helvetica,sans-Serif\" font-size=\"14.00\">event:Insurance@STAT ≤ 0.5</text>\n<text text-anchor=\"start\" x=\"446\" y=\"-156.8\" font-family=\"Helvetica,sans-Serif\" font-size=\"14.00\">entropy = 0.65</text>\n<text text-anchor=\"start\" x=\"448.5\" y=\"-141.8\" font-family=\"Helvetica,sans-Serif\" font-size=\"14.00\">samples = 18</text>\n<text text-anchor=\"start\" x=\"447.5\" y=\"-126.8\" font-family=\"Helvetica,sans-Serif\" font-size=\"14.00\">value = [15, 3]</text>\n<text text-anchor=\"start\" x=\"449.5\" y=\"-111.8\" font-family=\"Helvetica,sans-Serif\" font-size=\"14.00\">class = False</text>\n</g>\n<!-- 9&#45;&gt;10 -->\n<g id=\"edge10\" class=\"edge\">\n<title>9&#45;&gt;10</title>\n<path fill=\"none\" stroke=\"black\" d=\"M514.2,-222.91C511.75,-214.47 509.14,-205.48 506.6,-196.74\"/>\n<polygon fill=\"black\" stroke=\"black\" points=\"509.93,-195.65 503.78,-187.02 503.2,-197.6 509.93,-195.65\"/>\n</g>\n<!-- 13 -->\n<g id=\"node14\" class=\"node\">\n<title>13</title>\n<path fill=\"#e99559\" stroke=\"black\" d=\"M730,-179.5C730,-179.5 624,-179.5 624,-179.5 618,-179.5 612,-173.5 612,-167.5 612,-167.5 612,-123.5 612,-123.5 612,-117.5 618,-111.5 624,-111.5 624,-111.5 730,-111.5 730,-111.5 736,-111.5 742,-117.5 742,-123.5 742,-123.5 742,-167.5 742,-167.5 742,-173.5 736,-179.5 730,-179.5\"/>\n<text text-anchor=\"start\" x=\"631\" y=\"-164.3\" font-family=\"Helvetica,sans-Serif\" font-size=\"14.00\">entropy = 0.58</text>\n<text text-anchor=\"start\" x=\"629.5\" y=\"-149.3\" font-family=\"Helvetica,sans-Serif\" font-size=\"14.00\">samples = 722</text>\n<text text-anchor=\"start\" x=\"620\" y=\"-134.3\" font-family=\"Helvetica,sans-Serif\" font-size=\"14.00\">value = [622, 100]</text>\n<text text-anchor=\"start\" x=\"634.5\" y=\"-119.3\" font-family=\"Helvetica,sans-Serif\" font-size=\"14.00\">class = False</text>\n</g>\n<!-- 9&#45;&gt;13 -->\n<g id=\"edge13\" class=\"edge\">\n<title>9&#45;&gt;13</title>\n<path fill=\"none\" stroke=\"black\" d=\"M578.39,-222.91C593.77,-210.99 610.57,-197.98 625.87,-186.12\"/>\n<polygon fill=\"black\" stroke=\"black\" points=\"628.43,-188.56 634.19,-179.67 624.15,-183.03 628.43,-188.56\"/>\n</g>\n<!-- 11 -->\n<g id=\"node12\" class=\"node\">\n<title>11</title>\n<path fill=\"#eb9d65\" stroke=\"black\" d=\"M471,-68C471,-68 379,-68 379,-68 373,-68 367,-62 367,-56 367,-56 367,-12 367,-12 367,-6 373,0 379,0 379,0 471,0 471,0 477,0 483,-6 483,-12 483,-12 483,-56 483,-56 483,-62 477,-68 471,-68\"/>\n<text text-anchor=\"start\" x=\"375\" y=\"-52.8\" font-family=\"Helvetica,sans-Serif\" font-size=\"14.00\">entropy = 0.684</text>\n<text text-anchor=\"start\" x=\"381.5\" y=\"-37.8\" font-family=\"Helvetica,sans-Serif\" font-size=\"14.00\">samples = 11</text>\n<text text-anchor=\"start\" x=\"384.5\" y=\"-22.8\" font-family=\"Helvetica,sans-Serif\" font-size=\"14.00\">value = [9, 2]</text>\n<text text-anchor=\"start\" x=\"382.5\" y=\"-7.8\" font-family=\"Helvetica,sans-Serif\" font-size=\"14.00\">class = False</text>\n</g>\n<!-- 10&#45;&gt;11 -->\n<g id=\"edge11\" class=\"edge\">\n<title>10&#45;&gt;11</title>\n<path fill=\"none\" stroke=\"black\" d=\"M467.05,-103.73C461.69,-94.97 456.02,-85.7 450.64,-76.91\"/>\n<polygon fill=\"black\" stroke=\"black\" points=\"453.58,-75 445.38,-68.3 447.61,-78.66 453.58,-75\"/>\n</g>\n<!-- 12 -->\n<g id=\"node13\" class=\"node\">\n<title>12</title>\n<path fill=\"#e9965a\" stroke=\"black\" d=\"M605,-68C605,-68 513,-68 513,-68 507,-68 501,-62 501,-56 501,-56 501,-12 501,-12 501,-6 507,0 513,0 513,0 605,0 605,0 611,0 617,-6 617,-12 617,-12 617,-56 617,-56 617,-62 611,-68 605,-68\"/>\n<text text-anchor=\"start\" x=\"509\" y=\"-52.8\" font-family=\"Helvetica,sans-Serif\" font-size=\"14.00\">entropy = 0.592</text>\n<text text-anchor=\"start\" x=\"519.5\" y=\"-37.8\" font-family=\"Helvetica,sans-Serif\" font-size=\"14.00\">samples = 7</text>\n<text text-anchor=\"start\" x=\"518.5\" y=\"-22.8\" font-family=\"Helvetica,sans-Serif\" font-size=\"14.00\">value = [6, 1]</text>\n<text text-anchor=\"start\" x=\"516.5\" y=\"-7.8\" font-family=\"Helvetica,sans-Serif\" font-size=\"14.00\">class = False</text>\n</g>\n<!-- 10&#45;&gt;12 -->\n<g id=\"edge12\" class=\"edge\">\n<title>10&#45;&gt;12</title>\n<path fill=\"none\" stroke=\"black\" d=\"M516.95,-103.73C522.31,-94.97 527.98,-85.7 533.36,-76.91\"/>\n<polygon fill=\"black\" stroke=\"black\" points=\"536.39,-78.66 538.62,-68.3 530.42,-75 536.39,-78.66\"/>\n</g>\n<!-- 15 -->\n<g id=\"node16\" class=\"node\">\n<title>15</title>\n<path fill=\"#399de5\" stroke=\"black\" d=\"M827.5,-417.5C827.5,-417.5 746.5,-417.5 746.5,-417.5 740.5,-417.5 734.5,-411.5 734.5,-405.5 734.5,-405.5 734.5,-361.5 734.5,-361.5 734.5,-355.5 740.5,-349.5 746.5,-349.5 746.5,-349.5 827.5,-349.5 827.5,-349.5 833.5,-349.5 839.5,-355.5 839.5,-361.5 839.5,-361.5 839.5,-405.5 839.5,-405.5 839.5,-411.5 833.5,-417.5 827.5,-417.5\"/>\n<text text-anchor=\"start\" x=\"745\" y=\"-402.3\" font-family=\"Helvetica,sans-Serif\" font-size=\"14.00\">entropy = 0.0</text>\n<text text-anchor=\"start\" x=\"743.5\" y=\"-387.3\" font-family=\"Helvetica,sans-Serif\" font-size=\"14.00\">samples = 69</text>\n<text text-anchor=\"start\" x=\"742.5\" y=\"-372.3\" font-family=\"Helvetica,sans-Serif\" font-size=\"14.00\">value = [0, 69]</text>\n<text text-anchor=\"start\" x=\"747.5\" y=\"-357.3\" font-family=\"Helvetica,sans-Serif\" font-size=\"14.00\">class = True</text>\n</g>\n<!-- 14&#45;&gt;15 -->\n<g id=\"edge15\" class=\"edge\">\n<title>14&#45;&gt;15</title>\n<path fill=\"none\" stroke=\"black\" d=\"M811.16,-460.91C807.74,-450.09 804.04,-438.38 800.58,-427.44\"/>\n<polygon fill=\"black\" stroke=\"black\" points=\"803.84,-426.15 797.49,-417.67 797.17,-428.26 803.84,-426.15\"/>\n</g>\n<!-- 16 -->\n<g id=\"node17\" class=\"node\">\n<title>16</title>\n<path fill=\"#3c9fe5\" stroke=\"black\" d=\"M1044.5,-425C1044.5,-425 869.5,-425 869.5,-425 863.5,-425 857.5,-419 857.5,-413 857.5,-413 857.5,-354 857.5,-354 857.5,-348 863.5,-342 869.5,-342 869.5,-342 1044.5,-342 1044.5,-342 1050.5,-342 1056.5,-348 1056.5,-354 1056.5,-354 1056.5,-413 1056.5,-413 1056.5,-419 1050.5,-425 1044.5,-425\"/>\n<text text-anchor=\"start\" x=\"865.5\" y=\"-409.8\" font-family=\"Helvetica,sans-Serif\" font-size=\"14.00\">event:HealthWorker@0 ≤ 0.5</text>\n<text text-anchor=\"start\" x=\"907\" y=\"-394.8\" font-family=\"Helvetica,sans-Serif\" font-size=\"14.00\">entropy = 0.114</text>\n<text text-anchor=\"start\" x=\"909.5\" y=\"-379.8\" font-family=\"Helvetica,sans-Serif\" font-size=\"14.00\">samples = 392</text>\n<text text-anchor=\"start\" x=\"908.5\" y=\"-364.8\" font-family=\"Helvetica,sans-Serif\" font-size=\"14.00\">value = [6, 386]</text>\n<text text-anchor=\"start\" x=\"917.5\" y=\"-349.8\" font-family=\"Helvetica,sans-Serif\" font-size=\"14.00\">class = True</text>\n</g>\n<!-- 14&#45;&gt;16 -->\n<g id=\"edge16\" class=\"edge\">\n<title>14&#45;&gt;16</title>\n<path fill=\"none\" stroke=\"black\" d=\"M870.14,-460.91C880.87,-451.47 892.38,-441.34 903.4,-431.65\"/>\n<polygon fill=\"black\" stroke=\"black\" points=\"905.74,-434.25 910.94,-425.02 901.12,-429 905.74,-434.25\"/>\n</g>\n<!-- 17 -->\n<g id=\"node18\" class=\"node\">\n<title>17</title>\n<path fill=\"#48a5e7\" stroke=\"black\" d=\"M1084,-306C1084,-306 792,-306 792,-306 786,-306 780,-300 780,-294 780,-294 780,-235 780,-235 780,-229 786,-223 792,-223 792,-223 1084,-223 1084,-223 1090,-223 1096,-229 1096,-235 1096,-235 1096,-294 1096,-294 1096,-300 1090,-306 1084,-306\"/>\n<text text-anchor=\"start\" x=\"788\" y=\"-290.8\" font-family=\"Helvetica,sans-Serif\" font-size=\"14.00\">event:concept:name@Decline vaccination ≤ 0.5</text>\n<text text-anchor=\"start\" x=\"888\" y=\"-275.8\" font-family=\"Helvetica,sans-Serif\" font-size=\"14.00\">entropy = 0.371</text>\n<text text-anchor=\"start\" x=\"894.5\" y=\"-260.8\" font-family=\"Helvetica,sans-Serif\" font-size=\"14.00\">samples = 14</text>\n<text text-anchor=\"start\" x=\"893.5\" y=\"-245.8\" font-family=\"Helvetica,sans-Serif\" font-size=\"14.00\">value = [1, 13]</text>\n<text text-anchor=\"start\" x=\"898.5\" y=\"-230.8\" font-family=\"Helvetica,sans-Serif\" font-size=\"14.00\">class = True</text>\n</g>\n<!-- 16&#45;&gt;17 -->\n<g id=\"edge17\" class=\"edge\">\n<title>16&#45;&gt;17</title>\n<path fill=\"none\" stroke=\"black\" d=\"M950.41,-341.91C949.05,-333.56 947.61,-324.67 946.2,-316.02\"/>\n<polygon fill=\"black\" stroke=\"black\" points=\"949.64,-315.33 944.58,-306.02 942.73,-316.45 949.64,-315.33\"/>\n</g>\n<!-- 20 -->\n<g id=\"node21\" class=\"node\">\n<title>20</title>\n<path fill=\"#3c9ee5\" stroke=\"black\" d=\"M1218,-298.5C1218,-298.5 1126,-298.5 1126,-298.5 1120,-298.5 1114,-292.5 1114,-286.5 1114,-286.5 1114,-242.5 1114,-242.5 1114,-236.5 1120,-230.5 1126,-230.5 1126,-230.5 1218,-230.5 1218,-230.5 1224,-230.5 1230,-236.5 1230,-242.5 1230,-242.5 1230,-286.5 1230,-286.5 1230,-292.5 1224,-298.5 1218,-298.5\"/>\n<text text-anchor=\"start\" x=\"1122\" y=\"-283.3\" font-family=\"Helvetica,sans-Serif\" font-size=\"14.00\">entropy = 0.102</text>\n<text text-anchor=\"start\" x=\"1124.5\" y=\"-268.3\" font-family=\"Helvetica,sans-Serif\" font-size=\"14.00\">samples = 378</text>\n<text text-anchor=\"start\" x=\"1123.5\" y=\"-253.3\" font-family=\"Helvetica,sans-Serif\" font-size=\"14.00\">value = [5, 373]</text>\n<text text-anchor=\"start\" x=\"1132.5\" y=\"-238.3\" font-family=\"Helvetica,sans-Serif\" font-size=\"14.00\">class = True</text>\n</g>\n<!-- 16&#45;&gt;20 -->\n<g id=\"edge20\" class=\"edge\">\n<title>16&#45;&gt;20</title>\n<path fill=\"none\" stroke=\"black\" d=\"M1037.79,-341.98C1059.75,-330.63 1083.42,-318.08 1105,-306 1106.33,-305.25 1107.68,-304.49 1109.04,-303.72\"/>\n<polygon fill=\"black\" stroke=\"black\" points=\"1111.14,-306.55 1118.06,-298.53 1107.65,-300.48 1111.14,-306.55\"/>\n</g>\n<!-- 18 -->\n<g id=\"node19\" class=\"node\">\n<title>18</title>\n<path fill=\"#4ba6e7\" stroke=\"black\" d=\"M902,-179.5C902,-179.5 810,-179.5 810,-179.5 804,-179.5 798,-173.5 798,-167.5 798,-167.5 798,-123.5 798,-123.5 798,-117.5 804,-111.5 810,-111.5 810,-111.5 902,-111.5 902,-111.5 908,-111.5 914,-117.5 914,-123.5 914,-123.5 914,-167.5 914,-167.5 914,-173.5 908,-179.5 902,-179.5\"/>\n<text text-anchor=\"start\" x=\"806\" y=\"-164.3\" font-family=\"Helvetica,sans-Serif\" font-size=\"14.00\">entropy = 0.414</text>\n<text text-anchor=\"start\" x=\"812.5\" y=\"-149.3\" font-family=\"Helvetica,sans-Serif\" font-size=\"14.00\">samples = 12</text>\n<text text-anchor=\"start\" x=\"811.5\" y=\"-134.3\" font-family=\"Helvetica,sans-Serif\" font-size=\"14.00\">value = [1, 11]</text>\n<text text-anchor=\"start\" x=\"816.5\" y=\"-119.3\" font-family=\"Helvetica,sans-Serif\" font-size=\"14.00\">class = True</text>\n</g>\n<!-- 17&#45;&gt;18 -->\n<g id=\"edge18\" class=\"edge\">\n<title>17&#45;&gt;18</title>\n<path fill=\"none\" stroke=\"black\" d=\"M909.55,-222.91C901.66,-211.65 893.09,-199.42 885.16,-188.11\"/>\n<polygon fill=\"black\" stroke=\"black\" points=\"887.85,-185.85 879.25,-179.67 882.12,-189.86 887.85,-185.85\"/>\n</g>\n<!-- 19 -->\n<g id=\"node20\" class=\"node\">\n<title>19</title>\n<path fill=\"#399de5\" stroke=\"black\" d=\"M1020,-179.5C1020,-179.5 944,-179.5 944,-179.5 938,-179.5 932,-173.5 932,-167.5 932,-167.5 932,-123.5 932,-123.5 932,-117.5 938,-111.5 944,-111.5 944,-111.5 1020,-111.5 1020,-111.5 1026,-111.5 1032,-117.5 1032,-123.5 1032,-123.5 1032,-167.5 1032,-167.5 1032,-173.5 1026,-179.5 1020,-179.5\"/>\n<text text-anchor=\"start\" x=\"940\" y=\"-164.3\" font-family=\"Helvetica,sans-Serif\" font-size=\"14.00\">entropy = 0.0</text>\n<text text-anchor=\"start\" x=\"942.5\" y=\"-149.3\" font-family=\"Helvetica,sans-Serif\" font-size=\"14.00\">samples = 2</text>\n<text text-anchor=\"start\" x=\"941.5\" y=\"-134.3\" font-family=\"Helvetica,sans-Serif\" font-size=\"14.00\">value = [0, 2]</text>\n<text text-anchor=\"start\" x=\"942.5\" y=\"-119.3\" font-family=\"Helvetica,sans-Serif\" font-size=\"14.00\">class = True</text>\n</g>\n<!-- 17&#45;&gt;19 -->\n<g id=\"edge19\" class=\"edge\">\n<title>17&#45;&gt;19</title>\n<path fill=\"none\" stroke=\"black\" d=\"M953.27,-222.91C957.37,-211.98 961.83,-200.14 965.98,-189.11\"/>\n<polygon fill=\"black\" stroke=\"black\" points=\"969.28,-190.26 969.53,-179.67 962.73,-187.79 969.28,-190.26\"/>\n</g>\n</g>\n</svg>\n",
      "text/plain": [
       "<graphviz.sources.Source at 0x22ff9f55f90>"
      ]
     },
     "execution_count": 8,
     "metadata": {},
     "output_type": "execute_result"
    }
   ],
   "source": [
    "data, feature_names = log_to_features.apply(log_illegal, parameters={\"str_ev_attr\": [\"concept:name\", \"Insurance\", \"HealthWorker\"]})\n",
    "target, classes = get_class_representation.get_class_representation_by_str_ev_attr_value_presence(log_illegal, \"illegal\", True)\n",
    "\n",
    "clf = tree.DecisionTreeClassifier(criterion=\"entropy\")\n",
    "clf.fit(data, target)\n",
    "gviz = dectree_visualizer.apply(clf, feature_names, classes)\n",
    "gviz"
   ]
  }
 ],
 "metadata": {
  "interpreter": {
   "hash": "6a7f1131990d63f7a0282f963edae92a519024c40dde972b53879b5aee803122"
  },
  "kernelspec": {
   "display_name": "Python 3.10.4 64-bit",
   "language": "python",
   "name": "python3"
  },
  "language_info": {
   "codemirror_mode": {
    "name": "ipython",
    "version": 3
   },
   "file_extension": ".py",
   "mimetype": "text/x-python",
   "name": "python",
   "nbconvert_exporter": "python",
   "pygments_lexer": "ipython3",
   "version": "3.10.4"
  }
 },
 "nbformat": 4,
 "nbformat_minor": 5
}
